{
 "cells": [
  {
   "cell_type": "code",
   "execution_count": 1,
   "metadata": {
    "pycharm": {
     "name": "#%%\n"
    }
   },
   "outputs": [],
   "source": [
    "import pathlib\n",
    "if (cwd := pathlib.Path().cwd()).parts[-1] == 'drafts':\n",
    "    import sys\n",
    "    sys.path.append(cwd.parent.as_posix())\n",
    "\n",
    "from pyspark import SparkConf\n",
    "from pyspark.sql import SparkSession\n",
    "from pyspark.ml.feature import PCA, VectorAssembler\n",
    "\n",
    "from pyspark.sql.functions import col\n",
    "from pyspark.ml.functions import vector_to_array\n",
    "\n",
    "data_folder = pathlib.Path('../data' if cwd.parts[-1] == 'drafts' else 'data')"
   ]
  },
  {
   "cell_type": "code",
   "execution_count": 2,
   "metadata": {
    "pycharm": {
     "name": "#%%\n"
    }
   },
   "outputs": [],
   "source": [
    "config = SparkConf().setAll([\n",
    "    # ('spark.executor.memory', '12g'),\n",
    "    ('spark.driver.memory','12g'),\n",
    "])"
   ]
  },
  {
   "cell_type": "code",
   "execution_count": 4,
   "metadata": {
    "pycharm": {
     "name": "#%%\n"
    }
   },
   "outputs": [
    {
     "data": {
      "text/html": [
       "\n",
       "            <div>\n",
       "                <p><b>SparkSession - in-memory</b></p>\n",
       "                \n",
       "        <div>\n",
       "            <p><b>SparkContext</b></p>\n",
       "\n",
       "            <p><a href=\"http://192.168.1.9:4040\">Spark UI</a></p>\n",
       "\n",
       "            <dl>\n",
       "              <dt>Version</dt>\n",
       "                <dd><code>v3.2.1</code></dd>\n",
       "              <dt>Master</dt>\n",
       "                <dd><code>local[*]</code></dd>\n",
       "              <dt>AppName</dt>\n",
       "                <dd><code>PySpark_PCA_compressor</code></dd>\n",
       "            </dl>\n",
       "        </div>\n",
       "        \n",
       "            </div>\n",
       "        "
      ],
      "text/plain": [
       "<pyspark.sql.session.SparkSession at 0x7fe5ddd0b2e0>"
      ]
     },
     "execution_count": 4,
     "metadata": {},
     "output_type": "execute_result"
    }
   ],
   "source": [
    "spark = SparkSession.builder\\\n",
    "    .appName('PySpark_PCA_compressor')\\\n",
    "    .config(conf=config)\\\n",
    "    .getOrCreate()\n",
    "spark"
   ]
  },
  {
   "cell_type": "code",
   "execution_count": 4,
   "metadata": {
    "pycharm": {
     "name": "#%%\n"
    }
   },
   "outputs": [
    {
     "name": "stderr",
     "output_type": "stream",
     "text": [
      "                                                                                \r"
     ]
    }
   ],
   "source": [
    "# load\n",
    "drop_feats = ['75', '81', '85', '139', '203']\n",
    "feats = spark.read.csv(data_folder.joinpath('features.csv').as_posix(), sep='\\t', header=True, inferSchema=True).drop('Unnamed: 0', *drop_feats)\n",
    "columns = feats.columns[3:]"
   ]
  },
  {
   "cell_type": "code",
   "execution_count": 32,
   "metadata": {
    "pycharm": {
     "name": "#%%\n"
    }
   },
   "outputs": [
    {
     "name": "stderr",
     "output_type": "stream",
     "text": [
      "                                                                                \r"
     ]
    }
   ],
   "source": [
    "# apply PCA\n",
    "assembler = VectorAssembler(inputCols=columns, outputCol='features')\n",
    "assembled = assembler.transform(feats)\n",
    "\n",
    "pca = PCA(k=3, inputCol='features', outputCol='compressed').fit(assembled)\n",
    "compressed = pca.transform(assembled)"
   ]
  },
  {
   "cell_type": "code",
   "execution_count": 25,
   "metadata": {
    "pycharm": {
     "name": "#%%\n"
    }
   },
   "outputs": [],
   "source": [
    "# collect features\n",
    "features = compressed.withColumn('f', vector_to_array('compressed'))\\\n",
    "                     .select(['id', 'buy_time'] + [col('f')[i].alias(f'{i}') for i in range(3)])"
   ]
  },
  {
   "cell_type": "code",
   "execution_count": 27,
   "metadata": {
    "pycharm": {
     "name": "#%%\n"
    }
   },
   "outputs": [
    {
     "name": "stderr",
     "output_type": "stream",
     "text": [
      "                                                                                \r"
     ]
    }
   ],
   "source": [
    "# save\n",
    "features.repartition(1).write.mode('overwrite').csv('compressed_features.csv', header=True, sep=',')"
   ]
  },
  {
   "cell_type": "code",
   "execution_count": 28,
   "metadata": {
    "pycharm": {
     "name": "#%%\n"
    }
   },
   "outputs": [
    {
     "name": "stdout",
     "output_type": "stream",
     "text": [
      "+-------+----------+--------------------+--------------------+--------------------+\n",
      "|     id|  buy_time|                   0|                   1|                   2|\n",
      "+-------+----------+--------------------+--------------------+--------------------+\n",
      "|2013026|1531688400|-8.444253424006808E8|-6.478667382867271E8|1.3497696940835571E9|\n",
      "|2014722|1539550800|-1.21539417372582...| 7.114047412611544E8| -1.89668587513758E8|\n",
      "|2015199|1545598800|-1.236285956670907E9| 7.607866375670496E8|-1.92144971960505...|\n",
      "|2021765|1534107600|-7.928709258349836E8|-6.997295869577612E8|-1.25276320669852...|\n",
      "|2027465|1533502800|  6.77941325548863E8|-2.63496346347243...|-8.669098698450881E7|\n",
      "|2028410|1534107600|   6.7794132555685E8|-2.63496346386207...| -8.66909870059191E7|\n",
      "|2030773|1544994000|-8.029734124193027E8|-7.027259167663276E8|-1.25541348890979...|\n",
      "|2032337|1537736400|-7.963488313823535E8|-7.007611096505101E8|-1.25367559456098...|\n",
      "|2033486|1545598800| 6.779413255575365E8|-2.63496346374613...|-8.669098699633926E7|\n",
      "|2034066|1544389200| 6.779413255654663E8|-2.63496346396156...|-8.669098700396547E7|\n",
      "|2034288|1536526800| 6.285844464050666E8|-2.166111621848077E8|1.2646471494530551E9|\n",
      "|2040873|1535317200| 6.779413255654114E8|-2.634963463972403E8|-8.669098700521727E7|\n",
      "|2045370|1531688400| 6.282910557524246E8|-2.16332463947274...|1.2726798691754673E9|\n",
      "|2046132|1534712400|2.4399262785267803E8| 1.205523446391883E9|-1.53508920932455...|\n",
      "|2048023|1542574800|-1.22051247829172...| 7.195849498226553E8| -1.90139346255126E8|\n",
      "|2048713|1534107600|-1.27073887758872...| 7.839823690906353E8|1.3159339934377785E9|\n",
      "|2050810|1540760400|-7.989158565251819E8|-7.015224724266822E8|-1.25434902866654...|\n",
      "|2052853|1542574800|-8.009860375826378E8|-7.021364757504234E8|-1.254892127706313E8|\n",
      "|2053765|1540155600|-7.986674347383606E8|-7.014487921637719E8|-1.254283857681735E8|\n",
      "|2070757|1540760400|  6.77941325550166E8|-2.63496346346297...|-8.669098698321198E7|\n",
      "+-------+----------+--------------------+--------------------+--------------------+\n",
      "only showing top 20 rows\n",
      "\n"
     ]
    }
   ],
   "source": [
    "features.show()"
   ]
  },
  {
   "cell_type": "code",
   "execution_count": null,
   "metadata": {
    "pycharm": {
     "name": "#%%\n"
    }
   },
   "outputs": [],
   "source": [
    "# На заметочку https://habr.com/ru/company/otus/blog/579008/"
   ]
  }
 ],
 "metadata": {
  "interpreter": {
   "hash": "625f6aa541ce7a5325053710078740a357292b5fc1db12ea0274779218b7749b"
  },
  "kernelspec": {
   "display_name": "Python 3.9.5 ('venv': venv)",
   "language": "python",
   "name": "python3"
  },
  "language_info": {
   "codemirror_mode": {
    "name": "ipython",
    "version": 3
   },
   "file_extension": ".py",
   "mimetype": "text/x-python",
   "name": "python",
   "nbconvert_exporter": "python",
   "pygments_lexer": "ipython3",
   "version": "3.9.5"
  },
  "orig_nbformat": 4
 },
 "nbformat": 4,
 "nbformat_minor": 2
}