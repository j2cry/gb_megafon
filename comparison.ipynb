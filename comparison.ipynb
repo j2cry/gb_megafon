{
 "cells": [
  {
   "cell_type": "markdown",
   "metadata": {},
   "source": [
    "\"классическое\" обучение - без распределенных вычислений на сжатых фичах"
   ]
  },
  {
   "cell_type": "code",
   "execution_count": 2,
   "metadata": {},
   "outputs": [],
   "source": [
    "import logging\n",
    "import pathlib\n",
    "import json\n",
    "import datetime as dt\n",
    "import pandas as pd\n",
    "\n",
    "from transformers import ColumnsCorrector\n",
    "from sklearn.pipeline import make_pipeline\n",
    "from sklearn.utils.class_weight import compute_class_weight\n",
    "from sklearn.model_selection import KFold, GridSearchCV\n",
    "\n",
    "from sklearn.metrics import f1_score\n",
    "from functools import partial\n",
    "from common import cv_fit, cv_compare\n",
    "from sklearn.linear_model import SGDClassifier\n",
    "from sklearn.ensemble import RandomForestClassifier, GradientBoostingClassifier\n",
    "from lightgbm import LGBMClassifier\n",
    "from xgboost import XGBClassifier\n",
    "from catboost import CatBoostClassifier\n",
    "\n",
    "data_folder = pathlib.Path('data')\n",
    "\n",
    "logging.basicConfig(filename='fit.logs', level=logging.INFO)"
   ]
  },
  {
   "cell_type": "code",
   "execution_count": 3,
   "metadata": {},
   "outputs": [],
   "source": [
    "# basic parameters\n",
    "bound_date = '2018-11-19'\n",
    "n_folds = 5"
   ]
  },
  {
   "cell_type": "markdown",
   "metadata": {},
   "source": [
    "## load data"
   ]
  },
  {
   "cell_type": "code",
   "execution_count": 4,
   "metadata": {},
   "outputs": [
    {
     "data": {
      "text/html": [
       "<div>\n",
       "<style scoped>\n",
       "    .dataframe tbody tr th:only-of-type {\n",
       "        vertical-align: middle;\n",
       "    }\n",
       "\n",
       "    .dataframe tbody tr th {\n",
       "        vertical-align: top;\n",
       "    }\n",
       "\n",
       "    .dataframe thead th {\n",
       "        text-align: right;\n",
       "    }\n",
       "</style>\n",
       "<table border=\"1\" class=\"dataframe\">\n",
       "  <thead>\n",
       "    <tr style=\"text-align: right;\">\n",
       "      <th></th>\n",
       "      <th>id</th>\n",
       "      <th>vas_id</th>\n",
       "      <th>buy_time</th>\n",
       "      <th>target</th>\n",
       "    </tr>\n",
       "  </thead>\n",
       "  <tbody>\n",
       "    <tr>\n",
       "      <th>220950</th>\n",
       "      <td>2442789</td>\n",
       "      <td>4.0</td>\n",
       "      <td>1542574800</td>\n",
       "      <td>1.0</td>\n",
       "    </tr>\n",
       "    <tr>\n",
       "      <th>112530</th>\n",
       "      <td>2461729</td>\n",
       "      <td>1.0</td>\n",
       "      <td>1542574800</td>\n",
       "      <td>0.0</td>\n",
       "    </tr>\n",
       "    <tr>\n",
       "      <th>762642</th>\n",
       "      <td>1954991</td>\n",
       "      <td>2.0</td>\n",
       "      <td>1542574800</td>\n",
       "      <td>1.0</td>\n",
       "    </tr>\n",
       "    <tr>\n",
       "      <th>530675</th>\n",
       "      <td>2189588</td>\n",
       "      <td>2.0</td>\n",
       "      <td>1542574800</td>\n",
       "      <td>1.0</td>\n",
       "    </tr>\n",
       "    <tr>\n",
       "      <th>762686</th>\n",
       "      <td>200964</td>\n",
       "      <td>1.0</td>\n",
       "      <td>1542574800</td>\n",
       "      <td>0.0</td>\n",
       "    </tr>\n",
       "  </tbody>\n",
       "</table>\n",
       "</div>"
      ],
      "text/plain": [
       "             id  vas_id    buy_time  target\n",
       "220950  2442789     4.0  1542574800     1.0\n",
       "112530  2461729     1.0  1542574800     0.0\n",
       "762642  1954991     2.0  1542574800     1.0\n",
       "530675  2189588     2.0  1542574800     1.0\n",
       "762686   200964     1.0  1542574800     0.0"
      ]
     },
     "execution_count": 4,
     "metadata": {},
     "output_type": "execute_result"
    }
   ],
   "source": [
    "# read train data\n",
    "train_data = pd.read_csv(data_folder.joinpath('data_train.csv')).drop('Unnamed: 0', axis=1)\n",
    "\n",
    "# extract required and sort train data\n",
    "used_mask = train_data['buy_time'] >= dt.datetime.fromisoformat(bound_date).timestamp()\n",
    "train_data = train_data[used_mask].sort_values(by='buy_time')\n",
    "\n",
    "train_data.head()"
   ]
  },
  {
   "cell_type": "code",
   "execution_count": 5,
   "metadata": {},
   "outputs": [
    {
     "data": {
      "text/html": [
       "<div>\n",
       "<style scoped>\n",
       "    .dataframe tbody tr th:only-of-type {\n",
       "        vertical-align: middle;\n",
       "    }\n",
       "\n",
       "    .dataframe tbody tr th {\n",
       "        vertical-align: top;\n",
       "    }\n",
       "\n",
       "    .dataframe thead th {\n",
       "        text-align: right;\n",
       "    }\n",
       "</style>\n",
       "<table border=\"1\" class=\"dataframe\">\n",
       "  <thead>\n",
       "    <tr style=\"text-align: right;\">\n",
       "      <th></th>\n",
       "      <th>id</th>\n",
       "      <th>buy_time</th>\n",
       "      <th>0</th>\n",
       "      <th>1</th>\n",
       "      <th>2</th>\n",
       "    </tr>\n",
       "  </thead>\n",
       "  <tbody>\n",
       "    <tr>\n",
       "      <th>4491432</th>\n",
       "      <td>382085</td>\n",
       "      <td>1531083600</td>\n",
       "      <td>-2.462147e+08</td>\n",
       "      <td>1.198001e+09</td>\n",
       "      <td>-1.531668e+08</td>\n",
       "    </tr>\n",
       "    <tr>\n",
       "      <th>1161905</th>\n",
       "      <td>3968934</td>\n",
       "      <td>1531083600</td>\n",
       "      <td>7.898899e+08</td>\n",
       "      <td>-6.988454e+08</td>\n",
       "      <td>-1.251981e+08</td>\n",
       "    </tr>\n",
       "    <tr>\n",
       "      <th>2176793</th>\n",
       "      <td>165505</td>\n",
       "      <td>1531083600</td>\n",
       "      <td>-6.779413e+08</td>\n",
       "      <td>-2.634963e+08</td>\n",
       "      <td>-8.669099e+07</td>\n",
       "    </tr>\n",
       "    <tr>\n",
       "      <th>3154089</th>\n",
       "      <td>2038465</td>\n",
       "      <td>1531083600</td>\n",
       "      <td>-6.779413e+08</td>\n",
       "      <td>-2.634963e+08</td>\n",
       "      <td>-8.669099e+07</td>\n",
       "    </tr>\n",
       "    <tr>\n",
       "      <th>2659959</th>\n",
       "      <td>2810048</td>\n",
       "      <td>1531083600</td>\n",
       "      <td>-6.779413e+08</td>\n",
       "      <td>-2.634963e+08</td>\n",
       "      <td>-8.669099e+07</td>\n",
       "    </tr>\n",
       "  </tbody>\n",
       "</table>\n",
       "</div>"
      ],
      "text/plain": [
       "              id    buy_time             0             1             2\n",
       "4491432   382085  1531083600 -2.462147e+08  1.198001e+09 -1.531668e+08\n",
       "1161905  3968934  1531083600  7.898899e+08 -6.988454e+08 -1.251981e+08\n",
       "2176793   165505  1531083600 -6.779413e+08 -2.634963e+08 -8.669099e+07\n",
       "3154089  2038465  1531083600 -6.779413e+08 -2.634963e+08 -8.669099e+07\n",
       "2659959  2810048  1531083600 -6.779413e+08 -2.634963e+08 -8.669099e+07"
      ]
     },
     "execution_count": 5,
     "metadata": {},
     "output_type": "execute_result"
    }
   ],
   "source": [
    "# read compressed features\n",
    "features = pd.read_csv(data_folder.joinpath('compressed_features.csv')).drop('Unnamed: 0', axis=1)\n",
    "\n",
    "# extract required and sort train data\n",
    "used_mask = features['id'].isin(train_data['id'].unique())\n",
    "features = features[used_mask].sort_values(by='buy_time')\n",
    "\n",
    "features.head()"
   ]
  },
  {
   "cell_type": "code",
   "execution_count": 15,
   "metadata": {},
   "outputs": [
    {
     "data": {
      "text/html": [
       "<div>\n",
       "<style scoped>\n",
       "    .dataframe tbody tr th:only-of-type {\n",
       "        vertical-align: middle;\n",
       "    }\n",
       "\n",
       "    .dataframe tbody tr th {\n",
       "        vertical-align: top;\n",
       "    }\n",
       "\n",
       "    .dataframe thead th {\n",
       "        text-align: right;\n",
       "    }\n",
       "</style>\n",
       "<table border=\"1\" class=\"dataframe\">\n",
       "  <thead>\n",
       "    <tr style=\"text-align: right;\">\n",
       "      <th></th>\n",
       "      <th>id</th>\n",
       "      <th>vas_id</th>\n",
       "      <th>buy_time</th>\n",
       "      <th>target</th>\n",
       "      <th>0</th>\n",
       "      <th>1</th>\n",
       "      <th>2</th>\n",
       "    </tr>\n",
       "  </thead>\n",
       "  <tbody>\n",
       "    <tr>\n",
       "      <th>0</th>\n",
       "      <td>2442789</td>\n",
       "      <td>4.0</td>\n",
       "      <td>1542574800</td>\n",
       "      <td>1.0</td>\n",
       "      <td>-2.517045e+08</td>\n",
       "      <td>1.179417e+09</td>\n",
       "      <td>-1.523215e+08</td>\n",
       "    </tr>\n",
       "    <tr>\n",
       "      <th>1</th>\n",
       "      <td>2461729</td>\n",
       "      <td>1.0</td>\n",
       "      <td>1542574800</td>\n",
       "      <td>0.0</td>\n",
       "      <td>-6.779413e+08</td>\n",
       "      <td>-2.634963e+08</td>\n",
       "      <td>-8.669099e+07</td>\n",
       "    </tr>\n",
       "    <tr>\n",
       "      <th>2</th>\n",
       "      <td>1954991</td>\n",
       "      <td>2.0</td>\n",
       "      <td>1542574800</td>\n",
       "      <td>1.0</td>\n",
       "      <td>-6.226397e+08</td>\n",
       "      <td>-2.109641e+08</td>\n",
       "      <td>1.427409e+09</td>\n",
       "    </tr>\n",
       "    <tr>\n",
       "      <th>3</th>\n",
       "      <td>2189588</td>\n",
       "      <td>2.0</td>\n",
       "      <td>1542574800</td>\n",
       "      <td>1.0</td>\n",
       "      <td>8.023110e+08</td>\n",
       "      <td>-7.025294e+08</td>\n",
       "      <td>-1.255240e+08</td>\n",
       "    </tr>\n",
       "    <tr>\n",
       "      <th>4</th>\n",
       "      <td>200964</td>\n",
       "      <td>1.0</td>\n",
       "      <td>1542574800</td>\n",
       "      <td>0.0</td>\n",
       "      <td>-2.481296e+08</td>\n",
       "      <td>1.191519e+09</td>\n",
       "      <td>-1.528719e+08</td>\n",
       "    </tr>\n",
       "  </tbody>\n",
       "</table>\n",
       "</div>"
      ],
      "text/plain": [
       "        id  vas_id    buy_time  target             0             1  \\\n",
       "0  2442789     4.0  1542574800     1.0 -2.517045e+08  1.179417e+09   \n",
       "1  2461729     1.0  1542574800     0.0 -6.779413e+08 -2.634963e+08   \n",
       "2  1954991     2.0  1542574800     1.0 -6.226397e+08 -2.109641e+08   \n",
       "3  2189588     2.0  1542574800     1.0  8.023110e+08 -7.025294e+08   \n",
       "4   200964     1.0  1542574800     0.0 -2.481296e+08  1.191519e+09   \n",
       "\n",
       "              2  \n",
       "0 -1.523215e+08  \n",
       "1 -8.669099e+07  \n",
       "2  1.427409e+09  \n",
       "3 -1.255240e+08  \n",
       "4 -1.528719e+08  "
      ]
     },
     "execution_count": 15,
     "metadata": {},
     "output_type": "execute_result"
    }
   ],
   "source": [
    "# merge\n",
    "merged = pd.merge_asof(train_data, features, by='id', on='buy_time', direction='nearest')\n",
    "\n",
    "# split into data/target & send to cluster\n",
    "data = merged.drop(['id', 'target'], axis=1)\n",
    "target = merged['target']\n",
    "logging.info(f'Merging method: NEAREST')\n",
    "\n",
    "merged.head()"
   ]
  },
  {
   "cell_type": "code",
   "execution_count": 7,
   "metadata": {},
   "outputs": [],
   "source": [
    "# # backward merge + fillna(mean)\n",
    "# merged = pd.merge_asof(train_data, features, by='id', on='buy_time', direction='backward')\n",
    "# merged.fillna(merged.mean(), inplace=True)\n",
    "\n",
    "# # split into data/target & send to cluster\n",
    "# data = merged.drop(['id', 'target'], axis=1)\n",
    "# target = merged['target']\n",
    "# logging.info(f'Merging method: BACKWARD. NaNs are filled with mean')\n",
    "\n",
    "# merged.head()"
   ]
  },
  {
   "cell_type": "code",
   "execution_count": 8,
   "metadata": {},
   "outputs": [],
   "source": [
    "# build featuring pipeline - if it is required to apply separately to train and valid data\n",
    "# pipeline = make_pipeline(ColumnsCorrector('drop', ['id', ]), )"
   ]
  },
  {
   "cell_type": "code",
   "execution_count": 9,
   "metadata": {},
   "outputs": [],
   "source": [
    "# prepare folds, class weights and scoring function\n",
    "class_weights = dict(enumerate(compute_class_weight('balanced', classes=[0, 1], y=target)))\n",
    "folds = KFold(n_splits=n_folds, shuffle=True, random_state=29)\n",
    "\n",
    "f1_macro = partial(f1_score, average='macro')"
   ]
  },
  {
   "cell_type": "markdown",
   "metadata": {},
   "source": [
    "## manual fit"
   ]
  },
  {
   "cell_type": "code",
   "execution_count": 21,
   "metadata": {},
   "outputs": [
    {
     "name": "stdout",
     "output_type": "stream",
     "text": [
      "Avg. f-score: 0.3590468367137458\n"
     ]
    }
   ],
   "source": [
    "estimator = SGDClassifier(random_state=17, n_jobs=-1, class_weight=class_weights,\n",
    "                        #   max_iter=500,\n",
    "                        #   loss='log',\n",
    "                        #   learning_rate='adaptive',\n",
    "                        #   eta0=0.1,\n",
    "                          )\n",
    "\n",
    "avg, metrics, models = cv_fit(estimator, data, target, cv=folds, scorer=f1_macro)\n",
    "logging.info(f'Manual: model={estimator.__class__.__name__}, parameters={estimator.get_params()}, score={avg}')\n",
    "print(f'Avg. f-score: {sum(metrics) / n_folds}')"
   ]
  },
  {
   "cell_type": "code",
   "execution_count": 22,
   "metadata": {},
   "outputs": [
    {
     "name": "stdout",
     "output_type": "stream",
     "text": [
      "Avg. f-score: 0.7122954789931877\n"
     ]
    }
   ],
   "source": [
    "estimator = GradientBoostingClassifier(random_state=17, loss='deviance',   # in newer versions of sklearn use 'log_loss' instead\n",
    "                                    #    n_estimators=100,\n",
    "                                    #    learning_rate=0.15,\n",
    "                                    #    max_depth=4,\n",
    "                                    #    min_samples_leaf=1\n",
    "                                       )\n",
    "\n",
    "avg, metrics, models = cv_fit(estimator, data, target, cv=folds, scorer=f1_macro)\n",
    "logging.info(f'Manual: model={estimator.__class__.__name__}, parameters={estimator.get_params()}, score={avg}')\n",
    "print(f'Avg. f-score: {sum(metrics) / n_folds}')"
   ]
  },
  {
   "cell_type": "code",
   "execution_count": 23,
   "metadata": {},
   "outputs": [
    {
     "name": "stdout",
     "output_type": "stream",
     "text": [
      "Avg. f-score: 0.7621558069832386\n"
     ]
    }
   ],
   "source": [
    "estimator = RandomForestClassifier(random_state=17, class_weight=class_weights, n_jobs=-1,\n",
    "                                #    n_estimators=100,\n",
    "                                #    max_depth=None,\n",
    "                                #    min_samples_leaf=1,\n",
    "                                   )\n",
    "\n",
    "avg, metrics, models = cv_fit(estimator, data, target, cv=folds, scorer=f1_macro)\n",
    "logging.info(f'Manual: model={estimator.__class__.__name__}, parameters={estimator.get_params()}, score={avg}')\n",
    "print(f'Avg. f-score: {sum(metrics) / n_folds}')"
   ]
  },
  {
   "cell_type": "code",
   "execution_count": 24,
   "metadata": {},
   "outputs": [
    {
     "name": "stdout",
     "output_type": "stream",
     "text": [
      "Avg. f-score: 0.7777611819511739\n"
     ]
    }
   ],
   "source": [
    "estimator = LGBMClassifier(random_state=17, class_weight=class_weights, n_jobs=-1,\n",
    "                        #    n_estimators=100,\n",
    "                        #    learning_rate=0.1,\n",
    "                        #    max_depth=-1,\n",
    "                        #    num_leaves=31\n",
    "                           )\n",
    "\n",
    "avg, metrics, models = cv_fit(estimator, data, target, cv=folds, scorer=f1_macro)\n",
    "logging.info(f'Manual: model={estimator.__class__.__name__}, parameters={estimator.get_params()}, score={avg}')\n",
    "print(f'Avg. f-score: {sum(metrics) / n_folds}')"
   ]
  },
  {
   "cell_type": "code",
   "execution_count": 25,
   "metadata": {},
   "outputs": [
    {
     "name": "stdout",
     "output_type": "stream",
     "text": [
      "Avg. f-score: 0.7175973181182661\n"
     ]
    }
   ],
   "source": [
    "estimator = XGBClassifier(random_state=17,\n",
    "                        #   max_depth=6,\n",
    "                        #   learning_rate=0.3,\n",
    "                          )\n",
    "\n",
    "avg, metrics, models = cv_fit(estimator, data, target, cv=folds, scorer=f1_macro)\n",
    "logging.info(f'Manual: model={estimator.__class__.__name__}, parameters={estimator.get_params()}, score={avg}')\n",
    "print(f'Avg. f-score: {sum(metrics) / n_folds}')"
   ]
  },
  {
   "cell_type": "code",
   "execution_count": 26,
   "metadata": {},
   "outputs": [
    {
     "name": "stdout",
     "output_type": "stream",
     "text": [
      "Avg. f-score: 0.7213276301212798\n"
     ]
    }
   ],
   "source": [
    "estimator = CatBoostClassifier(random_state=17, logging_level='Silent', allow_writing_files=False,\n",
    "                            #    n_estimators=500,\n",
    "                            #    learning_rate=0.2,\n",
    "                            #    max_depth=None,\n",
    "                            #    min_child_samples=20\n",
    "                               )\n",
    "\n",
    "avg, metrics, models = cv_fit(estimator, data, target, cv=folds, scorer=f1_macro)\n",
    "logging.info(f'Manual: model={estimator.__class__.__name__}, parameters={estimator.get_params()}, score={avg}')\n",
    "print(f'Avg. f-score: {sum(metrics) / n_folds}')"
   ]
  },
  {
   "cell_type": "markdown",
   "metadata": {},
   "source": [
    "На параметрах по умолчанию наилучший результат показывают LGBMClassifier и RandomForestClassifier.\n",
    "\n",
    "При этом метрика незначительно зависит от способа сопоставления фичей, и в основном способ `nearest` показывает лучший результат. Вероятно, это связано с отсутствием пропусков в данных в случае применения этого метода."
   ]
  },
  {
   "cell_type": "code",
   "execution_count": 11,
   "metadata": {},
   "outputs": [
    {
     "data": {
      "text/html": [
       "<div>\n",
       "<style scoped>\n",
       "    .dataframe tbody tr th:only-of-type {\n",
       "        vertical-align: middle;\n",
       "    }\n",
       "\n",
       "    .dataframe tbody tr th {\n",
       "        vertical-align: top;\n",
       "    }\n",
       "\n",
       "    .dataframe thead th {\n",
       "        text-align: right;\n",
       "    }\n",
       "</style>\n",
       "<table border=\"1\" class=\"dataframe\">\n",
       "  <thead>\n",
       "    <tr style=\"text-align: right;\">\n",
       "      <th></th>\n",
       "      <th>SGDClassifier</th>\n",
       "      <th>GradientBoostingClassifier</th>\n",
       "      <th>RandomForestClassifier</th>\n",
       "      <th>LGBMClassifier</th>\n",
       "      <th>XGBClassifier</th>\n",
       "      <th>CatBoostClassifier</th>\n",
       "    </tr>\n",
       "  </thead>\n",
       "  <tbody>\n",
       "    <tr>\n",
       "      <th>backward</th>\n",
       "      <td>0.332481</td>\n",
       "      <td>0.710183</td>\n",
       "      <td>0.766309</td>\n",
       "      <td>0.777602</td>\n",
       "      <td>0.714569</td>\n",
       "      <td>0.716206</td>\n",
       "    </tr>\n",
       "    <tr>\n",
       "      <th>nearest</th>\n",
       "      <td>0.359047</td>\n",
       "      <td>0.712295</td>\n",
       "      <td>0.762156</td>\n",
       "      <td>0.777761</td>\n",
       "      <td>0.717597</td>\n",
       "      <td>0.721328</td>\n",
       "    </tr>\n",
       "    <tr>\n",
       "      <th>N/B ratio</th>\n",
       "      <td>1.079902</td>\n",
       "      <td>1.002974</td>\n",
       "      <td>0.994581</td>\n",
       "      <td>1.000205</td>\n",
       "      <td>1.004238</td>\n",
       "      <td>1.007150</td>\n",
       "    </tr>\n",
       "  </tbody>\n",
       "</table>\n",
       "</div>"
      ],
      "text/plain": [
       "           SGDClassifier  GradientBoostingClassifier  RandomForestClassifier  \\\n",
       "backward        0.332481                    0.710183                0.766309   \n",
       "nearest         0.359047                    0.712295                0.762156   \n",
       "N/B ratio       1.079902                    1.002974                0.994581   \n",
       "\n",
       "           LGBMClassifier  XGBClassifier  CatBoostClassifier  \n",
       "backward         0.777602       0.714569            0.716206  \n",
       "nearest          0.777761       0.717597            0.721328  \n",
       "N/B ratio        1.000205       1.004238            1.007150  "
      ]
     },
     "execution_count": 11,
     "metadata": {},
     "output_type": "execute_result"
    }
   ],
   "source": [
    "df = pd.DataFrame(json.load(open('merge_method_metrics.json', 'r')), index=['backward', 'nearest']).T\n",
    "df['N/B ratio'] = df['nearest'] / df['backward']\n",
    "df.T"
   ]
  },
  {
   "cell_type": "markdown",
   "metadata": {},
   "source": [
    "## GridSearch"
   ]
  },
  {
   "cell_type": "code",
   "execution_count": 13,
   "metadata": {},
   "outputs": [
    {
     "data": {
      "text/html": [
       "<div>\n",
       "<style scoped>\n",
       "    .dataframe tbody tr th:only-of-type {\n",
       "        vertical-align: middle;\n",
       "    }\n",
       "\n",
       "    .dataframe tbody tr th {\n",
       "        vertical-align: top;\n",
       "    }\n",
       "\n",
       "    .dataframe thead th {\n",
       "        text-align: right;\n",
       "    }\n",
       "</style>\n",
       "<table border=\"1\" class=\"dataframe\">\n",
       "  <thead>\n",
       "    <tr style=\"text-align: right;\">\n",
       "      <th></th>\n",
       "      <th>model</th>\n",
       "      <th>GS score</th>\n",
       "      <th>CV score</th>\n",
       "    </tr>\n",
       "  </thead>\n",
       "  <tbody>\n",
       "    <tr>\n",
       "      <th>0</th>\n",
       "      <td>RandomForestClassifier</td>\n",
       "      <td>0.784422</td>\n",
       "      <td>0.762156</td>\n",
       "    </tr>\n",
       "    <tr>\n",
       "      <th>1</th>\n",
       "      <td>LGBMClassifier</td>\n",
       "      <td>0.777837</td>\n",
       "      <td>0.777761</td>\n",
       "    </tr>\n",
       "  </tbody>\n",
       "</table>\n",
       "</div>"
      ],
      "text/plain": [
       "                    model  GS score  CV score\n",
       "0  RandomForestClassifier  0.784422  0.762156\n",
       "1          LGBMClassifier  0.777837  0.777761"
      ]
     },
     "execution_count": 13,
     "metadata": {},
     "output_type": "execute_result"
    }
   ],
   "source": [
    "defaults = {\n",
    "    'random_state': 17,\n",
    "    'n_jobs': -1,\n",
    "    'class_weight': class_weights,\n",
    "}\n",
    "\n",
    "estimators = [\n",
    "    RandomForestClassifier(**defaults),\n",
    "    LGBMClassifier(**defaults)\n",
    "]\n",
    "\n",
    "# =============================================================\n",
    "# grids = [\n",
    "#     {       # RandomForest grid\n",
    "#         'n_estimators': [50, 100, 150],\n",
    "#         'max_depth': [None, 4, 6],\n",
    "#         'min_samples_leaf': [20, 31, 45, 60],\n",
    "\n",
    "#     }, {    # LGBM grid\n",
    "#         'n_estimators': [50, 100, 150],\n",
    "#         'learning_rate': [0.05, 0.1, 0.2, 0.3],\n",
    "#         'max_depth': [-1, 4, 6],\n",
    "#         'num_leaves': [20, 31, 45, 60],\n",
    "#     }\n",
    "# ]\n",
    "\n",
    "# =============================================================\n",
    "grids = [\n",
    "    {       # RandomForest grid\n",
    "        'n_estimators': [175, 200],\n",
    "        'max_depth': [None, 3, 4, 8],\n",
    "        'min_samples_leaf': [19, 31, 37],\n",
    "\n",
    "    }, {    # LGBM grid\n",
    "        'n_estimators': [50, 100, 125],\n",
    "        'learning_rate': [0.05, 0.15, 0.3],\n",
    "        'max_depth': [-1, 4, 6],\n",
    "        'num_leaves': [25, 31, 37],\n",
    "    }\n",
    "]\n",
    "\n",
    "# =============================================================\n",
    "\n",
    "comp, _ = cv_compare(estimators, data, target, grids=grids, cv=folds, scorer=f1_macro, logger=logging)\n",
    "pd.DataFrame(comp)"
   ]
  },
  {
   "cell_type": "code",
   "execution_count": 43,
   "metadata": {},
   "outputs": [],
   "source": [
    "#"
   ]
  }
 ],
 "metadata": {
  "interpreter": {
   "hash": "625f6aa541ce7a5325053710078740a357292b5fc1db12ea0274779218b7749b"
  },
  "kernelspec": {
   "display_name": "Python 3.9.5 ('venv': venv)",
   "language": "python",
   "name": "python3"
  },
  "language_info": {
   "codemirror_mode": {
    "name": "ipython",
    "version": 3
   },
   "file_extension": ".py",
   "mimetype": "text/x-python",
   "name": "python",
   "nbconvert_exporter": "python",
   "pygments_lexer": "ipython3",
   "version": "3.9.5"
  },
  "orig_nbformat": 4
 },
 "nbformat": 4,
 "nbformat_minor": 2
}
