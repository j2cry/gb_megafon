{
 "cells": [
  {
   "cell_type": "code",
   "execution_count": 1,
   "metadata": {},
   "outputs": [],
   "source": [
    "import sys\n",
    "import pathlib\n",
    "cwd = pathlib.Path().cwd()\n",
    "sys.path.append(cwd.parent.as_posix())\n",
    "data_folder = cwd.parent.joinpath('data')\n",
    "import pickle\n",
    "import dill\n",
    "import datetime as dt\n",
    "import pandas as pd\n",
    "from sklearn.metrics import f1_score\n",
    "\n",
    "from sklearn.utils.class_weight import compute_class_weight\n",
    "from sklearn.pipeline import make_pipeline\n",
    "from transformers import Merger, TimeDifference, ColumnsCorrector\n",
    "from sklearn.ensemble import RandomForestClassifier"
   ]
  },
  {
   "cell_type": "markdown",
   "metadata": {},
   "source": [
    "## airflow check"
   ]
  },
  {
   "cell_type": "code",
   "execution_count": 2,
   "metadata": {},
   "outputs": [
    {
     "data": {
      "text/plain": [
       "0.48438879518289135"
      ]
     },
     "execution_count": 2,
     "metadata": {},
     "output_type": "execute_result"
    }
   ],
   "source": [
    "# check metric\n",
    "model = pickle.load(open('model.pkl', 'rb'))\n",
    "\n",
    "# select part of train\n",
    "train = pd.read_csv(data_folder.joinpath('data_train.csv')).drop('Unnamed: 0', axis=1)\n",
    "train = train[train['buy_time'] >= dt.datetime.fromisoformat('2018-11-19').timestamp()]\n",
    "\n",
    "data = train.drop('target', axis=1)\n",
    "target = train['target']\n",
    "\n",
    "predicts = model.predict(data)\n",
    "f1_score(target, predicts, average='macro')"
   ]
  },
  {
   "cell_type": "markdown",
   "metadata": {},
   "source": [
    "## manual fit"
   ]
  },
  {
   "cell_type": "code",
   "execution_count": 22,
   "metadata": {},
   "outputs": [
    {
     "data": {
      "text/plain": [
       "0.6369033424389914"
      ]
     },
     "execution_count": 22,
     "metadata": {},
     "output_type": "execute_result"
    }
   ],
   "source": [
    "# read train data\n",
    "train_data = pd.read_csv(data_folder.joinpath('data_train.csv')).drop('Unnamed: 0', axis=1)\n",
    "# extract required train data\n",
    "used_mask = train_data['buy_time'] >= dt.datetime.fromisoformat('2018-11-19').timestamp()\n",
    "train_data = train_data[used_mask]\n",
    "target = train_data['target']\n",
    "\n",
    "# read compressed features\n",
    "features = pd.read_csv(data_folder.joinpath('compressed_features.csv'))\n",
    "\n",
    "class_weights = dict(enumerate(compute_class_weight('balanced', classes=[0, 1], y=target)))\n",
    "\n",
    "# build featuring pipeline\n",
    "pipeline = make_pipeline(\n",
    "    Merger(features, method='backward', fillna='nearest'),\n",
    "    TimeDifference('feats_time', 'train_time'),\n",
    "    # Clusterer(['0', '1', '2'], n_clusters=8, random_state=13),\n",
    "    ColumnsCorrector('drop', ['id', 'train_time', 'feats_time']),        \n",
    "    # LGBMClassifier(random_state=17, class_weight='balanced', n_jobs=-1, **fit_params)\n",
    "    RandomForestClassifier(random_state=17, class_weight=class_weights, n_jobs=-1)\n",
    ")\n",
    "# fit model\n",
    "data = train_data.drop('target', axis=1)\n",
    "pipeline.fit(data, target)\n",
    "pickle.dump(pipeline, open('manual.pkl', 'wb'))\n",
    "\n",
    "f1_score(target, pipeline.predict(data), average='macro')"
   ]
  },
  {
   "cell_type": "code",
   "execution_count": null,
   "metadata": {},
   "outputs": [],
   "source": [
    "# RF, NEAREST MERGE:                0.6340800413228457\n",
    "# RF: BACKWARD + NEAREST MERGE:     0.6369033424389914\n",
    "# RF: BACKWARD + MEAN (NO BOUND):   0.47112685412882693\n",
    "# RF: BACKWARD + NEAREST (NO BOUND):0.5657741096910924\n",
    "# "
   ]
  },
  {
   "cell_type": "code",
   "execution_count": 50,
   "metadata": {},
   "outputs": [],
   "source": []
  },
  {
   "cell_type": "code",
   "execution_count": 3,
   "metadata": {},
   "outputs": [
    {
     "data": {
      "text/plain": [
       "0.6369033424389914"
      ]
     },
     "execution_count": 3,
     "metadata": {},
     "output_type": "execute_result"
    }
   ],
   "source": [
    "model = pickle.load(open('manual.pkl', 'rb'))\n",
    "# select part of train\n",
    "train = pd.read_csv(data_folder.joinpath('data_train.csv')).drop('Unnamed: 0', axis=1)\n",
    "train = train[train['buy_time'] >= dt.datetime.fromisoformat('2018-11-19').timestamp()]\n",
    "\n",
    "data = train.drop('target', axis=1)\n",
    "target = train['target']\n",
    "\n",
    "predicts = model.predict(data)\n",
    "f1_score(target, predicts, average='macro')"
   ]
  },
  {
   "cell_type": "code",
   "execution_count": null,
   "metadata": {},
   "outputs": [],
   "source": [
    "#"
   ]
  }
 ],
 "metadata": {
  "interpreter": {
   "hash": "625f6aa541ce7a5325053710078740a357292b5fc1db12ea0274779218b7749b"
  },
  "kernelspec": {
   "display_name": "Python 3.9.5 ('venv': venv)",
   "language": "python",
   "name": "python3"
  },
  "language_info": {
   "codemirror_mode": {
    "name": "ipython",
    "version": 3
   },
   "file_extension": ".py",
   "mimetype": "text/x-python",
   "name": "python",
   "nbconvert_exporter": "python",
   "pygments_lexer": "ipython3",
   "version": "3.9.5"
  },
  "orig_nbformat": 4
 },
 "nbformat": 4,
 "nbformat_minor": 2
}
