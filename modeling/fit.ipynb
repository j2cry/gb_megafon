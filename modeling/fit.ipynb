{
 "cells": [
  {
   "cell_type": "code",
   "execution_count": 1,
   "metadata": {},
   "outputs": [],
   "source": [
    "import sys\n",
    "import pathlib\n",
    "cwd = pathlib.Path().cwd()\n",
    "sys.path.append(cwd.parent.as_posix())\n",
    "data_folder = cwd.parent.joinpath('data')\n",
    "\n",
    "import pickle\n",
    "import dill\n",
    "import datetime as dt\n",
    "import pandas as pd\n",
    "from sklearn.metrics import f1_score"
   ]
  },
  {
   "cell_type": "markdown",
   "metadata": {},
   "source": [
    "## check saved model"
   ]
  },
  {
   "cell_type": "code",
   "execution_count": 2,
   "metadata": {},
   "outputs": [
    {
     "data": {
      "text/plain": [
       "0.7712521004502624"
      ]
     },
     "execution_count": 2,
     "metadata": {},
     "output_type": "execute_result"
    }
   ],
   "source": [
    "# check metric\n",
    "model = pickle.load(open('model.pkl', 'rb'))\n",
    "# model = dill.load(open('model.dill', 'rb'))\n",
    "\n",
    "# select part of train\n",
    "train = pd.read_csv(data_folder.joinpath('data_train.csv')).drop('Unnamed: 0', axis=1)\n",
    "train = train[train['buy_time'] >= dt.datetime.fromisoformat('2018-11-19').timestamp()]\n",
    "\n",
    "data = train.drop('target', axis=1)\n",
    "target = train['target']\n",
    "\n",
    "predicts = model.predict(data)\n",
    "f1_score(target, predicts, average='macro')"
   ]
  },
  {
   "cell_type": "code",
   "execution_count": null,
   "metadata": {},
   "outputs": [],
   "source": [
    "#"
   ]
  }
 ],
 "metadata": {
  "interpreter": {
   "hash": "625f6aa541ce7a5325053710078740a357292b5fc1db12ea0274779218b7749b"
  },
  "kernelspec": {
   "display_name": "Python 3.9.5 ('venv': venv)",
   "language": "python",
   "name": "python3"
  },
  "language_info": {
   "codemirror_mode": {
    "name": "ipython",
    "version": 3
   },
   "file_extension": ".py",
   "mimetype": "text/x-python",
   "name": "python",
   "nbconvert_exporter": "python",
   "pygments_lexer": "ipython3",
   "version": "3.9.5"
  },
  "orig_nbformat": 4
 },
 "nbformat": 4,
 "nbformat_minor": 2
}
