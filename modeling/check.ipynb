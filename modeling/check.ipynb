{
 "cells": [
  {
   "cell_type": "code",
   "execution_count": 9,
   "metadata": {},
   "outputs": [],
   "source": [
    "import sys\n",
    "import pathlib\n",
    "cwd = pathlib.Path().cwd()\n",
    "sys.path.append(cwd.parent.as_posix())\n",
    "data_folder = cwd.parent.joinpath('data')\n",
    "\n",
    "import pickle\n",
    "import datetime as dt\n",
    "import pandas as pd\n",
    "from sklearn.metrics import f1_score, ConfusionMatrixDisplay"
   ]
  },
  {
   "cell_type": "markdown",
   "metadata": {},
   "source": [
    "## check saved model"
   ]
  },
  {
   "cell_type": "code",
   "execution_count": 10,
   "metadata": {},
   "outputs": [
    {
     "data": {
      "text/plain": [
       "0.7356782238055595"
      ]
     },
     "execution_count": 10,
     "metadata": {},
     "output_type": "execute_result"
    }
   ],
   "source": [
    "# check metric\n",
    "model = pickle.load(open('model.pkl', 'rb'))\n",
    "\n",
    "# select part of train\n",
    "train = pd.read_csv(data_folder.joinpath('data_train.csv')).drop('Unnamed: 0', axis=1)\n",
    "train = train[train['buy_time'] >= dt.datetime.fromisoformat('2018-11-19').timestamp()]\n",
    "\n",
    "data = train.drop('target', axis=1)\n",
    "target = train['target']\n",
    "\n",
    "predicts = model.predict(data)\n",
    "f1_score(target, predicts, average='macro')"
   ]
  },
  {
   "cell_type": "markdown",
   "metadata": {},
   "source": [
    "## Confusion matrix"
   ]
  },
  {
   "cell_type": "code",
   "execution_count": 11,
   "metadata": {},
   "outputs": [
    {
     "data": {
      "image/png": "[encoded data removed]",
      "text/plain": [
       "<Figure size 432x288 with 2 Axes>"
      ]
     },
     "metadata": {
      "needs_background": "light"
     },
     "output_type": "display_data"
    }
   ],
   "source": [
    "ConfusionMatrixDisplay.from_predictions(target, predicts, normalize='true');"
   ]
  },
  {
   "cell_type": "code",
   "execution_count": 12,
   "metadata": {},
   "outputs": [
    {
     "data": {
      "image/png": "[encoded data removed]",
      "text/plain": [
       "<Figure size 432x288 with 2 Axes>"
      ]
     },
     "metadata": {
      "needs_background": "light"
     },
     "output_type": "display_data"
    }
   ],
   "source": [
    "ConfusionMatrixDisplay.from_predictions(target, predicts, normalize='all');"
   ]
  },
  {
   "cell_type": "markdown",
   "metadata": {},
   "source": [
    "## crush test"
   ]
  },
  {
   "cell_type": "markdown",
   "metadata": {},
   "source": [
    "тест на данных до 19 ноября. Распределение спроса и предложения там другое, поэтому метрика должна быть хуже. Никакого практического смысла - просто интересно."
   ]
  },
  {
   "cell_type": "code",
   "execution_count": 13,
   "metadata": {},
   "outputs": [
    {
     "data": {
      "text/plain": [
       "0.6304235890748079"
      ]
     },
     "execution_count": 13,
     "metadata": {},
     "output_type": "execute_result"
    }
   ],
   "source": [
    "# check metric\n",
    "model = pickle.load(open('model.pkl', 'rb'))\n",
    "\n",
    "# select part of train\n",
    "train = pd.read_csv(data_folder.joinpath('data_train.csv')).drop('Unnamed: 0', axis=1)\n",
    "train = train[train['buy_time'] < dt.datetime.fromisoformat('2018-11-19').timestamp()]\n",
    "\n",
    "data = train.drop('target', axis=1)\n",
    "target = train['target']\n",
    "\n",
    "predicts = model.predict(data)\n",
    "f1_score(target, predicts, average='macro')"
   ]
  },
  {
   "cell_type": "code",
   "execution_count": 14,
   "metadata": {},
   "outputs": [],
   "source": [
    "#"
   ]
  }
 ],
 "metadata": {
  "kernelspec": {
   "display_name": "Python 3.9.13 ('venv': venv)",
   "language": "python",
   "name": "python3"
  },
  "language_info": {
   "codemirror_mode": {
    "name": "ipython",
    "version": 3
   },
   "file_extension": ".py",
   "mimetype": "text/x-python",
   "name": "python",
   "nbconvert_exporter": "python",
   "pygments_lexer": "ipython3",
   "version": "3.9.13"
  },
  "orig_nbformat": 4,
  "vscode": {
   "interpreter": {
    "hash": "d90a7511b44e26062c54f2bc9e753a4fcf24e14550b703ca1e7fb969fd68a2ad"
   }
  }
 },
 "nbformat": 4,
 "nbformat_minor": 2
}
