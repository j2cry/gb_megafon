{
 "cells": [
  {
   "cell_type": "code",
   "execution_count": 7,
   "metadata": {},
   "outputs": [],
   "source": [
    "import sys\n",
    "import pathlib\n",
    "cwd = pathlib.Path().cwd()\n",
    "sys.path.append(cwd.parent.as_posix())\n",
    "data_folder = cwd.parent.joinpath('data')\n",
    "\n",
    "import pickle\n",
    "import datetime as dt\n",
    "import pandas as pd\n",
    "from sklearn.metrics import f1_score, precision_score, recall_score, ConfusionMatrixDisplay"
   ]
  },
  {
   "cell_type": "markdown",
   "metadata": {},
   "source": [
    "## check saved model"
   ]
  },
  {
   "cell_type": "code",
   "execution_count": 9,
   "metadata": {},
   "outputs": [
    {
     "name": "stdout",
     "output_type": "stream",
     "text": [
      "f1_score: 0.7353814212732851\n",
      "precision: 0.45606350535191054\n",
      "recall: 0.7632856285028022\n"
     ]
    }
   ],
   "source": [
    "# check metric\n",
    "model = pickle.load(open('model.pkl', 'rb'))\n",
    "# model = dill.load(open('model.dill', 'rb'))\n",
    "\n",
    "# select part of train\n",
    "train = pd.read_csv(data_folder.joinpath('data_train.csv')).drop('Unnamed: 0', axis=1)\n",
    "train = train[train['buy_time'] >= dt.datetime.fromisoformat('2018-11-19').timestamp()]\n",
    "\n",
    "data = train.drop('target', axis=1)\n",
    "target = train['target']\n",
    "\n",
    "predicts = model.predict(data)\n",
    "print(f'f1_score: {f1_score(target, predicts, average=\"macro\")}\\n'\n",
    "      f'precision: {precision_score(target, predicts)}\\n'\n",
    "      f'recall: {recall_score(target, predicts)}')"
   ]
  },
  {
   "cell_type": "code",
   "execution_count": 20,
   "metadata": {},
   "outputs": [
    {
     "data": {
      "text/plain": [
       "<sklearn.metrics._plot.confusion_matrix.ConfusionMatrixDisplay at 0x7fa221155a00>"
      ]
     },
     "execution_count": 20,
     "metadata": {},
     "output_type": "execute_result"
    },
    {
     "data": {
      "image/png": "[encoded data removed]",
      "text/plain": [
       "<Figure size 432x288 with 2 Axes>"
      ]
     },
     "metadata": {
      "needs_background": "light"
     },
     "output_type": "display_data"
    }
   ],
   "source": [
    "ConfusionMatrixDisplay.from_predictions(target, predicts, normalize='true')"
   ]
  },
  {
   "cell_type": "markdown",
   "metadata": {},
   "source": [
    "## crush test"
   ]
  },
  {
   "cell_type": "markdown",
   "metadata": {},
   "source": [
    "тест на данных до 19 ноября. Распределение спроса и предложения там другое, поэтому метрика должна быть хуже."
   ]
  },
  {
   "cell_type": "code",
   "execution_count": 3,
   "metadata": {},
   "outputs": [
    {
     "data": {
      "text/plain": [
       "0.6297104793874788"
      ]
     },
     "execution_count": 3,
     "metadata": {},
     "output_type": "execute_result"
    }
   ],
   "source": [
    "# check metric\n",
    "model = pickle.load(open('model.pkl', 'rb'))\n",
    "# model = dill.load(open('model.dill', 'rb'))\n",
    "\n",
    "# select part of train\n",
    "train = pd.read_csv(data_folder.joinpath('data_train.csv')).drop('Unnamed: 0', axis=1)\n",
    "train = train[train['buy_time'] < dt.datetime.fromisoformat('2018-11-19').timestamp()]\n",
    "\n",
    "data = train.drop('target', axis=1)\n",
    "target = train['target']\n",
    "\n",
    "predicts = model.predict(data)\n",
    "f1_score(target, predicts, average='macro')"
   ]
  },
  {
   "cell_type": "code",
   "execution_count": null,
   "metadata": {},
   "outputs": [],
   "source": [
    "#"
   ]
  }
 ],
 "metadata": {
  "interpreter": {
   "hash": "640c51100e274691c95d806a7ccd6644471389bc5645617a235cf15fd8210a7a"
  },
  "kernelspec": {
   "display_name": "Python 3.9.5 ('venv': venv)",
   "language": "python",
   "name": "python3"
  },
  "language_info": {
   "codemirror_mode": {
    "name": "ipython",
    "version": 3
   },
   "file_extension": ".py",
   "mimetype": "text/x-python",
   "name": "python",
   "nbconvert_exporter": "python",
   "pygments_lexer": "ipython3",
   "version": "3.9.5"
  },
  "orig_nbformat": 4
 },
 "nbformat": 4,
 "nbformat_minor": 2
}
