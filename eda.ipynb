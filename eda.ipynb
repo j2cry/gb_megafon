{
 "cells": [
  {
   "cell_type": "code",
   "execution_count": 15,
   "metadata": {
    "collapsed": true,
    "pycharm": {
     "name": "#%%\n"
    }
   },
   "outputs": [],
   "source": [
    "import pathlib\n",
    "import datetime\n",
    "import calendar\n",
    "import numpy as np\n",
    "import pandas as pd\n",
    "import dask.dataframe as dd\n",
    "import matplotlib.pyplot as plt\n",
    "from sklearn.base import TransformerMixin\n",
    "\n",
    "data_folder = pathlib.Path('data')"
   ]
  },
  {
   "cell_type": "markdown",
   "metadata": {
    "collapsed": false,
    "pycharm": {
     "name": "#%% md\n"
    }
   },
   "source": [
    "## prepare data"
   ]
  },
  {
   "cell_type": "code",
   "execution_count": 3,
   "metadata": {
    "collapsed": false,
    "pycharm": {
     "name": "#%%\n"
    }
   },
   "outputs": [
    {
     "data": {
      "text/html": [
       "<div>\n",
       "<style scoped>\n",
       "    .dataframe tbody tr th:only-of-type {\n",
       "        vertical-align: middle;\n",
       "    }\n",
       "\n",
       "    .dataframe tbody tr th {\n",
       "        vertical-align: top;\n",
       "    }\n",
       "\n",
       "    .dataframe thead th {\n",
       "        text-align: right;\n",
       "    }\n",
       "</style>\n",
       "<table border=\"1\" class=\"dataframe\">\n",
       "  <thead>\n",
       "    <tr style=\"text-align: right;\">\n",
       "      <th></th>\n",
       "      <th>id</th>\n",
       "      <th>vas_id</th>\n",
       "      <th>buy_time</th>\n",
       "      <th>target</th>\n",
       "    </tr>\n",
       "  </thead>\n",
       "  <tbody>\n",
       "    <tr>\n",
       "      <th>0</th>\n",
       "      <td>540968</td>\n",
       "      <td>8.0</td>\n",
       "      <td>1537131600</td>\n",
       "      <td>0.0</td>\n",
       "    </tr>\n",
       "    <tr>\n",
       "      <th>1</th>\n",
       "      <td>1454121</td>\n",
       "      <td>4.0</td>\n",
       "      <td>1531688400</td>\n",
       "      <td>0.0</td>\n",
       "    </tr>\n",
       "  </tbody>\n",
       "</table>\n",
       "</div>"
      ],
      "text/plain": [
       "        id  vas_id    buy_time  target\n",
       "0   540968     8.0  1537131600     0.0\n",
       "1  1454121     4.0  1531688400     0.0"
      ]
     },
     "execution_count": 3,
     "metadata": {},
     "output_type": "execute_result"
    }
   ],
   "source": [
    "train = pd.read_csv(data_folder.joinpath('data_train.csv'), index_col='Unnamed: 0')\n",
    "train.head(2)"
   ]
  },
  {
   "cell_type": "code",
   "execution_count": 30,
   "metadata": {},
   "outputs": [
    {
     "name": "stdout",
     "output_type": "stream",
     "text": [
      "<class 'pandas.core.frame.DataFrame'>\n",
      "Int64Index: 831653 entries, 0 to 831652\n",
      "Data columns (total 4 columns):\n",
      " #   Column    Non-Null Count   Dtype  \n",
      "---  ------    --------------   -----  \n",
      " 0   id        831653 non-null  int64  \n",
      " 1   vas_id    831653 non-null  float64\n",
      " 2   buy_time  831653 non-null  int64  \n",
      " 3   target    831653 non-null  float64\n",
      "dtypes: float64(2), int64(2)\n",
      "memory usage: 31.7 MB\n"
     ]
    }
   ],
   "source": [
    "train.info()"
   ]
  },
  {
   "cell_type": "code",
   "execution_count": 4,
   "metadata": {},
   "outputs": [],
   "source": [
    "class TimestampRecast:\n",
    "    \"\"\" Recast timestamp to datetime \"\"\"\n",
    "    def fit_transform(self, X, y=None, **fit_params):\n",
    "        parse_buy_time = np.vectorize(datetime.datetime.fromtimestamp)\n",
    "        df = X.copy()\n",
    "        df['buy_time'] = parse_buy_time(df['buy_time'])\n",
    "        return df"
   ]
  },
  {
   "cell_type": "code",
   "execution_count": 5,
   "metadata": {
    "collapsed": false,
    "pycharm": {
     "name": "#%%\n"
    }
   },
   "outputs": [],
   "source": [
    "class SimplestPreparer(TransformerMixin):\n",
    "    \"\"\" The simplest data transformations \"\"\"\n",
    "\n",
    "    def fit_transform(self, X, y=None, **fit_params):\n",
    "        parse_buy_time = np.vectorize(datetime.datetime.fromtimestamp)\n",
    "        df = X.copy()\n",
    "        # recast types\n",
    "        df['vas_id'] = df['vas_id'].astype('int')\n",
    "        if 'target' in df.columns:\n",
    "            df['target'] = df['target'].astype('int')\n",
    "\n",
    "        # parse buy timestamp\n",
    "        df['buy_time'] = parse_buy_time(df['buy_time'])\n",
    "        # index weeks\n",
    "        # df['week_no'] = df['buy_time'].astype('category').cat.codes + 1\n",
    "        # get months\n",
    "        df['buy_time'].apply(lambda val: val.month)\n",
    "        return df"
   ]
  },
  {
   "cell_type": "code",
   "execution_count": 6,
   "metadata": {
    "collapsed": false,
    "pycharm": {
     "name": "#%%\n"
    }
   },
   "outputs": [
    {
     "data": {
      "text/html": [
       "<div>\n",
       "<style scoped>\n",
       "    .dataframe tbody tr th:only-of-type {\n",
       "        vertical-align: middle;\n",
       "    }\n",
       "\n",
       "    .dataframe tbody tr th {\n",
       "        vertical-align: top;\n",
       "    }\n",
       "\n",
       "    .dataframe thead th {\n",
       "        text-align: right;\n",
       "    }\n",
       "</style>\n",
       "<table border=\"1\" class=\"dataframe\">\n",
       "  <thead>\n",
       "    <tr style=\"text-align: right;\">\n",
       "      <th></th>\n",
       "      <th>id</th>\n",
       "      <th>vas_id</th>\n",
       "      <th>buy_time</th>\n",
       "      <th>target</th>\n",
       "    </tr>\n",
       "  </thead>\n",
       "  <tbody>\n",
       "    <tr>\n",
       "      <th>0</th>\n",
       "      <td>540968</td>\n",
       "      <td>8</td>\n",
       "      <td>2018-09-17</td>\n",
       "      <td>0</td>\n",
       "    </tr>\n",
       "    <tr>\n",
       "      <th>1</th>\n",
       "      <td>1454121</td>\n",
       "      <td>4</td>\n",
       "      <td>2018-07-16</td>\n",
       "      <td>0</td>\n",
       "    </tr>\n",
       "  </tbody>\n",
       "</table>\n",
       "</div>"
      ],
      "text/plain": [
       "        id  vas_id   buy_time  target\n",
       "0   540968       8 2018-09-17       0\n",
       "1  1454121       4 2018-07-16       0"
      ]
     },
     "execution_count": 6,
     "metadata": {},
     "output_type": "execute_result"
    }
   ],
   "source": [
    "train = pd.read_csv(data_folder.joinpath('data_train.csv'), index_col='Unnamed: 0')\n",
    "train = SimplestPreparer().fit_transform(train)\n",
    "train.head(2)"
   ]
  },
  {
   "cell_type": "code",
   "execution_count": 62,
   "metadata": {},
   "outputs": [
    {
     "data": {
      "text/html": [
       "<div>\n",
       "<style scoped>\n",
       "    .dataframe tbody tr th:only-of-type {\n",
       "        vertical-align: middle;\n",
       "    }\n",
       "\n",
       "    .dataframe tbody tr th {\n",
       "        vertical-align: top;\n",
       "    }\n",
       "\n",
       "    .dataframe thead th {\n",
       "        text-align: right;\n",
       "    }\n",
       "</style>\n",
       "<table border=\"1\" class=\"dataframe\">\n",
       "  <thead>\n",
       "    <tr style=\"text-align: right;\">\n",
       "      <th></th>\n",
       "      <th>id</th>\n",
       "      <th>vas_id</th>\n",
       "      <th>buy_time</th>\n",
       "    </tr>\n",
       "  </thead>\n",
       "  <tbody>\n",
       "    <tr>\n",
       "      <th>0</th>\n",
       "      <td>3130519</td>\n",
       "      <td>2</td>\n",
       "      <td>2019-01-21</td>\n",
       "    </tr>\n",
       "    <tr>\n",
       "      <th>1</th>\n",
       "      <td>2000860</td>\n",
       "      <td>4</td>\n",
       "      <td>2019-01-21</td>\n",
       "    </tr>\n",
       "  </tbody>\n",
       "</table>\n",
       "</div>"
      ],
      "text/plain": [
       "        id  vas_id   buy_time\n",
       "0  3130519       2 2019-01-21\n",
       "1  2000860       4 2019-01-21"
      ]
     },
     "execution_count": 62,
     "metadata": {},
     "output_type": "execute_result"
    }
   ],
   "source": [
    "test = pd.read_csv(data_folder.joinpath('data_test.csv'), index_col='Unnamed: 0')\n",
    "test = SimplestPreparer().fit_transform(test)\n",
    "test.head(2)"
   ]
  },
  {
   "cell_type": "code",
   "execution_count": 7,
   "metadata": {},
   "outputs": [],
   "source": [
    "# # save\n",
    "# train['buy_time'] = train['buy_time'].apply(lambda val: str(val.date()))\n",
    "# train.to_csv(data_folder.joinpath('train_prepared.csv'), index=False)"
   ]
  },
  {
   "cell_type": "markdown",
   "metadata": {
    "collapsed": false,
    "pycharm": {
     "name": "#%% md\n"
    }
   },
   "source": [
    "## Exploratory data analysis"
   ]
  },
  {
   "cell_type": "markdown",
   "metadata": {},
   "source": [
    "Ниже представлена только программная часть анализа. Графики представлены в дашбордах:\n",
    "https://public.tableau.com/app/profile/peter3691/viz/megafon"
   ]
  },
  {
   "cell_type": "code",
   "execution_count": 8,
   "metadata": {},
   "outputs": [
    {
     "name": "stdout",
     "output_type": "stream",
     "text": [
      "Users count in train: 806613\n",
      "Users count in test: 70152\n",
      "Cold users count in test: 4188\n",
      "Products train/test difference: None\n",
      "Total products count: 8\n"
     ]
    }
   ],
   "source": [
    "# train users count\n",
    "print(f\"Users count in train: {train['id'].nunique()}\")\n",
    "print(f\"Users count in test: {test['id'].nunique()}\")\n",
    "\n",
    "# cold users\n",
    "cold_users_mask = test['id'].isin(train['id'].unique())\n",
    "print(f\"Cold users count in test: {test.loc[cold_users_mask, 'id'].nunique()}\")\n",
    "\n",
    "# vas_id difference\n",
    "diff = set(train['vas_id']) ^ set(test['vas_id'])\n",
    "print(f\"Products train/test difference: {diff if diff else None}\")\n",
    "\n",
    "# total products count\n",
    "print(f\"Total products count: {train['vas_id'].nunique()}\")"
   ]
  },
  {
   "cell_type": "code",
   "execution_count": 9,
   "metadata": {
    "collapsed": false,
    "pycharm": {
     "name": "#%%\n"
    }
   },
   "outputs": [
    {
     "data": {
      "text/plain": [
       "Monday    831653\n",
       "Name: buy_time, dtype: int64"
      ]
     },
     "execution_count": 9,
     "metadata": {},
     "output_type": "execute_result"
    }
   ],
   "source": [
    "# count weekdays\n",
    "train['buy_time'].apply(lambda val: calendar.day_name[val.weekday()]).value_counts()"
   ]
  },
  {
   "cell_type": "code",
   "execution_count": 10,
   "metadata": {},
   "outputs": [
    {
     "name": "stdout",
     "output_type": "stream",
     "text": [
      "First date: 2018-07-09\n",
      "Last date:  2018-12-31\n",
      "Months in data: 6\n",
      "Weeks in data: 26\n"
     ]
    }
   ],
   "source": [
    "# min/max date\n",
    "mn, mx = train['buy_time'].min(), train['buy_time'].max()\n",
    "print(f'First date: {mn.date()}', f'Last date:  {mx.date()}', sep='\\n')\n",
    "print(f\"Months in data: {train['buy_time'].apply(lambda val: val.month).nunique()}\")\n",
    "print(f\"Weeks in data: {train['buy_time'].nunique()}\")"
   ]
  },
  {
   "cell_type": "markdown",
   "metadata": {},
   "source": [
    "в buy_time только понедельники. Видимо по понедельникам отрабатывает пайплайн аггрегации данных.\n",
    "Следовательно, изучить данные в разрезе дней недели не выйдет.\n",
    "Данные представлены только за часть 2018 года и охватывают разброс в 6 месяцев.\n",
    "Поскольку данные уже аггрегированы по неделям, динамика за месяц может быть смазана, поэтому буду рассматривать динамику по неделям. \n",
    "Для удобства проиндексирую недели, начиная с единицы."
   ]
  },
  {
   "cell_type": "code",
   "execution_count": 11,
   "metadata": {},
   "outputs": [
    {
     "data": {
      "text/html": [
       "<div>\n",
       "<style scoped>\n",
       "    .dataframe tbody tr th:only-of-type {\n",
       "        vertical-align: middle;\n",
       "    }\n",
       "\n",
       "    .dataframe tbody tr th {\n",
       "        vertical-align: top;\n",
       "    }\n",
       "\n",
       "    .dataframe thead th {\n",
       "        text-align: right;\n",
       "    }\n",
       "</style>\n",
       "<table border=\"1\" class=\"dataframe\">\n",
       "  <thead>\n",
       "    <tr style=\"text-align: right;\">\n",
       "      <th></th>\n",
       "      <th>first</th>\n",
       "      <th>last</th>\n",
       "    </tr>\n",
       "    <tr>\n",
       "      <th>vas_id</th>\n",
       "      <th></th>\n",
       "      <th></th>\n",
       "    </tr>\n",
       "  </thead>\n",
       "  <tbody>\n",
       "    <tr>\n",
       "      <th>1</th>\n",
       "      <td>2018-07-09</td>\n",
       "      <td>2018-12-31</td>\n",
       "    </tr>\n",
       "    <tr>\n",
       "      <th>2</th>\n",
       "      <td>2018-07-09</td>\n",
       "      <td>2018-12-31</td>\n",
       "    </tr>\n",
       "    <tr>\n",
       "      <th>4</th>\n",
       "      <td>2018-07-09</td>\n",
       "      <td>2018-12-31</td>\n",
       "    </tr>\n",
       "    <tr>\n",
       "      <th>5</th>\n",
       "      <td>2018-07-09</td>\n",
       "      <td>2018-12-31</td>\n",
       "    </tr>\n",
       "    <tr>\n",
       "      <th>6</th>\n",
       "      <td>2018-07-09</td>\n",
       "      <td>2018-12-31</td>\n",
       "    </tr>\n",
       "    <tr>\n",
       "      <th>7</th>\n",
       "      <td>2018-08-27</td>\n",
       "      <td>2018-12-31</td>\n",
       "    </tr>\n",
       "    <tr>\n",
       "      <th>8</th>\n",
       "      <td>2018-07-09</td>\n",
       "      <td>2018-12-31</td>\n",
       "    </tr>\n",
       "    <tr>\n",
       "      <th>9</th>\n",
       "      <td>2018-07-09</td>\n",
       "      <td>2018-12-31</td>\n",
       "    </tr>\n",
       "  </tbody>\n",
       "</table>\n",
       "</div>"
      ],
      "text/plain": [
       "            first       last\n",
       "vas_id                      \n",
       "1      2018-07-09 2018-12-31\n",
       "2      2018-07-09 2018-12-31\n",
       "4      2018-07-09 2018-12-31\n",
       "5      2018-07-09 2018-12-31\n",
       "6      2018-07-09 2018-12-31\n",
       "7      2018-08-27 2018-12-31\n",
       "8      2018-07-09 2018-12-31\n",
       "9      2018-07-09 2018-12-31"
      ]
     },
     "execution_count": 11,
     "metadata": {},
     "output_type": "execute_result"
    }
   ],
   "source": [
    "# date of first/last sale\n",
    "first = train.groupby('vas_id')['buy_time'].min()\n",
    "last = train.groupby('vas_id')['buy_time'].max()\n",
    "pd.DataFrame([first, last], index=['first', 'last']).T"
   ]
  },
  {
   "cell_type": "markdown",
   "metadata": {},
   "source": [
    "Даты первой и последней продаж совпадают с границами датасета практически для всех услуг"
   ]
  },
  {
   "cell_type": "code",
   "execution_count": 84,
   "metadata": {},
   "outputs": [
    {
     "name": "stdout",
     "output_type": "stream",
     "text": [
      "Max number of offers to one user: 2\n",
      "Number of users who left their target unchanged: 43\n",
      "    remained 0: 4\n",
      "    remained 1: 39\n",
      "Number of users who changed their target: 6206\n",
      "    changed to 0: 2160\n",
      "    changed to 1: 4046\n"
     ]
    }
   ],
   "source": [
    "# aggregate offers data\n",
    "offers = train.sort_values(by='buy_time').groupby(['vas_id', 'id'])['target'].agg(list)\n",
    "\n",
    "# Max number of offers\n",
    "print(f'Max number of offers to one user: {offers.apply(len).max()}')\n",
    "\n",
    "# Double offers analyse\n",
    "double_offer_mask = offers.apply(len) > 1\n",
    "\n",
    "# Users whose target has remained\n",
    "target_remain_mask = offers[double_offer_mask].apply(lambda val: val[0] == val[1])\n",
    "\n",
    "print(f'Number of users who left their target unchanged: {offers[double_offer_mask][target_remain_mask].size}')\n",
    "remained = offers[double_offer_mask][target_remain_mask]\n",
    "pos_mask = remained.apply(lambda val: val[1] == 1)\n",
    "print(f'    remained 0: {remained[~pos_mask].size}', f'    remained 1: {remained[pos_mask].size}', sep='\\n')\n",
    "\n",
    "# Users whose target has changed\n",
    "print(f'Number of users who changed their target: {offers[double_offer_mask][~target_remain_mask].size}')\n",
    "changed = offers[double_offer_mask][~target_remain_mask]\n",
    "pos_mask = changed.apply(lambda val: val[1] == 1)\n",
    "print(f'    changed to 0: {changed[~pos_mask].size}', f'    changed to 1: {changed[pos_mask].size}', sep='\\n')\n"
   ]
  },
  {
   "cell_type": "code",
   "execution_count": 14,
   "metadata": {},
   "outputs": [],
   "source": [
    "# # draft to keep actual (last) user choice\n",
    "# dup_mask = train.sort_values(by='buy_time')[['id', 'vas_id']].duplicated(keep='last')\n",
    "# train.sort_values(by='buy_time')[~dup_mask]"
   ]
  },
  {
   "cell_type": "markdown",
   "metadata": {},
   "source": [
    "## features"
   ]
  },
  {
   "cell_type": "code",
   "execution_count": 19,
   "metadata": {},
   "outputs": [],
   "source": [
    "feats = dd.read_csv(data_folder.joinpath('features.csv'), sep='\\t').drop('Unnamed: 0', axis=1)\n",
    "# feats = TimestampRecast().fit_transform(feats)"
   ]
  },
  {
   "cell_type": "code",
   "execution_count": 18,
   "metadata": {},
   "outputs": [],
   "source": [
    "feats = TimestampRecast().fit_transform(feats)      # TODO"
   ]
  },
  {
   "cell_type": "code",
   "execution_count": null,
   "metadata": {},
   "outputs": [],
   "source": [
    "feats.head()"
   ]
  },
  {
   "cell_type": "code",
   "execution_count": null,
   "metadata": {},
   "outputs": [],
   "source": [
    "# prepare feats headers - key fields of user features\n",
    "feat_heads = feats[['id', 'buy_time']].compute()\n",
    "feat_heads.to_csv(data_folder.joinpath('feat_heads.csv'), index=False)"
   ]
  },
  {
   "cell_type": "code",
   "execution_count": null,
   "metadata": {},
   "outputs": [],
   "source": [
    "# read feat headers\n",
    "# feat_heads = pd.read_csv(data_folder.joinpath('feat_heads.csv'))\n",
    "feat_heads = TimestampRecast().fit_transform(feat_heads)"
   ]
  },
  {
   "cell_type": "code",
   "execution_count": 45,
   "metadata": {},
   "outputs": [
    {
     "name": "stdout",
     "output_type": "stream",
     "text": [
      "Features data contains only unique id-time pairs: True\n"
     ]
    }
   ],
   "source": [
    "# check for duplicated user-time pairs\n",
    "print(f'Features data contains only unique id-time pairs: {feat_heads.shape[0] == feat_heads.drop_duplicates().shape[0]}')"
   ]
  },
  {
   "cell_type": "code",
   "execution_count": 48,
   "metadata": {},
   "outputs": [
    {
     "data": {
      "text/plain": [
       "array(['Monday'], dtype=object)"
      ]
     },
     "execution_count": 48,
     "metadata": {},
     "output_type": "execute_result"
    }
   ],
   "source": [
    "# check weekdays in user features data\n",
    "feat_heads['buy_time'].apply(lambda val: calendar.day_name[val.weekday()]).unique()"
   ]
  },
  {
   "cell_type": "code",
   "execution_count": 44,
   "metadata": {},
   "outputs": [
    {
     "name": "stdout",
     "output_type": "stream",
     "text": [
      "Max count of sets of features for one user: 2\n"
     ]
    }
   ],
   "source": [
    "# select users with more than one features' set\n",
    "# feats_count = feats.groupby(['id'])['buy_time'].nunique()\n",
    "# print(f'Max count of sets of features for one user: {feats_count.max().compute()}') - очень долго!!!\n",
    "\n",
    "feats_count = feat_heads.groupby(['id'])['buy_time'].nunique()\n",
    "print(f'Max count of sets of features for one user: {feats_count.max()}')"
   ]
  },
  {
   "cell_type": "code",
   "execution_count": 70,
   "metadata": {},
   "outputs": [
    {
     "data": {
      "text/html": [
       "<div>\n",
       "<style scoped>\n",
       "    .dataframe tbody tr th:only-of-type {\n",
       "        vertical-align: middle;\n",
       "    }\n",
       "\n",
       "    .dataframe tbody tr th {\n",
       "        vertical-align: top;\n",
       "    }\n",
       "\n",
       "    .dataframe thead th {\n",
       "        text-align: right;\n",
       "    }\n",
       "</style>\n",
       "<table border=\"1\" class=\"dataframe\">\n",
       "  <thead>\n",
       "    <tr style=\"text-align: right;\">\n",
       "      <th></th>\n",
       "      <th>id</th>\n",
       "      <th>vas_id</th>\n",
       "      <th>buy_time_train</th>\n",
       "      <th>target</th>\n",
       "      <th>buy_time_feat</th>\n",
       "    </tr>\n",
       "  </thead>\n",
       "  <tbody>\n",
       "    <tr>\n",
       "      <th>0</th>\n",
       "      <td>2</td>\n",
       "      <td>2</td>\n",
       "      <td>2018-12-24</td>\n",
       "      <td>0</td>\n",
       "      <td>2018-12-24</td>\n",
       "    </tr>\n",
       "    <tr>\n",
       "      <th>1</th>\n",
       "      <td>4</td>\n",
       "      <td>1</td>\n",
       "      <td>2018-08-06</td>\n",
       "      <td>0</td>\n",
       "      <td>2018-10-01</td>\n",
       "    </tr>\n",
       "    <tr>\n",
       "      <th>2</th>\n",
       "      <td>15</td>\n",
       "      <td>1</td>\n",
       "      <td>2018-08-13</td>\n",
       "      <td>0</td>\n",
       "      <td>2018-07-16</td>\n",
       "    </tr>\n",
       "    <tr>\n",
       "      <th>3</th>\n",
       "      <td>16</td>\n",
       "      <td>2</td>\n",
       "      <td>2018-10-29</td>\n",
       "      <td>0</td>\n",
       "      <td>2019-01-21</td>\n",
       "    </tr>\n",
       "    <tr>\n",
       "      <th>4</th>\n",
       "      <td>29</td>\n",
       "      <td>1</td>\n",
       "      <td>2018-08-06</td>\n",
       "      <td>0</td>\n",
       "      <td>2018-07-30</td>\n",
       "    </tr>\n",
       "    <tr>\n",
       "      <th>...</th>\n",
       "      <td>...</td>\n",
       "      <td>...</td>\n",
       "      <td>...</td>\n",
       "      <td>...</td>\n",
       "      <td>...</td>\n",
       "    </tr>\n",
       "    <tr>\n",
       "      <th>860047</th>\n",
       "      <td>4362634</td>\n",
       "      <td>1</td>\n",
       "      <td>2018-12-31</td>\n",
       "      <td>0</td>\n",
       "      <td>2018-12-17</td>\n",
       "    </tr>\n",
       "    <tr>\n",
       "      <th>860048</th>\n",
       "      <td>4362640</td>\n",
       "      <td>2</td>\n",
       "      <td>2018-12-31</td>\n",
       "      <td>0</td>\n",
       "      <td>2018-12-31</td>\n",
       "    </tr>\n",
       "    <tr>\n",
       "      <th>860049</th>\n",
       "      <td>4362647</td>\n",
       "      <td>6</td>\n",
       "      <td>2018-12-31</td>\n",
       "      <td>0</td>\n",
       "      <td>2018-09-24</td>\n",
       "    </tr>\n",
       "    <tr>\n",
       "      <th>860050</th>\n",
       "      <td>4362684</td>\n",
       "      <td>5</td>\n",
       "      <td>2018-12-24</td>\n",
       "      <td>0</td>\n",
       "      <td>2018-10-08</td>\n",
       "    </tr>\n",
       "    <tr>\n",
       "      <th>860051</th>\n",
       "      <td>4362694</td>\n",
       "      <td>2</td>\n",
       "      <td>2018-12-31</td>\n",
       "      <td>0</td>\n",
       "      <td>2018-07-16</td>\n",
       "    </tr>\n",
       "  </tbody>\n",
       "</table>\n",
       "<p>860052 rows × 5 columns</p>\n",
       "</div>"
      ],
      "text/plain": [
       "             id  vas_id buy_time_train  target buy_time_feat\n",
       "0             2       2     2018-12-24       0    2018-12-24\n",
       "1             4       1     2018-08-06       0    2018-10-01\n",
       "2            15       1     2018-08-13       0    2018-07-16\n",
       "3            16       2     2018-10-29       0    2019-01-21\n",
       "4            29       1     2018-08-06       0    2018-07-30\n",
       "...         ...     ...            ...     ...           ...\n",
       "860047  4362634       1     2018-12-31       0    2018-12-17\n",
       "860048  4362640       2     2018-12-31       0    2018-12-31\n",
       "860049  4362647       6     2018-12-31       0    2018-09-24\n",
       "860050  4362684       5     2018-12-24       0    2018-10-08\n",
       "860051  4362694       2     2018-12-31       0    2018-07-16\n",
       "\n",
       "[860052 rows x 5 columns]"
      ]
     },
     "execution_count": 70,
     "metadata": {},
     "output_type": "execute_result"
    }
   ],
   "source": [
    "# comparing dates in train and features\n",
    "# dup_feats_users = train.loc[train['id'].isin(feats_count.index[feats_count > 1]), 'id'].unique()\n",
    "users_with_feats = train.loc[train['id'].isin(feats_count.index), 'id'].unique()\n",
    "usr_mask = train['id'].isin(users_with_feats)\n",
    "uft_mask = feat_heads['id'].isin(users_with_feats)\n",
    "\n",
    "A = train[usr_mask].sort_values(by=['id', 'buy_time'])\n",
    "B = feat_heads[uft_mask].sort_values(by=['id', 'buy_time'])\n",
    "\n",
    "# merge and compare buy_time in train and features data\n",
    "A.merge(B, on='id', how='left', suffixes=('_train', '_feat'))"
   ]
  },
  {
   "cell_type": "markdown",
   "metadata": {},
   "source": [
    "Все наборы фичей имеют уникальные пары user-time. Максимальное количество наборов фичей для юзера - `2`. Агрегация, как и в тренировочных данных - по понедельникам. Но дата аггрегации фичей может отличаться от даты покупки в любую сторону.\n",
    "\n",
    "Если юзерфичи аггрегированы после покупки, то по идее они уже не могли влиять на таргет."
   ]
  },
  {
   "cell_type": "code",
   "execution_count": null,
   "metadata": {},
   "outputs": [],
   "source": [
    "# TODO ниже сделать так как оно должно работать в модели"
   ]
  },
  {
   "cell_type": "code",
   "execution_count": null,
   "metadata": {},
   "outputs": [],
   "source": [
    "# # select required user features\n",
    "# used_feats_mask = feats['id'].isin(train['id'].unique())\n",
    "# user_feats = feats[train_user_feats]"
   ]
  },
  {
   "cell_type": "code",
   "execution_count": null,
   "metadata": {},
   "outputs": [],
   "source": [
    "# merge by nearest aggregation date BEFORE purchase: feats aggregated after purchase date couldn't influence the user's decision \n",
    "merged = dd.merge_asof(train.sort_values(by='buy_time'),\n",
    "                       feats.sort_values(by='buy_time'),\n",
    "                       by='id', on='buy_time', direction='backward')\n",
    "# TODO fillna"
   ]
  },
  {
   "cell_type": "code",
   "execution_count": null,
   "metadata": {},
   "outputs": [],
   "source": []
  },
  {
   "cell_type": "code",
   "execution_count": 93,
   "metadata": {},
   "outputs": [
    {
     "data": {
      "text/html": [
       "<div>\n",
       "<style scoped>\n",
       "    .dataframe tbody tr th:only-of-type {\n",
       "        vertical-align: middle;\n",
       "    }\n",
       "\n",
       "    .dataframe tbody tr th {\n",
       "        vertical-align: top;\n",
       "    }\n",
       "\n",
       "    .dataframe thead th {\n",
       "        text-align: right;\n",
       "    }\n",
       "</style>\n",
       "<table border=\"1\" class=\"dataframe\">\n",
       "  <thead>\n",
       "    <tr style=\"text-align: right;\">\n",
       "      <th></th>\n",
       "      <th>id</th>\n",
       "      <th>vas_id</th>\n",
       "      <th>buy_time</th>\n",
       "      <th>target</th>\n",
       "      <th>check</th>\n",
       "      <th>check_date</th>\n",
       "    </tr>\n",
       "  </thead>\n",
       "  <tbody>\n",
       "    <tr>\n",
       "      <th>10425</th>\n",
       "      <td>372</td>\n",
       "      <td>4</td>\n",
       "      <td>2018-09-03</td>\n",
       "      <td>0</td>\n",
       "      <td>NaN</td>\n",
       "      <td>NaT</td>\n",
       "    </tr>\n",
       "    <tr>\n",
       "      <th>9407</th>\n",
       "      <td>404</td>\n",
       "      <td>1</td>\n",
       "      <td>2018-08-27</td>\n",
       "      <td>0</td>\n",
       "      <td>-1.0</td>\n",
       "      <td>2018-08-06</td>\n",
       "    </tr>\n",
       "    <tr>\n",
       "      <th>17635</th>\n",
       "      <td>487</td>\n",
       "      <td>4</td>\n",
       "      <td>2018-11-05</td>\n",
       "      <td>0</td>\n",
       "      <td>NaN</td>\n",
       "      <td>NaT</td>\n",
       "    </tr>\n",
       "    <tr>\n",
       "      <th>12789</th>\n",
       "      <td>620</td>\n",
       "      <td>1</td>\n",
       "      <td>2018-09-24</td>\n",
       "      <td>0</td>\n",
       "      <td>-1.0</td>\n",
       "      <td>2018-09-24</td>\n",
       "    </tr>\n",
       "    <tr>\n",
       "      <th>8508</th>\n",
       "      <td>748</td>\n",
       "      <td>5</td>\n",
       "      <td>2018-08-20</td>\n",
       "      <td>0</td>\n",
       "      <td>-1.0</td>\n",
       "      <td>2018-07-16</td>\n",
       "    </tr>\n",
       "    <tr>\n",
       "      <th>...</th>\n",
       "      <td>...</td>\n",
       "      <td>...</td>\n",
       "      <td>...</td>\n",
       "      <td>...</td>\n",
       "      <td>...</td>\n",
       "      <td>...</td>\n",
       "    </tr>\n",
       "    <tr>\n",
       "      <th>19578</th>\n",
       "      <td>4361764</td>\n",
       "      <td>1</td>\n",
       "      <td>2018-11-19</td>\n",
       "      <td>0</td>\n",
       "      <td>-1.0</td>\n",
       "      <td>2018-07-16</td>\n",
       "    </tr>\n",
       "    <tr>\n",
       "      <th>26922</th>\n",
       "      <td>4361965</td>\n",
       "      <td>5</td>\n",
       "      <td>2018-12-31</td>\n",
       "      <td>0</td>\n",
       "      <td>-1.0</td>\n",
       "      <td>2018-11-05</td>\n",
       "    </tr>\n",
       "    <tr>\n",
       "      <th>16170</th>\n",
       "      <td>4362012</td>\n",
       "      <td>2</td>\n",
       "      <td>2018-10-22</td>\n",
       "      <td>0</td>\n",
       "      <td>-1.0</td>\n",
       "      <td>2018-08-06</td>\n",
       "    </tr>\n",
       "    <tr>\n",
       "      <th>25130</th>\n",
       "      <td>4362200</td>\n",
       "      <td>6</td>\n",
       "      <td>2018-12-24</td>\n",
       "      <td>0</td>\n",
       "      <td>-1.0</td>\n",
       "      <td>2018-11-19</td>\n",
       "    </tr>\n",
       "    <tr>\n",
       "      <th>28398</th>\n",
       "      <td>4362538</td>\n",
       "      <td>5</td>\n",
       "      <td>2018-12-31</td>\n",
       "      <td>0</td>\n",
       "      <td>-1.0</td>\n",
       "      <td>2018-12-24</td>\n",
       "    </tr>\n",
       "  </tbody>\n",
       "</table>\n",
       "<p>28399 rows × 6 columns</p>\n",
       "</div>"
      ],
      "text/plain": [
       "            id  vas_id   buy_time  target  check check_date\n",
       "10425      372       4 2018-09-03       0    NaN        NaT\n",
       "9407       404       1 2018-08-27       0   -1.0 2018-08-06\n",
       "17635      487       4 2018-11-05       0    NaN        NaT\n",
       "12789      620       1 2018-09-24       0   -1.0 2018-09-24\n",
       "8508       748       5 2018-08-20       0   -1.0 2018-07-16\n",
       "...        ...     ...        ...     ...    ...        ...\n",
       "19578  4361764       1 2018-11-19       0   -1.0 2018-07-16\n",
       "26922  4361965       5 2018-12-31       0   -1.0 2018-11-05\n",
       "16170  4362012       2 2018-10-22       0   -1.0 2018-08-06\n",
       "25130  4362200       6 2018-12-24       0   -1.0 2018-11-19\n",
       "28398  4362538       5 2018-12-31       0   -1.0 2018-12-24\n",
       "\n",
       "[28399 rows x 6 columns]"
      ]
     },
     "execution_count": 93,
     "metadata": {},
     "output_type": "execute_result"
    }
   ],
   "source": [
    "# # пример работы pd.merge_asof\n",
    "# merged = pd.merge_asof(A.sort_values(by='buy_time'), B.sort_values(by='buy_time'), by='id', on='buy_time', direction='backward')\n",
    "# merged.sort_values(by=['id', 'buy_time'])"
   ]
  },
  {
   "cell_type": "markdown",
   "metadata": {
    "collapsed": false,
    "pycharm": {
     "name": "#%% md\n"
    }
   },
   "source": [
    "## drafts"
   ]
  },
  {
   "cell_type": "code",
   "execution_count": null,
   "metadata": {},
   "outputs": [],
   "source": []
  },
  {
   "cell_type": "markdown",
   "metadata": {},
   "source": [
    "## conclusion"
   ]
  },
  {
   "cell_type": "markdown",
   "metadata": {},
   "source": [
    "Присутствует сильный дисбаланс классов: `7.24%` объектов первого класса\n",
    "\n",
    "Услуги 6, 4 и 9 продавались лучше всего: `42,68%`, `25,38%` и `18,35%` от количества их предложений было продано. У остальных услуг доля продаж не превышает `2,6%`.\n",
    "При этом услуга 9 составляет очень малую долю (`1,67%`) в общем количестве продаж.\n",
    "\n",
    "До 12-19 ноября основные продаваемые услуги были 4, 6 и 9, при этом услуга 4 постепенно вытесняла услугу 6. Потом доля услуги 4 значительно сократилась, но также значительно выросла доля услуги 6, т.е. произошло обратное замещение. Остальные услуги продавались в незначительно малом количестве.\n",
    "\n",
    "Услуга 9 показала необъяснимый всплеск продаж 19 ноября - на два порядка выше медианы.\n",
    "\n",
    "Присутствуют повторные предложения как с изменением таргета, так и без. Больше двух раз услуга никому не предлагалась."
   ]
  },
  {
   "cell_type": "markdown",
   "metadata": {},
   "source": [
    "В тестовых данных присутствуют записи для `4188` пользователей, которые не были представлены в тренировочных данных (cold users).\n",
    "Различий по услугам между тренировочными и тестовыми данными нет."
   ]
  },
  {
   "cell_type": "markdown",
   "metadata": {},
   "source": [
    "1. Непонятно, с чего такой огромный всплеск продаж услуги 9, достоверен ли он - не понять никак\n",
    "2. В данных есть повторные офферы с разным таргетом.\n",
    "    - оставить как есть\n",
    "    - взять только последний (актуальный)\n",
    "    - сопоставить с профилем пользователя в указанный период времени (если есть такая возможность)"
   ]
  },
  {
   "cell_type": "markdown",
   "metadata": {},
   "source": [
    "Задачи\n",
    "1. Предсказание вероятности подключения услуги\n",
    "2. Формирование персонального пакета предложений"
   ]
  },
  {
   "cell_type": "code",
   "execution_count": 16,
   "metadata": {
    "collapsed": false,
    "pycharm": {
     "name": "#%%\n"
    }
   },
   "outputs": [],
   "source": [
    "#"
   ]
  }
 ],
 "metadata": {
  "interpreter": {
   "hash": "625f6aa541ce7a5325053710078740a357292b5fc1db12ea0274779218b7749b"
  },
  "kernelspec": {
   "display_name": "Python 3.9.5 ('venv': venv)",
   "language": "python",
   "name": "python3"
  },
  "language_info": {
   "codemirror_mode": {
    "name": "ipython",
    "version": 3
   },
   "file_extension": ".py",
   "mimetype": "text/x-python",
   "name": "python",
   "nbconvert_exporter": "python",
   "pygments_lexer": "ipython3",
   "version": "3.9.5"
  }
 },
 "nbformat": 4,
 "nbformat_minor": 0
}
