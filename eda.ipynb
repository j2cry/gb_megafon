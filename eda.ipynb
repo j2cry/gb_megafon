{
 "cells": [
  {
   "cell_type": "code",
   "execution_count": 1,
   "metadata": {
    "collapsed": true,
    "pycharm": {
     "name": "#%%\n"
    }
   },
   "outputs": [],
   "source": [
    "import pathlib\n",
    "import calendar\n",
    "import datetime as dt\n",
    "import numpy as np\n",
    "import pandas as pd\n",
    "import dask.dataframe as dd\n",
    "import matplotlib.pyplot as plt\n",
    "from dask.distributed import Client\n",
    "\n",
    "# import matplotlib.pyplot as plt\n",
    "from transformers import TypeRecast\n",
    "from sklearn.pipeline import make_pipeline\n",
    "from dask_ml.decomposition import PCA\n",
    "\n",
    "data_folder = pathlib.Path('data')"
   ]
  },
  {
   "cell_type": "code",
   "execution_count": 2,
   "metadata": {},
   "outputs": [
    {
     "name": "stderr",
     "output_type": "stream",
     "text": [
      "2022-05-29 20:50:35,462 - distributed.diskutils - INFO - Found stale lock file and directory '/home/avagadro/projects/gb_megafon/dask-worker-space/worker-ny781c27', purging\n"
     ]
    },
    {
     "data": {
      "text/html": [
       "<div>\n",
       "    <div style=\"width: 24px; height: 24px; background-color: #e1e1e1; border: 3px solid #9D9D9D; border-radius: 5px; position: absolute;\"> </div>\n",
       "    <div style=\"margin-left: 48px;\">\n",
       "        <h3 style=\"margin-bottom: 0px;\">Client</h3>\n",
       "        <p style=\"color: #9D9D9D; margin-bottom: 0px;\">Client-d7366a6a-df77-11ec-bfcf-cb98e2c1cb99</p>\n",
       "        <table style=\"width: 100%; text-align: left;\">\n",
       "\n",
       "        <tr>\n",
       "        \n",
       "            <td style=\"text-align: left;\"><strong>Connection method:</strong> Cluster object</td>\n",
       "            <td style=\"text-align: left;\"><strong>Cluster type:</strong> distributed.LocalCluster</td>\n",
       "        \n",
       "        </tr>\n",
       "\n",
       "        \n",
       "            <tr>\n",
       "                <td style=\"text-align: left;\">\n",
       "                    <strong>Dashboard: </strong> <a href=\"http://127.0.0.1:8787/status\" target=\"_blank\">http://127.0.0.1:8787/status</a>\n",
       "                </td>\n",
       "                <td style=\"text-align: left;\"></td>\n",
       "            </tr>\n",
       "        \n",
       "\n",
       "        </table>\n",
       "\n",
       "        \n",
       "            <details>\n",
       "            <summary style=\"margin-bottom: 20px;\"><h3 style=\"display: inline;\">Cluster Info</h3></summary>\n",
       "            <div class=\"jp-RenderedHTMLCommon jp-RenderedHTML jp-mod-trusted jp-OutputArea-output\">\n",
       "    <div style=\"width: 24px; height: 24px; background-color: #e1e1e1; border: 3px solid #9D9D9D; border-radius: 5px; position: absolute;\">\n",
       "    </div>\n",
       "    <div style=\"margin-left: 48px;\">\n",
       "        <h3 style=\"margin-bottom: 0px; margin-top: 0px;\">LocalCluster</h3>\n",
       "        <p style=\"color: #9D9D9D; margin-bottom: 0px;\">41b9de3c</p>\n",
       "        <table style=\"width: 100%; text-align: left;\">\n",
       "            <tr>\n",
       "                <td style=\"text-align: left;\">\n",
       "                    <strong>Dashboard:</strong> <a href=\"http://127.0.0.1:8787/status\" target=\"_blank\">http://127.0.0.1:8787/status</a>\n",
       "                </td>\n",
       "                <td style=\"text-align: left;\">\n",
       "                    <strong>Workers:</strong> 1\n",
       "                </td>\n",
       "            </tr>\n",
       "            <tr>\n",
       "                <td style=\"text-align: left;\">\n",
       "                    <strong>Total threads:</strong> 8\n",
       "                </td>\n",
       "                <td style=\"text-align: left;\">\n",
       "                    <strong>Total memory:</strong> 15.59 GiB\n",
       "                </td>\n",
       "            </tr>\n",
       "            \n",
       "            <tr>\n",
       "    <td style=\"text-align: left;\"><strong>Status:</strong> running</td>\n",
       "    <td style=\"text-align: left;\"><strong>Using processes:</strong> True</td>\n",
       "</tr>\n",
       "\n",
       "            \n",
       "        </table>\n",
       "\n",
       "        <details>\n",
       "            <summary style=\"margin-bottom: 20px;\">\n",
       "                <h3 style=\"display: inline;\">Scheduler Info</h3>\n",
       "            </summary>\n",
       "\n",
       "            <div style=\"\">\n",
       "    <div>\n",
       "        <div style=\"width: 24px; height: 24px; background-color: #FFF7E5; border: 3px solid #FF6132; border-radius: 5px; position: absolute;\"> </div>\n",
       "        <div style=\"margin-left: 48px;\">\n",
       "            <h3 style=\"margin-bottom: 0px;\">Scheduler</h3>\n",
       "            <p style=\"color: #9D9D9D; margin-bottom: 0px;\">Scheduler-e2366fa7-a8de-4806-a7e9-f5ab1f5c28b9</p>\n",
       "            <table style=\"width: 100%; text-align: left;\">\n",
       "                <tr>\n",
       "                    <td style=\"text-align: left;\">\n",
       "                        <strong>Comm:</strong> tcp://127.0.0.1:34741\n",
       "                    </td>\n",
       "                    <td style=\"text-align: left;\">\n",
       "                        <strong>Workers:</strong> 1\n",
       "                    </td>\n",
       "                </tr>\n",
       "                <tr>\n",
       "                    <td style=\"text-align: left;\">\n",
       "                        <strong>Dashboard:</strong> <a href=\"http://127.0.0.1:8787/status\" target=\"_blank\">http://127.0.0.1:8787/status</a>\n",
       "                    </td>\n",
       "                    <td style=\"text-align: left;\">\n",
       "                        <strong>Total threads:</strong> 8\n",
       "                    </td>\n",
       "                </tr>\n",
       "                <tr>\n",
       "                    <td style=\"text-align: left;\">\n",
       "                        <strong>Started:</strong> Just now\n",
       "                    </td>\n",
       "                    <td style=\"text-align: left;\">\n",
       "                        <strong>Total memory:</strong> 15.59 GiB\n",
       "                    </td>\n",
       "                </tr>\n",
       "            </table>\n",
       "        </div>\n",
       "    </div>\n",
       "\n",
       "    <details style=\"margin-left: 48px;\">\n",
       "        <summary style=\"margin-bottom: 20px;\">\n",
       "            <h3 style=\"display: inline;\">Workers</h3>\n",
       "        </summary>\n",
       "\n",
       "        \n",
       "        <div style=\"margin-bottom: 20px;\">\n",
       "            <div style=\"width: 24px; height: 24px; background-color: #DBF5FF; border: 3px solid #4CC9FF; border-radius: 5px; position: absolute;\"> </div>\n",
       "            <div style=\"margin-left: 48px;\">\n",
       "            <details>\n",
       "                <summary>\n",
       "                    <h4 style=\"margin-bottom: 0px; display: inline;\">Worker: 0</h4>\n",
       "                </summary>\n",
       "                <table style=\"width: 100%; text-align: left;\">\n",
       "                    <tr>\n",
       "                        <td style=\"text-align: left;\">\n",
       "                            <strong>Comm: </strong> tcp://127.0.0.1:42913\n",
       "                        </td>\n",
       "                        <td style=\"text-align: left;\">\n",
       "                            <strong>Total threads: </strong> 8\n",
       "                        </td>\n",
       "                    </tr>\n",
       "                    <tr>\n",
       "                        <td style=\"text-align: left;\">\n",
       "                            <strong>Dashboard: </strong> <a href=\"http://127.0.0.1:38699/status\" target=\"_blank\">http://127.0.0.1:38699/status</a>\n",
       "                        </td>\n",
       "                        <td style=\"text-align: left;\">\n",
       "                            <strong>Memory: </strong> 15.59 GiB\n",
       "                        </td>\n",
       "                    </tr>\n",
       "                    <tr>\n",
       "                        <td style=\"text-align: left;\">\n",
       "                            <strong>Nanny: </strong> tcp://127.0.0.1:41269\n",
       "                        </td>\n",
       "                        <td style=\"text-align: left;\"></td>\n",
       "                    </tr>\n",
       "                    <tr>\n",
       "                        <td colspan=\"2\" style=\"text-align: left;\">\n",
       "                            <strong>Local directory: </strong> /home/avagadro/projects/gb_megafon/dask-worker-space/worker-94w7bt7a\n",
       "                        </td>\n",
       "                    </tr>\n",
       "\n",
       "                    \n",
       "\n",
       "                    \n",
       "\n",
       "                </table>\n",
       "            </details>\n",
       "            </div>\n",
       "        </div>\n",
       "        \n",
       "\n",
       "    </details>\n",
       "</div>\n",
       "\n",
       "        </details>\n",
       "    </div>\n",
       "</div>\n",
       "            </details>\n",
       "        \n",
       "\n",
       "    </div>\n",
       "</div>"
      ],
      "text/plain": [
       "<Client: 'tcp://127.0.0.1:34741' processes=1 threads=8, memory=15.59 GiB>"
      ]
     },
     "execution_count": 2,
     "metadata": {},
     "output_type": "execute_result"
    }
   ],
   "source": [
    "client = Client(n_workers=1)\n",
    "client"
   ]
  },
  {
   "cell_type": "markdown",
   "metadata": {
    "collapsed": false,
    "pycharm": {
     "name": "#%% md\n"
    }
   },
   "source": [
    "## prepare data"
   ]
  },
  {
   "cell_type": "code",
   "execution_count": 3,
   "metadata": {
    "collapsed": false,
    "pycharm": {
     "name": "#%%\n"
    }
   },
   "outputs": [
    {
     "data": {
      "text/html": [
       "<div>\n",
       "<style scoped>\n",
       "    .dataframe tbody tr th:only-of-type {\n",
       "        vertical-align: middle;\n",
       "    }\n",
       "\n",
       "    .dataframe tbody tr th {\n",
       "        vertical-align: top;\n",
       "    }\n",
       "\n",
       "    .dataframe thead th {\n",
       "        text-align: right;\n",
       "    }\n",
       "</style>\n",
       "<table border=\"1\" class=\"dataframe\">\n",
       "  <thead>\n",
       "    <tr style=\"text-align: right;\">\n",
       "      <th></th>\n",
       "      <th>id</th>\n",
       "      <th>vas_id</th>\n",
       "      <th>buy_time</th>\n",
       "      <th>target</th>\n",
       "    </tr>\n",
       "  </thead>\n",
       "  <tbody>\n",
       "    <tr>\n",
       "      <th>0</th>\n",
       "      <td>540968</td>\n",
       "      <td>8.0</td>\n",
       "      <td>1537131600</td>\n",
       "      <td>0.0</td>\n",
       "    </tr>\n",
       "    <tr>\n",
       "      <th>1</th>\n",
       "      <td>1454121</td>\n",
       "      <td>4.0</td>\n",
       "      <td>1531688400</td>\n",
       "      <td>0.0</td>\n",
       "    </tr>\n",
       "  </tbody>\n",
       "</table>\n",
       "</div>"
      ],
      "text/plain": [
       "        id  vas_id    buy_time  target\n",
       "0   540968     8.0  1537131600     0.0\n",
       "1  1454121     4.0  1531688400     0.0"
      ]
     },
     "execution_count": 3,
     "metadata": {},
     "output_type": "execute_result"
    }
   ],
   "source": [
    "train = pd.read_csv(data_folder.joinpath('data_train.csv'), index_col='Unnamed: 0')\n",
    "train.head(2)"
   ]
  },
  {
   "cell_type": "code",
   "execution_count": 4,
   "metadata": {},
   "outputs": [
    {
     "name": "stdout",
     "output_type": "stream",
     "text": [
      "<class 'pandas.core.frame.DataFrame'>\n",
      "Int64Index: 831653 entries, 0 to 831652\n",
      "Data columns (total 4 columns):\n",
      " #   Column    Non-Null Count   Dtype  \n",
      "---  ------    --------------   -----  \n",
      " 0   id        831653 non-null  int64  \n",
      " 1   vas_id    831653 non-null  float64\n",
      " 2   buy_time  831653 non-null  int64  \n",
      " 3   target    831653 non-null  float64\n",
      "dtypes: float64(2), int64(2)\n",
      "memory usage: 31.7 MB\n"
     ]
    }
   ],
   "source": [
    "train.info()"
   ]
  },
  {
   "cell_type": "code",
   "execution_count": 4,
   "metadata": {},
   "outputs": [],
   "source": [
    "recaster = make_pipeline(TypeRecast('vas_id', 'int'),\n",
    "                         TypeRecast('target', 'int'),\n",
    "                         TypeRecast('buy_time', 'datetime')\n",
    "                         )"
   ]
  },
  {
   "cell_type": "code",
   "execution_count": 5,
   "metadata": {
    "collapsed": false,
    "pycharm": {
     "name": "#%%\n"
    }
   },
   "outputs": [
    {
     "data": {
      "text/html": [
       "<div>\n",
       "<style scoped>\n",
       "    .dataframe tbody tr th:only-of-type {\n",
       "        vertical-align: middle;\n",
       "    }\n",
       "\n",
       "    .dataframe tbody tr th {\n",
       "        vertical-align: top;\n",
       "    }\n",
       "\n",
       "    .dataframe thead th {\n",
       "        text-align: right;\n",
       "    }\n",
       "</style>\n",
       "<table border=\"1\" class=\"dataframe\">\n",
       "  <thead>\n",
       "    <tr style=\"text-align: right;\">\n",
       "      <th></th>\n",
       "      <th>id</th>\n",
       "      <th>vas_id</th>\n",
       "      <th>buy_time</th>\n",
       "      <th>target</th>\n",
       "    </tr>\n",
       "  </thead>\n",
       "  <tbody>\n",
       "    <tr>\n",
       "      <th>0</th>\n",
       "      <td>540968</td>\n",
       "      <td>8</td>\n",
       "      <td>2018-09-17</td>\n",
       "      <td>0</td>\n",
       "    </tr>\n",
       "    <tr>\n",
       "      <th>1</th>\n",
       "      <td>1454121</td>\n",
       "      <td>4</td>\n",
       "      <td>2018-07-16</td>\n",
       "      <td>0</td>\n",
       "    </tr>\n",
       "  </tbody>\n",
       "</table>\n",
       "</div>"
      ],
      "text/plain": [
       "        id  vas_id   buy_time  target\n",
       "0   540968       8 2018-09-17       0\n",
       "1  1454121       4 2018-07-16       0"
      ]
     },
     "execution_count": 5,
     "metadata": {},
     "output_type": "execute_result"
    }
   ],
   "source": [
    "train = pd.read_csv(data_folder.joinpath('data_train.csv'), index_col='Unnamed: 0')\n",
    "train = recaster.fit_transform(train)\n",
    "train.head(2)"
   ]
  },
  {
   "cell_type": "code",
   "execution_count": 6,
   "metadata": {},
   "outputs": [
    {
     "data": {
      "text/html": [
       "<div>\n",
       "<style scoped>\n",
       "    .dataframe tbody tr th:only-of-type {\n",
       "        vertical-align: middle;\n",
       "    }\n",
       "\n",
       "    .dataframe tbody tr th {\n",
       "        vertical-align: top;\n",
       "    }\n",
       "\n",
       "    .dataframe thead th {\n",
       "        text-align: right;\n",
       "    }\n",
       "</style>\n",
       "<table border=\"1\" class=\"dataframe\">\n",
       "  <thead>\n",
       "    <tr style=\"text-align: right;\">\n",
       "      <th></th>\n",
       "      <th>id</th>\n",
       "      <th>vas_id</th>\n",
       "      <th>buy_time</th>\n",
       "    </tr>\n",
       "  </thead>\n",
       "  <tbody>\n",
       "    <tr>\n",
       "      <th>0</th>\n",
       "      <td>3130519</td>\n",
       "      <td>2</td>\n",
       "      <td>2019-01-21</td>\n",
       "    </tr>\n",
       "    <tr>\n",
       "      <th>1</th>\n",
       "      <td>2000860</td>\n",
       "      <td>4</td>\n",
       "      <td>2019-01-21</td>\n",
       "    </tr>\n",
       "  </tbody>\n",
       "</table>\n",
       "</div>"
      ],
      "text/plain": [
       "        id  vas_id   buy_time\n",
       "0  3130519       2 2019-01-21\n",
       "1  2000860       4 2019-01-21"
      ]
     },
     "execution_count": 6,
     "metadata": {},
     "output_type": "execute_result"
    }
   ],
   "source": [
    "test = pd.read_csv(data_folder.joinpath('data_test.csv'), index_col='Unnamed: 0')\n",
    "test = recaster.fit_transform(test)\n",
    "test.head(2)"
   ]
  },
  {
   "cell_type": "code",
   "execution_count": 8,
   "metadata": {},
   "outputs": [],
   "source": [
    "# # save for tableau\n",
    "# train['buy_time'] = train['buy_time'].apply(lambda val: str(val.date()))\n",
    "# train.to_csv(data_folder.joinpath('train_prepared.csv'), index=False)\n",
    "\n",
    "# test['buy_time'] = test['buy_time'].apply(lambda val: str(val.date()))\n",
    "# test.to_csv(data_folder.joinpath('test_prepared.csv'), index=False)"
   ]
  },
  {
   "cell_type": "markdown",
   "metadata": {
    "collapsed": false,
    "pycharm": {
     "name": "#%% md\n"
    }
   },
   "source": [
    "## Exploratory data analysis"
   ]
  },
  {
   "cell_type": "markdown",
   "metadata": {},
   "source": [
    "Ниже представлена только программная часть анализа. Графики представлены в дашбордах:\n",
    "https://public.tableau.com/app/profile/peter3691/viz/megafon"
   ]
  },
  {
   "cell_type": "code",
   "execution_count": 53,
   "metadata": {},
   "outputs": [
    {
     "name": "stdout",
     "output_type": "stream",
     "text": [
      "Total users in train: 806613\n",
      "Total users in test:  70152\n",
      "Number of users from test and not containing in train: 65964\n",
      "Products train/test difference: None\n",
      "Total products count: 8\n"
     ]
    }
   ],
   "source": [
    "# train users count\n",
    "print(f\"Total users in train: {train['id'].nunique()}\")\n",
    "print(f\"Total users in test:  {test['id'].nunique()}\")\n",
    "\n",
    "# unknown users\n",
    "known_users_count = test['id'].drop_duplicates().isin(train['id'].unique()).sum()\n",
    "print(f\"Number of users from test and not containing in train: {test['id'].nunique() - known_users_count}\")\n",
    "\n",
    "# vas_id difference\n",
    "diff = set(train['vas_id']) ^ set(test['vas_id'])\n",
    "print(f\"Products train/test difference: {diff if diff else None}\")\n",
    "\n",
    "# total products count\n",
    "print(f\"Total products count: {train['vas_id'].nunique()}\")"
   ]
  },
  {
   "cell_type": "code",
   "execution_count": 16,
   "metadata": {},
   "outputs": [
    {
     "name": "stdout",
     "output_type": "stream",
     "text": [
      "Min. number of services offered to the client: 1\n",
      "Max. number of services offered to the client: 3\n",
      "Avg. number of services offered to the client: 1.023296177968865\n"
     ]
    }
   ],
   "source": [
    "# how many services were offered\n",
    "offers = train.groupby('id')['vas_id'].nunique()\n",
    "\n",
    "print(f'Min. number of services offered to the client: {offers.min()}')\n",
    "print(f'Max. number of services offered to the client: {offers.max()}')\n",
    "print(f'Avg. number of services offered to the client: {offers.mean()}')\n"
   ]
  },
  {
   "cell_type": "code",
   "execution_count": 17,
   "metadata": {},
   "outputs": [
    {
     "data": {
      "text/plain": [
       "1    0.976735\n",
       "2    0.023234\n",
       "3    0.000031\n",
       "Name: vas_id, dtype: float64"
      ]
     },
     "execution_count": 17,
     "metadata": {},
     "output_type": "execute_result"
    }
   ],
   "source": [
    "# ratio of the unique offers\n",
    "offers.value_counts() / offers.size"
   ]
  },
  {
   "cell_type": "code",
   "execution_count": 10,
   "metadata": {
    "collapsed": false,
    "pycharm": {
     "name": "#%%\n"
    }
   },
   "outputs": [
    {
     "data": {
      "text/plain": [
       "Monday    831653\n",
       "Name: buy_time, dtype: int64"
      ]
     },
     "execution_count": 10,
     "metadata": {},
     "output_type": "execute_result"
    }
   ],
   "source": [
    "# count weekdays\n",
    "train['buy_time'].apply(lambda val: calendar.day_name[val.weekday()]).value_counts()"
   ]
  },
  {
   "cell_type": "code",
   "execution_count": 6,
   "metadata": {},
   "outputs": [
    {
     "name": "stdout",
     "output_type": "stream",
     "text": [
      "First date: 2018-07-09\n",
      "Last date:  2018-12-31\n",
      "Months in data: 6\n",
      "Weeks in data: 26\n"
     ]
    }
   ],
   "source": [
    "# min/max date\n",
    "mn, mx = train['buy_time'].min(), train['buy_time'].max()\n",
    "print(f'First date: {mn.date()}', f'Last date:  {mx.date()}', sep='\\n')\n",
    "print(f\"Months in data: {train['buy_time'].dt.month.nunique()}\")\n",
    "print(f\"Weeks in data: {train['buy_time'].nunique()}\")"
   ]
  },
  {
   "cell_type": "markdown",
   "metadata": {},
   "source": [
    "в `buy_time` только понедельники.\n",
    "\n",
    "Видимо по понедельникам отрабатывает пайплайн аггрегации данных.\n",
    "Следовательно, изучить данные в разрезе дней недели не выйдет.\n",
    "Данные представлены только за часть 2018 года и охватывают разброс в 6 месяцев.\n",
    "Поскольку данные уже аггрегированы по неделям, динамика за месяц может быть смазана, поэтому буду рассматривать динамику по неделям."
   ]
  },
  {
   "cell_type": "code",
   "execution_count": 12,
   "metadata": {},
   "outputs": [
    {
     "data": {
      "text/html": [
       "<div>\n",
       "<style scoped>\n",
       "    .dataframe tbody tr th:only-of-type {\n",
       "        vertical-align: middle;\n",
       "    }\n",
       "\n",
       "    .dataframe tbody tr th {\n",
       "        vertical-align: top;\n",
       "    }\n",
       "\n",
       "    .dataframe thead th {\n",
       "        text-align: right;\n",
       "    }\n",
       "</style>\n",
       "<table border=\"1\" class=\"dataframe\">\n",
       "  <thead>\n",
       "    <tr style=\"text-align: right;\">\n",
       "      <th></th>\n",
       "      <th>first</th>\n",
       "      <th>last</th>\n",
       "    </tr>\n",
       "    <tr>\n",
       "      <th>vas_id</th>\n",
       "      <th></th>\n",
       "      <th></th>\n",
       "    </tr>\n",
       "  </thead>\n",
       "  <tbody>\n",
       "    <tr>\n",
       "      <th>1</th>\n",
       "      <td>2018-07-09</td>\n",
       "      <td>2018-12-31</td>\n",
       "    </tr>\n",
       "    <tr>\n",
       "      <th>2</th>\n",
       "      <td>2018-07-09</td>\n",
       "      <td>2018-12-31</td>\n",
       "    </tr>\n",
       "    <tr>\n",
       "      <th>4</th>\n",
       "      <td>2018-07-09</td>\n",
       "      <td>2018-12-31</td>\n",
       "    </tr>\n",
       "    <tr>\n",
       "      <th>5</th>\n",
       "      <td>2018-07-09</td>\n",
       "      <td>2018-12-31</td>\n",
       "    </tr>\n",
       "    <tr>\n",
       "      <th>6</th>\n",
       "      <td>2018-07-09</td>\n",
       "      <td>2018-12-31</td>\n",
       "    </tr>\n",
       "    <tr>\n",
       "      <th>7</th>\n",
       "      <td>2018-08-27</td>\n",
       "      <td>2018-12-31</td>\n",
       "    </tr>\n",
       "    <tr>\n",
       "      <th>8</th>\n",
       "      <td>2018-07-09</td>\n",
       "      <td>2018-12-31</td>\n",
       "    </tr>\n",
       "    <tr>\n",
       "      <th>9</th>\n",
       "      <td>2018-07-09</td>\n",
       "      <td>2018-12-31</td>\n",
       "    </tr>\n",
       "  </tbody>\n",
       "</table>\n",
       "</div>"
      ],
      "text/plain": [
       "            first       last\n",
       "vas_id                      \n",
       "1      2018-07-09 2018-12-31\n",
       "2      2018-07-09 2018-12-31\n",
       "4      2018-07-09 2018-12-31\n",
       "5      2018-07-09 2018-12-31\n",
       "6      2018-07-09 2018-12-31\n",
       "7      2018-08-27 2018-12-31\n",
       "8      2018-07-09 2018-12-31\n",
       "9      2018-07-09 2018-12-31"
      ]
     },
     "execution_count": 12,
     "metadata": {},
     "output_type": "execute_result"
    }
   ],
   "source": [
    "# date of first/last sale\n",
    "first = train.groupby('vas_id')['buy_time'].min()\n",
    "last = train.groupby('vas_id')['buy_time'].max()\n",
    "pd.DataFrame([first, last], index=['first', 'last']).T"
   ]
  },
  {
   "cell_type": "markdown",
   "metadata": {},
   "source": [
    "Даты первой и последней продаж совпадают с границами датасета практически для всех услуг"
   ]
  },
  {
   "cell_type": "code",
   "execution_count": 13,
   "metadata": {},
   "outputs": [
    {
     "name": "stdout",
     "output_type": "stream",
     "text": [
      "Max number of offers to one user: 2\n",
      "Number of users who left their target unchanged: 43\n",
      "    remained 0: 4\n",
      "    remained 1: 39\n",
      "Number of users who changed their target: 6206\n",
      "    changed to 0: 2160\n",
      "    changed to 1: 4046\n"
     ]
    }
   ],
   "source": [
    "# aggregate offers data\n",
    "offers = train.sort_values(by='buy_time').groupby(['vas_id', 'id'])['target'].agg(list)\n",
    "\n",
    "# Max number of offers\n",
    "print(f'Max number of offers to one user: {offers.apply(len).max()}')\n",
    "\n",
    "# Double offers analyse\n",
    "double_offer_mask = offers.apply(len) > 1\n",
    "\n",
    "# Users whose target has remained\n",
    "target_remain_mask = offers[double_offer_mask].apply(lambda val: val[0] == val[1])\n",
    "\n",
    "print(f'Number of users who left their target unchanged: {offers[double_offer_mask][target_remain_mask].size}')\n",
    "remained = offers[double_offer_mask][target_remain_mask]\n",
    "pos_mask = remained.apply(lambda val: val[1] == 1)\n",
    "print(f'    remained 0: {remained[~pos_mask].size}', f'    remained 1: {remained[pos_mask].size}', sep='\\n')\n",
    "\n",
    "# Users whose target has changed\n",
    "print(f'Number of users who changed their target: {offers[double_offer_mask][~target_remain_mask].size}')\n",
    "changed = offers[double_offer_mask][~target_remain_mask]\n",
    "pos_mask = changed.apply(lambda val: val[1] == 1)\n",
    "print(f'    changed to 0: {changed[~pos_mask].size}', f'    changed to 1: {changed[pos_mask].size}', sep='\\n')\n"
   ]
  },
  {
   "cell_type": "code",
   "execution_count": 14,
   "metadata": {},
   "outputs": [],
   "source": [
    "# # draft to keep actual (last) user choice\n",
    "# dup_mask = train.sort_values(by='buy_time')[['id', 'vas_id']].duplicated(keep='last')\n",
    "# train.sort_values(by='buy_time')[~dup_mask]"
   ]
  },
  {
   "cell_type": "markdown",
   "metadata": {},
   "source": [
    "## features"
   ]
  },
  {
   "cell_type": "code",
   "execution_count": 16,
   "metadata": {},
   "outputs": [
    {
     "data": {
      "text/html": [
       "<div>\n",
       "<style scoped>\n",
       "    .dataframe tbody tr th:only-of-type {\n",
       "        vertical-align: middle;\n",
       "    }\n",
       "\n",
       "    .dataframe tbody tr th {\n",
       "        vertical-align: top;\n",
       "    }\n",
       "\n",
       "    .dataframe thead th {\n",
       "        text-align: right;\n",
       "    }\n",
       "</style>\n",
       "<table border=\"1\" class=\"dataframe\">\n",
       "  <thead>\n",
       "    <tr style=\"text-align: right;\">\n",
       "      <th></th>\n",
       "      <th>id</th>\n",
       "      <th>buy_time</th>\n",
       "      <th>0</th>\n",
       "      <th>1</th>\n",
       "      <th>2</th>\n",
       "      <th>3</th>\n",
       "      <th>4</th>\n",
       "      <th>5</th>\n",
       "      <th>6</th>\n",
       "      <th>7</th>\n",
       "      <th>...</th>\n",
       "      <th>243</th>\n",
       "      <th>244</th>\n",
       "      <th>245</th>\n",
       "      <th>246</th>\n",
       "      <th>247</th>\n",
       "      <th>248</th>\n",
       "      <th>249</th>\n",
       "      <th>250</th>\n",
       "      <th>251</th>\n",
       "      <th>252</th>\n",
       "    </tr>\n",
       "  </thead>\n",
       "  <tbody>\n",
       "    <tr>\n",
       "      <th>0</th>\n",
       "      <td>2013026</td>\n",
       "      <td>1531688400</td>\n",
       "      <td>18.910029</td>\n",
       "      <td>46.980888</td>\n",
       "      <td>4.969214</td>\n",
       "      <td>-1.386798</td>\n",
       "      <td>3.791754</td>\n",
       "      <td>-14.01179</td>\n",
       "      <td>-16.08618</td>\n",
       "      <td>-65.076097</td>\n",
       "      <td>...</td>\n",
       "      <td>-977.373846</td>\n",
       "      <td>-613.770792</td>\n",
       "      <td>-25.996269</td>\n",
       "      <td>-37.630448</td>\n",
       "      <td>-301.747724</td>\n",
       "      <td>-25.832889</td>\n",
       "      <td>-0.694428</td>\n",
       "      <td>-12.175933</td>\n",
       "      <td>-0.45614</td>\n",
       "      <td>0.0</td>\n",
       "    </tr>\n",
       "    <tr>\n",
       "      <th>1</th>\n",
       "      <td>2014722</td>\n",
       "      <td>1539550800</td>\n",
       "      <td>36.690029</td>\n",
       "      <td>152.400888</td>\n",
       "      <td>448.069214</td>\n",
       "      <td>563.833202</td>\n",
       "      <td>463.841754</td>\n",
       "      <td>568.99821</td>\n",
       "      <td>-16.08618</td>\n",
       "      <td>-53.216097</td>\n",
       "      <td>...</td>\n",
       "      <td>-891.373846</td>\n",
       "      <td>-544.770792</td>\n",
       "      <td>-20.996269</td>\n",
       "      <td>48.369552</td>\n",
       "      <td>80.252276</td>\n",
       "      <td>-13.832889</td>\n",
       "      <td>-0.694428</td>\n",
       "      <td>-1.175933</td>\n",
       "      <td>-0.45614</td>\n",
       "      <td>0.0</td>\n",
       "    </tr>\n",
       "    <tr>\n",
       "      <th>2</th>\n",
       "      <td>2015199</td>\n",
       "      <td>1545598800</td>\n",
       "      <td>-67.019971</td>\n",
       "      <td>157.050888</td>\n",
       "      <td>-63.180786</td>\n",
       "      <td>178.103202</td>\n",
       "      <td>-68.598246</td>\n",
       "      <td>156.99821</td>\n",
       "      <td>3.51382</td>\n",
       "      <td>25.183903</td>\n",
       "      <td>...</td>\n",
       "      <td>-977.373846</td>\n",
       "      <td>-613.770792</td>\n",
       "      <td>-12.996269</td>\n",
       "      <td>-37.630448</td>\n",
       "      <td>10829.252276</td>\n",
       "      <td>-25.832889</td>\n",
       "      <td>-0.694428</td>\n",
       "      <td>-12.175933</td>\n",
       "      <td>-0.45614</td>\n",
       "      <td>0.0</td>\n",
       "    </tr>\n",
       "    <tr>\n",
       "      <th>3</th>\n",
       "      <td>2021765</td>\n",
       "      <td>1534107600</td>\n",
       "      <td>7.010029</td>\n",
       "      <td>150.200888</td>\n",
       "      <td>-6.930786</td>\n",
       "      <td>216.213202</td>\n",
       "      <td>76.621754</td>\n",
       "      <td>351.84821</td>\n",
       "      <td>-16.08618</td>\n",
       "      <td>-65.076097</td>\n",
       "      <td>...</td>\n",
       "      <td>-973.373846</td>\n",
       "      <td>-613.770792</td>\n",
       "      <td>-23.996269</td>\n",
       "      <td>-37.630448</td>\n",
       "      <td>-205.747724</td>\n",
       "      <td>-24.832889</td>\n",
       "      <td>-0.694428</td>\n",
       "      <td>-11.175933</td>\n",
       "      <td>-0.45614</td>\n",
       "      <td>1.0</td>\n",
       "    </tr>\n",
       "    <tr>\n",
       "      <th>4</th>\n",
       "      <td>2027465</td>\n",
       "      <td>1533502800</td>\n",
       "      <td>-90.439971</td>\n",
       "      <td>134.220888</td>\n",
       "      <td>-104.380786</td>\n",
       "      <td>153.643202</td>\n",
       "      <td>-109.798246</td>\n",
       "      <td>132.53821</td>\n",
       "      <td>-16.08618</td>\n",
       "      <td>-65.076097</td>\n",
       "      <td>...</td>\n",
       "      <td>1643.626154</td>\n",
       "      <td>2007.229208</td>\n",
       "      <td>206.003731</td>\n",
       "      <td>-21.630448</td>\n",
       "      <td>6667.252276</td>\n",
       "      <td>92.167111</td>\n",
       "      <td>-0.694428</td>\n",
       "      <td>49.824067</td>\n",
       "      <td>47.54386</td>\n",
       "      <td>0.0</td>\n",
       "    </tr>\n",
       "  </tbody>\n",
       "</table>\n",
       "<p>5 rows × 255 columns</p>\n",
       "</div>"
      ],
      "text/plain": [
       "        id    buy_time          0           1           2           3  \\\n",
       "0  2013026  1531688400  18.910029   46.980888    4.969214   -1.386798   \n",
       "1  2014722  1539550800  36.690029  152.400888  448.069214  563.833202   \n",
       "2  2015199  1545598800 -67.019971  157.050888  -63.180786  178.103202   \n",
       "3  2021765  1534107600   7.010029  150.200888   -6.930786  216.213202   \n",
       "4  2027465  1533502800 -90.439971  134.220888 -104.380786  153.643202   \n",
       "\n",
       "            4          5         6          7  ...          243          244  \\\n",
       "0    3.791754  -14.01179 -16.08618 -65.076097  ...  -977.373846  -613.770792   \n",
       "1  463.841754  568.99821 -16.08618 -53.216097  ...  -891.373846  -544.770792   \n",
       "2  -68.598246  156.99821   3.51382  25.183903  ...  -977.373846  -613.770792   \n",
       "3   76.621754  351.84821 -16.08618 -65.076097  ...  -973.373846  -613.770792   \n",
       "4 -109.798246  132.53821 -16.08618 -65.076097  ...  1643.626154  2007.229208   \n",
       "\n",
       "          245        246           247        248       249        250  \\\n",
       "0  -25.996269 -37.630448   -301.747724 -25.832889 -0.694428 -12.175933   \n",
       "1  -20.996269  48.369552     80.252276 -13.832889 -0.694428  -1.175933   \n",
       "2  -12.996269 -37.630448  10829.252276 -25.832889 -0.694428 -12.175933   \n",
       "3  -23.996269 -37.630448   -205.747724 -24.832889 -0.694428 -11.175933   \n",
       "4  206.003731 -21.630448   6667.252276  92.167111 -0.694428  49.824067   \n",
       "\n",
       "        251  252  \n",
       "0  -0.45614  0.0  \n",
       "1  -0.45614  0.0  \n",
       "2  -0.45614  0.0  \n",
       "3  -0.45614  1.0  \n",
       "4  47.54386  0.0  \n",
       "\n",
       "[5 rows x 255 columns]"
      ]
     },
     "execution_count": 16,
     "metadata": {},
     "output_type": "execute_result"
    }
   ],
   "source": [
    "feats = dd.read_csv(data_folder.joinpath('features.csv'), sep='\\t', blocksize='200MB').drop('Unnamed: 0', axis=1)\n",
    "feats.head()"
   ]
  },
  {
   "cell_type": "code",
   "execution_count": 17,
   "metadata": {},
   "outputs": [],
   "source": [
    "# testing\n",
    "feat_keys = client.submit(feats[['id', 'buy_time']].compute, key='compute_headers')\n",
    "headers = TypeRecast('buy_time', 'datetime').fit_transform(feat_keys.result())"
   ]
  },
  {
   "cell_type": "code",
   "execution_count": 8,
   "metadata": {},
   "outputs": [
    {
     "name": "stdout",
     "output_type": "stream",
     "text": [
      "Features data contains only unique id-time pairs: True\n"
     ]
    }
   ],
   "source": [
    "# check for duplicated user-time pairs\n",
    "print(f\"Features data contains only unique id-time pairs: {headers.shape[0] == headers.drop_duplicates().shape[0]}\")"
   ]
  },
  {
   "cell_type": "code",
   "execution_count": 21,
   "metadata": {},
   "outputs": [
    {
     "name": "stdout",
     "output_type": "stream",
     "text": [
      "Number of train users without any features: 0\n",
      "Number of test  users without any features: 0\n"
     ]
    }
   ],
   "source": [
    "# check if all users have features\n",
    "print(f\"Number of train users without any features: {train[~train['id'].drop_duplicates().isin(headers['id'].unique())].shape[0]}\")\n",
    "print(f\"Number of test  users without any features: {test[~test['id'].drop_duplicates().isin(headers['id'].unique())].shape[0]}\")"
   ]
  },
  {
   "cell_type": "code",
   "execution_count": 18,
   "metadata": {},
   "outputs": [
    {
     "data": {
      "text/plain": [
       "['Monday']"
      ]
     },
     "execution_count": 18,
     "metadata": {},
     "output_type": "execute_result"
    }
   ],
   "source": [
    "# check weekdays in user features data\n",
    "[calendar.day_name[wd] for wd in headers['buy_time'].dt.weekday.unique()]"
   ]
  },
  {
   "cell_type": "code",
   "execution_count": 10,
   "metadata": {},
   "outputs": [
    {
     "name": "stdout",
     "output_type": "stream",
     "text": [
      "Max count of sets of features for one user: 2\n"
     ]
    }
   ],
   "source": [
    "# select users with more than one features' set\n",
    "feats_count = headers.groupby(['id'])['buy_time'].nunique()\n",
    "print(f'Max count of sets of features for one user: {feats_count.max()}')"
   ]
  },
  {
   "cell_type": "code",
   "execution_count": 11,
   "metadata": {},
   "outputs": [
    {
     "name": "stdout",
     "output_type": "stream",
     "text": [
      "Purchase date may be greater than feature date: True\n",
      "Purchase date may be equal to the feature date: True\n",
      "Purchase date may be less than feature date:    True\n"
     ]
    }
   ],
   "source": [
    "# comparing dates in train and features\n",
    "actual_users = train.loc[train['id'].isin(feats_count.index), 'id'].unique()\n",
    "users_mask = train['id'].isin(actual_users)\n",
    "feats_mask = headers['id'].isin(actual_users)\n",
    "\n",
    "A = train[users_mask].sort_values(by=['id', 'buy_time'])\n",
    "B = headers[feats_mask].sort_values(by=['id', 'buy_time'])\n",
    "\n",
    "# merge and compare buy_time in train and features data\n",
    "merged = A.merge(B, on='id', how='left', suffixes=('_train', '_feat'))\n",
    "comparison = (merged['buy_time_train'] - merged['buy_time_feat']).apply(lambda val: val.days)\n",
    "\n",
    "print(f'Purchase date may be greater than feature date: {(comparison > 0).any()}',\n",
    "      f'Purchase date may be equal to the feature date: {(comparison == 0).any()}',\n",
    "      f'Purchase date may be less than feature date:    {(comparison < 0).any()}',\n",
    "      sep='\\n')"
   ]
  },
  {
   "cell_type": "markdown",
   "metadata": {},
   "source": [
    "Все наборы фичей имеют уникальные пары user-time. Максимальное количество наборов фичей для юзера - `2`. Агрегация, как и в тренировочных данных - по понедельникам. Но дата аггрегации фичей может отличаться от даты покупки в любую сторону.\n",
    "\n",
    "Если юзерфичи аггрегированы после покупки, то по идее они уже не могли влиять на таргет."
   ]
  },
  {
   "cell_type": "code",
   "execution_count": 12,
   "metadata": {},
   "outputs": [
    {
     "name": "stdout",
     "output_type": "stream",
     "text": [
      "Columns containing NaN: -\n"
     ]
    }
   ],
   "source": [
    "nan_task = client.submit(feats.isnull().any().compute, key='compute_nans')\n",
    "nans = nan_task.result()\n",
    "print(f'Columns containing NaN: {nans[nans].to_list() if nans.any() else \"-\"}')"
   ]
  },
  {
   "cell_type": "code",
   "execution_count": 13,
   "metadata": {},
   "outputs": [],
   "source": [
    "# describe features\n",
    "feat_desc = client.submit(feats.describe().compute, key='describe_features')\n",
    "feat_desc.result().to_csv(data_folder.joinpath('feat_describe.csv'))"
   ]
  },
  {
   "cell_type": "code",
   "execution_count": null,
   "metadata": {},
   "outputs": [],
   "source": [
    "# # read features description .csv\n",
    "# feat_desc = pd.read_csv(data_folder.joinpath('feat_describe.csv'), index_col='Unnamed: 0')"
   ]
  },
  {
   "cell_type": "code",
   "execution_count": 16,
   "metadata": {},
   "outputs": [
    {
     "name": "stdout",
     "output_type": "stream",
     "text": [
      "Duplicated features: 75, 81, 85, 139, 203\n"
     ]
    }
   ],
   "source": [
    "# get all duplicated featues\n",
    "dup_feat = feat_desc.result().T.duplicated(keep=False)\n",
    "print('Duplicated features:', ', '.join(feat_desc.result().columns[dup_feat].to_list()))"
   ]
  },
  {
   "cell_type": "code",
   "execution_count": 17,
   "metadata": {},
   "outputs": [
    {
     "data": {
      "text/plain": [
       "count    4512528.0\n",
       "mean           0.0\n",
       "std            0.0\n",
       "min            0.0\n",
       "25%            0.0\n",
       "50%            0.0\n",
       "75%            0.0\n",
       "max            0.0\n",
       "Name: 75, dtype: float64"
      ]
     },
     "execution_count": 17,
     "metadata": {},
     "output_type": "execute_result"
    }
   ],
   "source": [
    "feat_desc.result()['75']"
   ]
  },
  {
   "cell_type": "markdown",
   "metadata": {},
   "source": [
    "Присутствуют дублированные нулевые фичи: 75, 81, 85, 139, 203. Их можно удалить."
   ]
  },
  {
   "cell_type": "code",
   "execution_count": 18,
   "metadata": {},
   "outputs": [
    {
     "name": "stdout",
     "output_type": "stream",
     "text": [
      "<class 'pandas.core.frame.DataFrame'>\n",
      "Int64Index: 831653 entries, 0 to 831652\n",
      "Data columns (total 5 columns):\n",
      " #   Column      Non-Null Count   Dtype         \n",
      "---  ------      --------------   -----         \n",
      " 0   id          831653 non-null  int64         \n",
      " 1   vas_id      831653 non-null  int64         \n",
      " 2   buy_time    831653 non-null  datetime64[ns]\n",
      " 3   target      831653 non-null  int64         \n",
      " 4   check_date  831653 non-null  datetime64[ns]\n",
      "dtypes: datetime64[ns](2), int64(3)\n",
      "memory usage: 38.1 MB\n"
     ]
    }
   ],
   "source": [
    "# MERGE for analyse\n",
    "merge_train = train.sort_values(by='buy_time')\n",
    "merge_feats = headers.sort_values(by='buy_time')\n",
    "merge_feats['check_date'] = merge_feats['buy_time']\n",
    "\n",
    "merged = pd.merge_asof(merge_train, merge_feats, by='id', on='buy_time',\n",
    "                    #    direction='backward',\n",
    "                       direction='nearest',\n",
    "                       )\n",
    "merged.info()     # NaN means there is no features for this record"
   ]
  },
  {
   "cell_type": "code",
   "execution_count": 19,
   "metadata": {},
   "outputs": [
    {
     "name": "stdout",
     "output_type": "stream",
     "text": [
      "<class 'pandas.core.frame.DataFrame'>\n",
      "Int64Index: 282183 entries, 0 to 282182\n",
      "Data columns (total 5 columns):\n",
      " #   Column      Non-Null Count   Dtype         \n",
      "---  ------      --------------   -----         \n",
      " 0   id          282183 non-null  int64         \n",
      " 1   vas_id      282183 non-null  int64         \n",
      " 2   buy_time    282183 non-null  datetime64[ns]\n",
      " 3   target      282183 non-null  int64         \n",
      " 4   check_date  226627 non-null  datetime64[ns]\n",
      "dtypes: datetime64[ns](2), int64(3)\n",
      "memory usage: 12.9 MB\n"
     ]
    }
   ],
   "source": [
    "# merge data >= date bound\n",
    "date_bound = '2018-11-19'\n",
    "bound = dt.datetime.fromisoformat(date_bound)\n",
    "date_mask = train['buy_time'] >= bound\n",
    "\n",
    "# MERGE for analyse\n",
    "merge_train = train[date_mask].sort_values(by='buy_time')\n",
    "merge_feats = headers.sort_values(by='buy_time')\n",
    "merge_feats['check_date'] = merge_feats['buy_time']\n",
    "\n",
    "merged = pd.merge_asof(merge_train, merge_feats, by='id', on='buy_time',\n",
    "                       direction='backward',\n",
    "                     #   direction='nearest',\n",
    "                       )\n",
    "merged.info()     # NaN means there is no features for this record"
   ]
  },
  {
   "cell_type": "markdown",
   "metadata": {},
   "source": [
    "#### correlations"
   ]
  },
  {
   "cell_type": "code",
   "execution_count": 51,
   "metadata": {},
   "outputs": [],
   "source": [
    "# push pure features data to the cluster\n",
    "features = client.scatter(feats.drop(['id', 'buy_time'], axis=1))\n",
    "\n",
    "# recast to dask array with computes sizes\n",
    "dask_array = client.submit(dd.DataFrame.to_dask_array, features, lengths=True, key='recast_to_dask_array')"
   ]
  },
  {
   "cell_type": "code",
   "execution_count": null,
   "metadata": {},
   "outputs": [],
   "source": [
    "# # features covariance\n",
    "# cov_task = client.submit(dd.DataFrame.cov, features)\n",
    "# covariance = client.submit(cov_task.result().compute, key='compute_covariance')\n",
    "# wait(covariance)\n",
    "# covariance.result().to_csv(data_folder.joinpath('covariance.csv'))"
   ]
  },
  {
   "cell_type": "code",
   "execution_count": null,
   "metadata": {},
   "outputs": [],
   "source": [
    "# # features correlation\n",
    "# corr_task = client.submit(dd.DataFrame.corr, feats)\n",
    "# correlation = client.submit(corr_task.result().compute, key='correlation_compute')\n",
    "# correlation.result().to_csv(data_folder.joinpath('correlation.csv'))"
   ]
  },
  {
   "cell_type": "code",
   "execution_count": 47,
   "metadata": {},
   "outputs": [],
   "source": [
    "# corr_df = correlation.result()\n",
    "corr_df = pd.read_csv(data_folder.joinpath('correlation.csv'), index_col='Unnamed: 0')"
   ]
  },
  {
   "cell_type": "code",
   "execution_count": 49,
   "metadata": {},
   "outputs": [
    {
     "data": {
      "image/png": "[encoded data removed]",
      "text/plain": [
       "<Figure size 432x432 with 1 Axes>"
      ]
     },
     "metadata": {
      "needs_background": "light"
     },
     "output_type": "display_data"
    }
   ],
   "source": [
    "fig = plt.figure(figsize=(6, 6))\n",
    "plt.title('Features correlation')\n",
    "plt.imshow(corr_df, cmap='cividis');"
   ]
  },
  {
   "cell_type": "markdown",
   "metadata": {},
   "source": [
    "Имеется заметное количество признаков с сильной линейной корреляцией"
   ]
  },
  {
   "cell_type": "code",
   "execution_count": 52,
   "metadata": {},
   "outputs": [],
   "source": [
    "n_components = 5\n",
    "pca_model = PCA(n_components)\n",
    "fit_pca = client.submit(pca_model.fit, dask_array, key='fit_pca_model')"
   ]
  },
  {
   "cell_type": "code",
   "execution_count": 83,
   "metadata": {},
   "outputs": [
    {
     "data": {
      "image/png": "[encoded data removed]",
      "text/plain": [
       "<Figure size 432x288 with 1 Axes>"
      ]
     },
     "metadata": {
      "needs_background": "light"
     },
     "output_type": "display_data"
    }
   ],
   "source": [
    "cumulative = fit_pca.result().explained_variance_ratio_.cumsum()\n",
    "plt.plot(np.arange(n_components) + 1, cumulative)\n",
    "plt.title('Explained cumulative variance')\n",
    "plt.xlabel('number of component')\n",
    "plt.ylabel('explained cumulative variance ratio')\n",
    "plt.show()"
   ]
  },
  {
   "cell_type": "markdown",
   "metadata": {},
   "source": [
    "## conclusion"
   ]
  },
  {
   "cell_type": "markdown",
   "metadata": {},
   "source": [
    "В тренировочных данных наблюдается дисбаланс классов: `7.24%` объектов первого класса.\n",
    "\n",
    "В подавляющем большинстве (`97.67%`) одному клиенту предлагался один вид услуги; в `2.32%` случаев было предложено два вида услуг; остальным - три.\n",
    "\n",
    "Услуги 6, 4 и 9 продавались лучше всего: `42,68%`, `25,38%` и `18,35%` от количества их предложений было продано. У остальных услуг доля продаж не превышает `2,6%`.\n",
    "При этом услуга 9 составляет очень малую долю (`1,67%`) в общем количестве продаж.\n",
    "\n",
    "До 12-19 ноября основные подключаемые услуги были 4, 6 и 9, при этом услуга 4 постепенно вытесняла услугу 6. Потом доля услуги 4 значительно сократилась, но также значительно выросла доля услуги 6, т.е. произошло обратное замещение. Остальные услуги продавались в незначительно малом количестве. Аналогичная картина с небольшим смещением даты наблюдается в структуре предложения.\n",
    "\n",
    "Услуга 9 показала необъяснимый всплеск продаж 19 ноября - на два порядка выше медианы. Достоверен ли он - не понять никак.\n",
    "\n",
    "Присутствуют повторные предложения как с изменением таргета, так и без. Больше двух раз одна и та же услуга никому не предлагалась."
   ]
  },
  {
   "cell_type": "markdown",
   "metadata": {},
   "source": [
    "В тестовых данных присутствуют записи только `4188` пользователей, которые были представлены в тренировочных данных, остальные пользователи новые.<br>\n",
    "Различий по составу продаваемых услуг между тренировочными и тестовыми данными нет. Структура предложения в тестовых данных схожа с таковой для тренировочных данных на период после примерной границы 19 ноября.\n",
    "\n",
    "Поскольку структура предложения, наблюдаемая в тестовых данных, сформировалась после определенной даты, можно исключить из обучения данные до этой даты - 19 ноября"
   ]
  },
  {
   "cell_type": "markdown",
   "metadata": {},
   "source": [
    "Пропусков в фичах пользователей нет, но есть нулевые фичи: `75`, `81`, `85`, `139`, `203`.\n",
    "\n",
    "Дата аггрегации фичей может отличаться от даты покупки в любую сторону, из чего возникает задача сопоставления записи о покупке с фичами пользователя.\n",
    "1) При сопоставлении тренировочных данных с фичами пользователей по ближайшей дате, независимо от положения на временном отрезке, актуальные фичи присутствуют для всех записей. Данный подход не очень логичен, однако может быть применен в качества базового решения.\n",
    "\n",
    "2) При сопоставлении по совпадающей дате или ближайшей предшествующей к дате покупки, актуальные фичи получаютя только для 408724 записей, это чуть меньше `50%` всех тренировочных записей. Этот вариант логичнее, поскольку поьзовательский профиль сфрмированый после покупки мог не влиять на решние о покупке, тем более, если он сформирован сильно позже. Т.о. данное решение требует разработки системы заполнения профилей пользователя __для половины__ тренировочных данных, что сделать достаточно непросто.<br>\n",
    "Если использовать только часть тренировочных данных после 19 ноября, то актуальные фичи есть для 226627 записей, что составляет ~`80%` всех используемых в обучении записей. В этом случае можно попробовать \"восстановить\" недостающие, несмотря на то, что 20% отсутсвующих данных это по-прежнему очень много.\n",
    "\n",
    "Фичи можно сжать до 3-х компонент практически без потери информации"
   ]
  },
  {
   "cell_type": "code",
   "execution_count": null,
   "metadata": {
    "collapsed": false,
    "pycharm": {
     "name": "#%%\n"
    }
   },
   "outputs": [],
   "source": [
    "#"
   ]
  }
 ],
 "metadata": {
  "interpreter": {
   "hash": "625f6aa541ce7a5325053710078740a357292b5fc1db12ea0274779218b7749b"
  },
  "kernelspec": {
   "display_name": "Python 3.9.5 ('venv': venv)",
   "language": "python",
   "name": "python3"
  },
  "language_info": {
   "codemirror_mode": {
    "name": "ipython",
    "version": 3
   },
   "file_extension": ".py",
   "mimetype": "text/x-python",
   "name": "python",
   "nbconvert_exporter": "python",
   "pygments_lexer": "ipython3",
   "version": "3.9.5"
  }
 },
 "nbformat": 4,
 "nbformat_minor": 0
}
