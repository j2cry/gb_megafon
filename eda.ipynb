{
 "cells": [
  {
   "cell_type": "code",
   "execution_count": 1,
   "metadata": {
    "collapsed": true,
    "pycharm": {
     "name": "#%%\n"
    }
   },
   "outputs": [],
   "source": [
    "import pathlib\n",
    "import datetime\n",
    "import calendar\n",
    "import numpy as np\n",
    "import pandas as pd\n",
    "import dask.dataframe as dd\n",
    "import matplotlib.pyplot as plt\n",
    "from sklearn.base import TransformerMixin\n",
    "from sklearn.pipeline import Pipeline\n",
    "\n",
    "data_folder = pathlib.Path('data')"
   ]
  },
  {
   "cell_type": "markdown",
   "metadata": {
    "collapsed": false,
    "pycharm": {
     "name": "#%% md\n"
    }
   },
   "source": [
    "## prepare data"
   ]
  },
  {
   "cell_type": "code",
   "execution_count": 2,
   "metadata": {
    "collapsed": false,
    "pycharm": {
     "name": "#%%\n"
    }
   },
   "outputs": [
    {
     "data": {
      "text/html": [
       "<div>\n",
       "<style scoped>\n",
       "    .dataframe tbody tr th:only-of-type {\n",
       "        vertical-align: middle;\n",
       "    }\n",
       "\n",
       "    .dataframe tbody tr th {\n",
       "        vertical-align: top;\n",
       "    }\n",
       "\n",
       "    .dataframe thead th {\n",
       "        text-align: right;\n",
       "    }\n",
       "</style>\n",
       "<table border=\"1\" class=\"dataframe\">\n",
       "  <thead>\n",
       "    <tr style=\"text-align: right;\">\n",
       "      <th></th>\n",
       "      <th>id</th>\n",
       "      <th>vas_id</th>\n",
       "      <th>buy_time</th>\n",
       "      <th>target</th>\n",
       "    </tr>\n",
       "  </thead>\n",
       "  <tbody>\n",
       "    <tr>\n",
       "      <th>0</th>\n",
       "      <td>540968</td>\n",
       "      <td>8.0</td>\n",
       "      <td>1537131600</td>\n",
       "      <td>0.0</td>\n",
       "    </tr>\n",
       "    <tr>\n",
       "      <th>1</th>\n",
       "      <td>1454121</td>\n",
       "      <td>4.0</td>\n",
       "      <td>1531688400</td>\n",
       "      <td>0.0</td>\n",
       "    </tr>\n",
       "  </tbody>\n",
       "</table>\n",
       "</div>"
      ],
      "text/plain": [
       "        id  vas_id    buy_time  target\n",
       "0   540968     8.0  1537131600     0.0\n",
       "1  1454121     4.0  1531688400     0.0"
      ]
     },
     "execution_count": 2,
     "metadata": {},
     "output_type": "execute_result"
    }
   ],
   "source": [
    "train = pd.read_csv(data_folder.joinpath('data_train.csv'), index_col='Unnamed: 0')\n",
    "train.head(2)"
   ]
  },
  {
   "cell_type": "code",
   "execution_count": 3,
   "metadata": {},
   "outputs": [
    {
     "name": "stdout",
     "output_type": "stream",
     "text": [
      "<class 'pandas.core.frame.DataFrame'>\n",
      "Int64Index: 831653 entries, 0 to 831652\n",
      "Data columns (total 4 columns):\n",
      " #   Column    Non-Null Count   Dtype  \n",
      "---  ------    --------------   -----  \n",
      " 0   id        831653 non-null  int64  \n",
      " 1   vas_id    831653 non-null  float64\n",
      " 2   buy_time  831653 non-null  int64  \n",
      " 3   target    831653 non-null  float64\n",
      "dtypes: float64(2), int64(2)\n",
      "memory usage: 31.7 MB\n"
     ]
    }
   ],
   "source": [
    "train.info()"
   ]
  },
  {
   "cell_type": "code",
   "execution_count": 44,
   "metadata": {},
   "outputs": [],
   "source": [
    "# class TimestampRecast(TransformerMixin):\n",
    "#     \"\"\" Recast timestamp to datetime \"\"\"\n",
    "#     def fit(self, X, y=None, **fit_params):\n",
    "#         return self\n",
    "\n",
    "#     def transform(self, X, y=None):\n",
    "#         df = X.copy()\n",
    "#         df['buy_time'] = df['buy_time'].apply(lambda val: datetime.datetime.fromtimestamp(val), meta=('buy_time', 'datetime64[ns]'))\n",
    "#         return df"
   ]
  },
  {
   "cell_type": "code",
   "execution_count": 4,
   "metadata": {},
   "outputs": [],
   "source": [
    "class TypeRecast(TransformerMixin):\n",
    "    \"\"\" Recast selected field to another type \"\"\"\n",
    "    def __init__(self, field, dtype):\n",
    "        self.field = field\n",
    "        self.dtype = dtype\n",
    "        self.parse_buy_time = None\n",
    "\n",
    "    def fit(self, X, y=None, **fit_params):\n",
    "        if self.dtype == 'datetime':\n",
    "            if train['id'].dtype == 'int':\n",
    "                self.parse_buy_time = np.vectorize(datetime.datetime.fromtimestamp)\n",
    "            elif train['id'].dtype == 'str':\n",
    "                self.parse_buy_time = np.vectorize(datetime.datetime.fromisoformat)\n",
    "        return self\n",
    "\n",
    "    def transform(self, X, y=None):\n",
    "        df = X.copy()\n",
    "        if self.field in df.columns:\n",
    "            if self.dtype == 'datetime':\n",
    "                df[self.field] = self.parse_buy_time(df['buy_time'])\n",
    "            else:\n",
    "                df[self.field] = df[self.field].astype(self.dtype)\n",
    "        return df"
   ]
  },
  {
   "cell_type": "code",
   "execution_count": 5,
   "metadata": {},
   "outputs": [],
   "source": [
    "recaster = Pipeline([('recast_vas_id', TypeRecast('vas_id', 'int')),\n",
    "                     ('recast_target', TypeRecast('target', 'int')),\n",
    "                     ('recast_buy_time', TypeRecast('buy_time', 'datetime'))\n",
    "                     ])"
   ]
  },
  {
   "cell_type": "code",
   "execution_count": 6,
   "metadata": {
    "collapsed": false,
    "pycharm": {
     "name": "#%%\n"
    }
   },
   "outputs": [
    {
     "data": {
      "text/html": [
       "<div>\n",
       "<style scoped>\n",
       "    .dataframe tbody tr th:only-of-type {\n",
       "        vertical-align: middle;\n",
       "    }\n",
       "\n",
       "    .dataframe tbody tr th {\n",
       "        vertical-align: top;\n",
       "    }\n",
       "\n",
       "    .dataframe thead th {\n",
       "        text-align: right;\n",
       "    }\n",
       "</style>\n",
       "<table border=\"1\" class=\"dataframe\">\n",
       "  <thead>\n",
       "    <tr style=\"text-align: right;\">\n",
       "      <th></th>\n",
       "      <th>id</th>\n",
       "      <th>vas_id</th>\n",
       "      <th>buy_time</th>\n",
       "      <th>target</th>\n",
       "    </tr>\n",
       "  </thead>\n",
       "  <tbody>\n",
       "    <tr>\n",
       "      <th>0</th>\n",
       "      <td>540968</td>\n",
       "      <td>8</td>\n",
       "      <td>2018-09-17</td>\n",
       "      <td>0</td>\n",
       "    </tr>\n",
       "    <tr>\n",
       "      <th>1</th>\n",
       "      <td>1454121</td>\n",
       "      <td>4</td>\n",
       "      <td>2018-07-16</td>\n",
       "      <td>0</td>\n",
       "    </tr>\n",
       "  </tbody>\n",
       "</table>\n",
       "</div>"
      ],
      "text/plain": [
       "        id  vas_id   buy_time  target\n",
       "0   540968       8 2018-09-17       0\n",
       "1  1454121       4 2018-07-16       0"
      ]
     },
     "execution_count": 6,
     "metadata": {},
     "output_type": "execute_result"
    }
   ],
   "source": [
    "train = pd.read_csv(data_folder.joinpath('data_train.csv'), index_col='Unnamed: 0')\n",
    "train = recaster.fit_transform(train)\n",
    "train.head(2)"
   ]
  },
  {
   "cell_type": "code",
   "execution_count": 7,
   "metadata": {},
   "outputs": [
    {
     "data": {
      "text/html": [
       "<div>\n",
       "<style scoped>\n",
       "    .dataframe tbody tr th:only-of-type {\n",
       "        vertical-align: middle;\n",
       "    }\n",
       "\n",
       "    .dataframe tbody tr th {\n",
       "        vertical-align: top;\n",
       "    }\n",
       "\n",
       "    .dataframe thead th {\n",
       "        text-align: right;\n",
       "    }\n",
       "</style>\n",
       "<table border=\"1\" class=\"dataframe\">\n",
       "  <thead>\n",
       "    <tr style=\"text-align: right;\">\n",
       "      <th></th>\n",
       "      <th>id</th>\n",
       "      <th>vas_id</th>\n",
       "      <th>buy_time</th>\n",
       "    </tr>\n",
       "  </thead>\n",
       "  <tbody>\n",
       "    <tr>\n",
       "      <th>0</th>\n",
       "      <td>3130519</td>\n",
       "      <td>2</td>\n",
       "      <td>2019-01-21</td>\n",
       "    </tr>\n",
       "    <tr>\n",
       "      <th>1</th>\n",
       "      <td>2000860</td>\n",
       "      <td>4</td>\n",
       "      <td>2019-01-21</td>\n",
       "    </tr>\n",
       "  </tbody>\n",
       "</table>\n",
       "</div>"
      ],
      "text/plain": [
       "        id  vas_id   buy_time\n",
       "0  3130519       2 2019-01-21\n",
       "1  2000860       4 2019-01-21"
      ]
     },
     "execution_count": 7,
     "metadata": {},
     "output_type": "execute_result"
    }
   ],
   "source": [
    "test = pd.read_csv(data_folder.joinpath('data_test.csv'), index_col='Unnamed: 0')\n",
    "test = recaster.fit_transform(test)\n",
    "test.head(2)"
   ]
  },
  {
   "cell_type": "code",
   "execution_count": 7,
   "metadata": {},
   "outputs": [],
   "source": [
    "# # save for tableau\n",
    "# train['buy_time'] = train['buy_time'].apply(lambda val: str(val.date()))\n",
    "# train.to_csv(data_folder.joinpath('train_prepared.csv'), index=False)"
   ]
  },
  {
   "cell_type": "markdown",
   "metadata": {
    "collapsed": false,
    "pycharm": {
     "name": "#%% md\n"
    }
   },
   "source": [
    "## Exploratory data analysis"
   ]
  },
  {
   "cell_type": "markdown",
   "metadata": {},
   "source": [
    "Ниже представлена только программная часть анализа. Графики представлены в дашбордах:\n",
    "https://public.tableau.com/app/profile/peter3691/viz/megafon"
   ]
  },
  {
   "cell_type": "code",
   "execution_count": 8,
   "metadata": {},
   "outputs": [
    {
     "name": "stdout",
     "output_type": "stream",
     "text": [
      "Users count in train: 806613\n",
      "Users count in test: 70152\n",
      "Cold users count in test: 4188\n",
      "Products train/test difference: None\n",
      "Total products count: 8\n"
     ]
    }
   ],
   "source": [
    "# train users count\n",
    "print(f\"Users count in train: {train['id'].nunique()}\")\n",
    "print(f\"Users count in test: {test['id'].nunique()}\")\n",
    "\n",
    "# cold users\n",
    "cold_users_mask = test['id'].isin(train['id'].unique())\n",
    "print(f\"Cold users count in test: {test.loc[cold_users_mask, 'id'].nunique()}\")\n",
    "\n",
    "# vas_id difference\n",
    "diff = set(train['vas_id']) ^ set(test['vas_id'])\n",
    "print(f\"Products train/test difference: {diff if diff else None}\")\n",
    "\n",
    "# total products count\n",
    "print(f\"Total products count: {train['vas_id'].nunique()}\")"
   ]
  },
  {
   "cell_type": "code",
   "execution_count": 9,
   "metadata": {
    "collapsed": false,
    "pycharm": {
     "name": "#%%\n"
    }
   },
   "outputs": [
    {
     "data": {
      "text/plain": [
       "Monday    831653\n",
       "Name: buy_time, dtype: int64"
      ]
     },
     "execution_count": 9,
     "metadata": {},
     "output_type": "execute_result"
    }
   ],
   "source": [
    "# count weekdays\n",
    "train['buy_time'].apply(lambda val: calendar.day_name[val.weekday()]).value_counts()"
   ]
  },
  {
   "cell_type": "code",
   "execution_count": 10,
   "metadata": {},
   "outputs": [
    {
     "name": "stdout",
     "output_type": "stream",
     "text": [
      "First date: 2018-07-09\n",
      "Last date:  2018-12-31\n",
      "Months in data: 6\n",
      "Weeks in data: 26\n"
     ]
    }
   ],
   "source": [
    "# min/max date\n",
    "mn, mx = train['buy_time'].min(), train['buy_time'].max()\n",
    "print(f'First date: {mn.date()}', f'Last date:  {mx.date()}', sep='\\n')\n",
    "print(f\"Months in data: {train['buy_time'].apply(lambda val: val.month).nunique()}\")\n",
    "print(f\"Weeks in data: {train['buy_time'].nunique()}\")"
   ]
  },
  {
   "cell_type": "markdown",
   "metadata": {},
   "source": [
    "в buy_time только понедельники. Видимо по понедельникам отрабатывает пайплайн аггрегации данных.\n",
    "Следовательно, изучить данные в разрезе дней недели не выйдет.\n",
    "Данные представлены только за часть 2018 года и охватывают разброс в 6 месяцев.\n",
    "Поскольку данные уже аггрегированы по неделям, динамика за месяц может быть смазана, поэтому буду рассматривать динамику по неделям. \n",
    "Для удобства проиндексирую недели, начиная с единицы."
   ]
  },
  {
   "cell_type": "code",
   "execution_count": 11,
   "metadata": {},
   "outputs": [
    {
     "data": {
      "text/html": [
       "<div>\n",
       "<style scoped>\n",
       "    .dataframe tbody tr th:only-of-type {\n",
       "        vertical-align: middle;\n",
       "    }\n",
       "\n",
       "    .dataframe tbody tr th {\n",
       "        vertical-align: top;\n",
       "    }\n",
       "\n",
       "    .dataframe thead th {\n",
       "        text-align: right;\n",
       "    }\n",
       "</style>\n",
       "<table border=\"1\" class=\"dataframe\">\n",
       "  <thead>\n",
       "    <tr style=\"text-align: right;\">\n",
       "      <th></th>\n",
       "      <th>first</th>\n",
       "      <th>last</th>\n",
       "    </tr>\n",
       "    <tr>\n",
       "      <th>vas_id</th>\n",
       "      <th></th>\n",
       "      <th></th>\n",
       "    </tr>\n",
       "  </thead>\n",
       "  <tbody>\n",
       "    <tr>\n",
       "      <th>1</th>\n",
       "      <td>2018-07-09</td>\n",
       "      <td>2018-12-31</td>\n",
       "    </tr>\n",
       "    <tr>\n",
       "      <th>2</th>\n",
       "      <td>2018-07-09</td>\n",
       "      <td>2018-12-31</td>\n",
       "    </tr>\n",
       "    <tr>\n",
       "      <th>4</th>\n",
       "      <td>2018-07-09</td>\n",
       "      <td>2018-12-31</td>\n",
       "    </tr>\n",
       "    <tr>\n",
       "      <th>5</th>\n",
       "      <td>2018-07-09</td>\n",
       "      <td>2018-12-31</td>\n",
       "    </tr>\n",
       "    <tr>\n",
       "      <th>6</th>\n",
       "      <td>2018-07-09</td>\n",
       "      <td>2018-12-31</td>\n",
       "    </tr>\n",
       "    <tr>\n",
       "      <th>7</th>\n",
       "      <td>2018-08-27</td>\n",
       "      <td>2018-12-31</td>\n",
       "    </tr>\n",
       "    <tr>\n",
       "      <th>8</th>\n",
       "      <td>2018-07-09</td>\n",
       "      <td>2018-12-31</td>\n",
       "    </tr>\n",
       "    <tr>\n",
       "      <th>9</th>\n",
       "      <td>2018-07-09</td>\n",
       "      <td>2018-12-31</td>\n",
       "    </tr>\n",
       "  </tbody>\n",
       "</table>\n",
       "</div>"
      ],
      "text/plain": [
       "            first       last\n",
       "vas_id                      \n",
       "1      2018-07-09 2018-12-31\n",
       "2      2018-07-09 2018-12-31\n",
       "4      2018-07-09 2018-12-31\n",
       "5      2018-07-09 2018-12-31\n",
       "6      2018-07-09 2018-12-31\n",
       "7      2018-08-27 2018-12-31\n",
       "8      2018-07-09 2018-12-31\n",
       "9      2018-07-09 2018-12-31"
      ]
     },
     "execution_count": 11,
     "metadata": {},
     "output_type": "execute_result"
    }
   ],
   "source": [
    "# date of first/last sale\n",
    "first = train.groupby('vas_id')['buy_time'].min()\n",
    "last = train.groupby('vas_id')['buy_time'].max()\n",
    "pd.DataFrame([first, last], index=['first', 'last']).T"
   ]
  },
  {
   "cell_type": "markdown",
   "metadata": {},
   "source": [
    "Даты первой и последней продаж совпадают с границами датасета практически для всех услуг"
   ]
  },
  {
   "cell_type": "code",
   "execution_count": 84,
   "metadata": {},
   "outputs": [
    {
     "name": "stdout",
     "output_type": "stream",
     "text": [
      "Max number of offers to one user: 2\n",
      "Number of users who left their target unchanged: 43\n",
      "    remained 0: 4\n",
      "    remained 1: 39\n",
      "Number of users who changed their target: 6206\n",
      "    changed to 0: 2160\n",
      "    changed to 1: 4046\n"
     ]
    }
   ],
   "source": [
    "# aggregate offers data\n",
    "offers = train.sort_values(by='buy_time').groupby(['vas_id', 'id'])['target'].agg(list)\n",
    "\n",
    "# Max number of offers\n",
    "print(f'Max number of offers to one user: {offers.apply(len).max()}')\n",
    "\n",
    "# Double offers analyse\n",
    "double_offer_mask = offers.apply(len) > 1\n",
    "\n",
    "# Users whose target has remained\n",
    "target_remain_mask = offers[double_offer_mask].apply(lambda val: val[0] == val[1])\n",
    "\n",
    "print(f'Number of users who left their target unchanged: {offers[double_offer_mask][target_remain_mask].size}')\n",
    "remained = offers[double_offer_mask][target_remain_mask]\n",
    "pos_mask = remained.apply(lambda val: val[1] == 1)\n",
    "print(f'    remained 0: {remained[~pos_mask].size}', f'    remained 1: {remained[pos_mask].size}', sep='\\n')\n",
    "\n",
    "# Users whose target has changed\n",
    "print(f'Number of users who changed their target: {offers[double_offer_mask][~target_remain_mask].size}')\n",
    "changed = offers[double_offer_mask][~target_remain_mask]\n",
    "pos_mask = changed.apply(lambda val: val[1] == 1)\n",
    "print(f'    changed to 0: {changed[~pos_mask].size}', f'    changed to 1: {changed[pos_mask].size}', sep='\\n')\n"
   ]
  },
  {
   "cell_type": "code",
   "execution_count": 14,
   "metadata": {},
   "outputs": [],
   "source": [
    "# # draft to keep actual (last) user choice\n",
    "# dup_mask = train.sort_values(by='buy_time')[['id', 'vas_id']].duplicated(keep='last')\n",
    "# train.sort_values(by='buy_time')[~dup_mask]"
   ]
  },
  {
   "cell_type": "markdown",
   "metadata": {},
   "source": [
    "## features"
   ]
  },
  {
   "cell_type": "code",
   "execution_count": 9,
   "metadata": {},
   "outputs": [
    {
     "data": {
      "text/html": [
       "<div>\n",
       "<style scoped>\n",
       "    .dataframe tbody tr th:only-of-type {\n",
       "        vertical-align: middle;\n",
       "    }\n",
       "\n",
       "    .dataframe tbody tr th {\n",
       "        vertical-align: top;\n",
       "    }\n",
       "\n",
       "    .dataframe thead th {\n",
       "        text-align: right;\n",
       "    }\n",
       "</style>\n",
       "<table border=\"1\" class=\"dataframe\">\n",
       "  <thead>\n",
       "    <tr style=\"text-align: right;\">\n",
       "      <th></th>\n",
       "      <th>id</th>\n",
       "      <th>buy_time</th>\n",
       "      <th>0</th>\n",
       "      <th>1</th>\n",
       "      <th>2</th>\n",
       "      <th>3</th>\n",
       "      <th>4</th>\n",
       "      <th>5</th>\n",
       "      <th>6</th>\n",
       "      <th>7</th>\n",
       "      <th>...</th>\n",
       "      <th>243</th>\n",
       "      <th>244</th>\n",
       "      <th>245</th>\n",
       "      <th>246</th>\n",
       "      <th>247</th>\n",
       "      <th>248</th>\n",
       "      <th>249</th>\n",
       "      <th>250</th>\n",
       "      <th>251</th>\n",
       "      <th>252</th>\n",
       "    </tr>\n",
       "  </thead>\n",
       "  <tbody>\n",
       "    <tr>\n",
       "      <th>0</th>\n",
       "      <td>2013026</td>\n",
       "      <td>1531688400</td>\n",
       "      <td>18.910029</td>\n",
       "      <td>46.980888</td>\n",
       "      <td>4.969214</td>\n",
       "      <td>-1.386798</td>\n",
       "      <td>3.791754</td>\n",
       "      <td>-14.01179</td>\n",
       "      <td>-16.08618</td>\n",
       "      <td>-65.076097</td>\n",
       "      <td>...</td>\n",
       "      <td>-977.373846</td>\n",
       "      <td>-613.770792</td>\n",
       "      <td>-25.996269</td>\n",
       "      <td>-37.630448</td>\n",
       "      <td>-301.747724</td>\n",
       "      <td>-25.832889</td>\n",
       "      <td>-0.694428</td>\n",
       "      <td>-12.175933</td>\n",
       "      <td>-0.45614</td>\n",
       "      <td>0.0</td>\n",
       "    </tr>\n",
       "    <tr>\n",
       "      <th>1</th>\n",
       "      <td>2014722</td>\n",
       "      <td>1539550800</td>\n",
       "      <td>36.690029</td>\n",
       "      <td>152.400888</td>\n",
       "      <td>448.069214</td>\n",
       "      <td>563.833202</td>\n",
       "      <td>463.841754</td>\n",
       "      <td>568.99821</td>\n",
       "      <td>-16.08618</td>\n",
       "      <td>-53.216097</td>\n",
       "      <td>...</td>\n",
       "      <td>-891.373846</td>\n",
       "      <td>-544.770792</td>\n",
       "      <td>-20.996269</td>\n",
       "      <td>48.369552</td>\n",
       "      <td>80.252276</td>\n",
       "      <td>-13.832889</td>\n",
       "      <td>-0.694428</td>\n",
       "      <td>-1.175933</td>\n",
       "      <td>-0.45614</td>\n",
       "      <td>0.0</td>\n",
       "    </tr>\n",
       "    <tr>\n",
       "      <th>2</th>\n",
       "      <td>2015199</td>\n",
       "      <td>1545598800</td>\n",
       "      <td>-67.019971</td>\n",
       "      <td>157.050888</td>\n",
       "      <td>-63.180786</td>\n",
       "      <td>178.103202</td>\n",
       "      <td>-68.598246</td>\n",
       "      <td>156.99821</td>\n",
       "      <td>3.51382</td>\n",
       "      <td>25.183903</td>\n",
       "      <td>...</td>\n",
       "      <td>-977.373846</td>\n",
       "      <td>-613.770792</td>\n",
       "      <td>-12.996269</td>\n",
       "      <td>-37.630448</td>\n",
       "      <td>10829.252276</td>\n",
       "      <td>-25.832889</td>\n",
       "      <td>-0.694428</td>\n",
       "      <td>-12.175933</td>\n",
       "      <td>-0.45614</td>\n",
       "      <td>0.0</td>\n",
       "    </tr>\n",
       "    <tr>\n",
       "      <th>3</th>\n",
       "      <td>2021765</td>\n",
       "      <td>1534107600</td>\n",
       "      <td>7.010029</td>\n",
       "      <td>150.200888</td>\n",
       "      <td>-6.930786</td>\n",
       "      <td>216.213202</td>\n",
       "      <td>76.621754</td>\n",
       "      <td>351.84821</td>\n",
       "      <td>-16.08618</td>\n",
       "      <td>-65.076097</td>\n",
       "      <td>...</td>\n",
       "      <td>-973.373846</td>\n",
       "      <td>-613.770792</td>\n",
       "      <td>-23.996269</td>\n",
       "      <td>-37.630448</td>\n",
       "      <td>-205.747724</td>\n",
       "      <td>-24.832889</td>\n",
       "      <td>-0.694428</td>\n",
       "      <td>-11.175933</td>\n",
       "      <td>-0.45614</td>\n",
       "      <td>1.0</td>\n",
       "    </tr>\n",
       "    <tr>\n",
       "      <th>4</th>\n",
       "      <td>2027465</td>\n",
       "      <td>1533502800</td>\n",
       "      <td>-90.439971</td>\n",
       "      <td>134.220888</td>\n",
       "      <td>-104.380786</td>\n",
       "      <td>153.643202</td>\n",
       "      <td>-109.798246</td>\n",
       "      <td>132.53821</td>\n",
       "      <td>-16.08618</td>\n",
       "      <td>-65.076097</td>\n",
       "      <td>...</td>\n",
       "      <td>1643.626154</td>\n",
       "      <td>2007.229208</td>\n",
       "      <td>206.003731</td>\n",
       "      <td>-21.630448</td>\n",
       "      <td>6667.252276</td>\n",
       "      <td>92.167111</td>\n",
       "      <td>-0.694428</td>\n",
       "      <td>49.824067</td>\n",
       "      <td>47.54386</td>\n",
       "      <td>0.0</td>\n",
       "    </tr>\n",
       "  </tbody>\n",
       "</table>\n",
       "<p>5 rows × 255 columns</p>\n",
       "</div>"
      ],
      "text/plain": [
       "        id    buy_time          0           1           2           3  \\\n",
       "0  2013026  1531688400  18.910029   46.980888    4.969214   -1.386798   \n",
       "1  2014722  1539550800  36.690029  152.400888  448.069214  563.833202   \n",
       "2  2015199  1545598800 -67.019971  157.050888  -63.180786  178.103202   \n",
       "3  2021765  1534107600   7.010029  150.200888   -6.930786  216.213202   \n",
       "4  2027465  1533502800 -90.439971  134.220888 -104.380786  153.643202   \n",
       "\n",
       "            4          5         6          7  ...          243          244  \\\n",
       "0    3.791754  -14.01179 -16.08618 -65.076097  ...  -977.373846  -613.770792   \n",
       "1  463.841754  568.99821 -16.08618 -53.216097  ...  -891.373846  -544.770792   \n",
       "2  -68.598246  156.99821   3.51382  25.183903  ...  -977.373846  -613.770792   \n",
       "3   76.621754  351.84821 -16.08618 -65.076097  ...  -973.373846  -613.770792   \n",
       "4 -109.798246  132.53821 -16.08618 -65.076097  ...  1643.626154  2007.229208   \n",
       "\n",
       "          245        246           247        248       249        250  \\\n",
       "0  -25.996269 -37.630448   -301.747724 -25.832889 -0.694428 -12.175933   \n",
       "1  -20.996269  48.369552     80.252276 -13.832889 -0.694428  -1.175933   \n",
       "2  -12.996269 -37.630448  10829.252276 -25.832889 -0.694428 -12.175933   \n",
       "3  -23.996269 -37.630448   -205.747724 -24.832889 -0.694428 -11.175933   \n",
       "4  206.003731 -21.630448   6667.252276  92.167111 -0.694428  49.824067   \n",
       "\n",
       "        251  252  \n",
       "0  -0.45614  0.0  \n",
       "1  -0.45614  0.0  \n",
       "2  -0.45614  0.0  \n",
       "3  -0.45614  1.0  \n",
       "4  47.54386  0.0  \n",
       "\n",
       "[5 rows x 255 columns]"
      ]
     },
     "execution_count": 9,
     "metadata": {},
     "output_type": "execute_result"
    }
   ],
   "source": [
    "feats = dd.read_csv(data_folder.joinpath('features.csv'), sep='\\t').drop('Unnamed: 0', axis=1)\n",
    "feats.head()"
   ]
  },
  {
   "cell_type": "code",
   "execution_count": 27,
   "metadata": {},
   "outputs": [],
   "source": [
    "# prepare feature keys\n",
    "feat_keys = feats[['id', 'buy_time']].compute()\n",
    "feat_keys = TypeRecast('buy_time', 'datetime').fit_transform(feat_keys)"
   ]
  },
  {
   "cell_type": "code",
   "execution_count": 81,
   "metadata": {},
   "outputs": [
    {
     "name": "stdout",
     "output_type": "stream",
     "text": [
      "Features data contains only unique id-time pairs: True\n"
     ]
    }
   ],
   "source": [
    "# check for duplicated user-time pairs\n",
    "print(f\"Features data contains only unique id-time pairs: {feats.shape[0].compute() == feat_keys.drop_duplicates().shape[0]}\")"
   ]
  },
  {
   "cell_type": "code",
   "execution_count": 82,
   "metadata": {},
   "outputs": [
    {
     "data": {
      "text/plain": [
       "array(['Monday'], dtype=object)"
      ]
     },
     "execution_count": 82,
     "metadata": {},
     "output_type": "execute_result"
    }
   ],
   "source": [
    "# check weekdays in user features data\n",
    "# feats['buy_time'].apply(lambda val: calendar.day_name[val.weekday()], meta=('buy_time', 'object')).unique().compute()\n",
    "feat_keys['buy_time'].apply(lambda val: calendar.day_name[val.weekday()]).unique()"
   ]
  },
  {
   "cell_type": "code",
   "execution_count": 83,
   "metadata": {},
   "outputs": [
    {
     "name": "stdout",
     "output_type": "stream",
     "text": [
      "Max count of sets of features for one user: 2\n"
     ]
    }
   ],
   "source": [
    "# select users with more than one features' set\n",
    "feats_count = feat_keys.groupby(['id'])['buy_time'].nunique()\n",
    "print(f'Max count of sets of features for one user: {feats_count.max()}')"
   ]
  },
  {
   "cell_type": "code",
   "execution_count": 95,
   "metadata": {},
   "outputs": [
    {
     "name": "stdout",
     "output_type": "stream",
     "text": [
      "Purchase date may be greater than feature date: True - we can use these\n",
      "Purchase date may be equal to the feature date: True - we can use these\n",
      "Purchase date may be less than feature date:    True - we can't use these\n"
     ]
    }
   ],
   "source": [
    "# comparing dates in train and features\n",
    "actual_users = train.loc[train['id'].isin(feats_count.index), 'id'].unique()\n",
    "users_mask = train['id'].isin(actual_users)\n",
    "feats_mask = feat_keys['id'].isin(actual_users)\n",
    "\n",
    "A = train[users_mask].sort_values(by=['id', 'buy_time'])\n",
    "B = feat_keys[feats_mask].sort_values(by=['id', 'buy_time'])\n",
    "\n",
    "# merge and compare buy_time in train and features data\n",
    "merged = A.merge(B, on='id', how='left', suffixes=('_train', '_feat'))\n",
    "comparison = (merged['buy_time_train'] - merged['buy_time_feat']).apply(lambda val: val.days)\n",
    "\n",
    "print(f'Purchase date may be greater than feature date: {(comparison > 0).any()} - we can use these',\n",
    "      f'Purchase date may be equal to the feature date: {(comparison == 0).any()} - we can use these',\n",
    "      f\"Purchase date may be less than feature date:    {(comparison < 0).any()} - we can't use these\",\n",
    "      sep='\\n')"
   ]
  },
  {
   "cell_type": "markdown",
   "metadata": {},
   "source": [
    "Все наборы фичей имеют уникальные пары user-time. Максимальное количество наборов фичей для юзера - `2`. Агрегация, как и в тренировочных данных - по понедельникам. Но дата аггрегации фичей может отличаться от даты покупки в любую сторону.\n",
    "\n",
    "Если юзерфичи аггрегированы после покупки, то по идее они уже не могли влиять на таргет."
   ]
  },
  {
   "cell_type": "code",
   "execution_count": null,
   "metadata": {},
   "outputs": [],
   "source": [
    "# TODO проверить фичи на NULL, duplicates, const"
   ]
  },
  {
   "cell_type": "code",
   "execution_count": null,
   "metadata": {},
   "outputs": [],
   "source": []
  },
  {
   "cell_type": "code",
   "execution_count": 33,
   "metadata": {},
   "outputs": [
    {
     "name": "stdout",
     "output_type": "stream",
     "text": [
      "<class 'pandas.core.frame.DataFrame'>\n",
      "Int64Index: 831653 entries, 0 to 831652\n",
      "Data columns (total 5 columns):\n",
      " #   Column      Non-Null Count   Dtype  \n",
      "---  ------      --------------   -----  \n",
      " 0   id          831653 non-null  int64  \n",
      " 1   vas_id      831653 non-null  float64\n",
      " 2   buy_time    831653 non-null  int64  \n",
      " 3   target      831653 non-null  float64\n",
      " 4   check_date  408724 non-null  float64\n",
      "dtypes: float64(3), int64(2)\n",
      "memory usage: 38.1 MB\n"
     ]
    }
   ],
   "source": [
    "# MERGE for analyse\n",
    "check_feat = feats[['id', 'buy_time']].compute().sort_values(by='buy_time')\n",
    "# check_feat = feats[['id', 'buy_time']].sort_values(by='buy_time')\n",
    "check_feat['check_date'] = check_feat['buy_time']\n",
    "\n",
    "merged = dd.merge_asof(train.sort_values(by='buy_time'), check_feat,\n",
    "                       by='id', on='buy_time', direction='backward')\n",
    "# merged.head()   # NaN means there is no features for this record\n",
    "merged.info()"
   ]
  },
  {
   "cell_type": "markdown",
   "metadata": {},
   "source": [
    "При сопоставлении тренировочных данных с фичами пользователей по совпадающей или ближайшей предшествующей покупке дате, актуальные фичи получаютя только для 408724 записей, это чуть меньше `50%` всех тренировочных записей...\n",
    "\n",
    "- поможет ли профилирование пользователей?"
   ]
  },
  {
   "cell_type": "markdown",
   "metadata": {
    "collapsed": false,
    "pycharm": {
     "name": "#%% md\n"
    }
   },
   "source": [
    "## drafts"
   ]
  },
  {
   "cell_type": "code",
   "execution_count": null,
   "metadata": {},
   "outputs": [],
   "source": [
    "# Вариант реализации в модели\n",
    "# load data without timestamp recast\n",
    "train = pd.read_csv(data_folder.joinpath('data_train.csv'), index_col='Unnamed: 0')\n",
    "feats = dd.read_csv(data_folder.joinpath('features.csv'), sep='\\t').drop('Unnamed: 0', axis=1)\n",
    "\n",
    "# select and sort required user features\n",
    "used_feats_mask = feats['id'].isin(train['id'].unique())\n",
    "user_feats = feats[used_feats_mask].sort_values(by='buy_time')\n",
    "\n",
    "# merge by nearest aggregation date BEFORE purchase: feats aggregated after purchase date couldn't influence the user's decision \n",
    "merged = dd.merge_asof(train.sort_values(by='buy_time'), user_feats,\n",
    "                       by='id', on='buy_time', direction='backward')\n",
    "# TODO fillna\n",
    "\n",
    "# merged.head()   # OutOfMemory! NaN means there is no features for this record"
   ]
  },
  {
   "cell_type": "markdown",
   "metadata": {},
   "source": [
    "## conclusion"
   ]
  },
  {
   "cell_type": "markdown",
   "metadata": {},
   "source": [
    "Присутствует сильный дисбаланс классов: `7.24%` объектов первого класса\n",
    "\n",
    "Услуги 6, 4 и 9 продавались лучше всего: `42,68%`, `25,38%` и `18,35%` от количества их предложений было продано. У остальных услуг доля продаж не превышает `2,6%`.\n",
    "При этом услуга 9 составляет очень малую долю (`1,67%`) в общем количестве продаж.\n",
    "\n",
    "До 12-19 ноября основные продаваемые услуги были 4, 6 и 9, при этом услуга 4 постепенно вытесняла услугу 6. Потом доля услуги 4 значительно сократилась, но также значительно выросла доля услуги 6, т.е. произошло обратное замещение. Остальные услуги продавались в незначительно малом количестве.\n",
    "\n",
    "Услуга 9 показала необъяснимый всплеск продаж 19 ноября - на два порядка выше медианы.\n",
    "\n",
    "Присутствуют повторные предложения как с изменением таргета, так и без. Больше двух раз услуга никому не предлагалась."
   ]
  },
  {
   "cell_type": "markdown",
   "metadata": {},
   "source": [
    "В тестовых данных присутствуют записи для `4188` пользователей, которые не были представлены в тренировочных данных (cold users).\n",
    "Различий по услугам между тренировочными и тестовыми данными нет."
   ]
  },
  {
   "cell_type": "markdown",
   "metadata": {},
   "source": [
    "Дата аггрегации фичей может отличаться от даты покупки в любую сторону, из чего возникает задача сопоставления записи о покупке с фичами пользователя."
   ]
  },
  {
   "cell_type": "markdown",
   "metadata": {},
   "source": [
    "1. Непонятно, с чего такой огромный всплеск продаж услуги 9, достоверен ли он - не понять никак\n",
    "2. В данных есть повторные офферы с разным таргетом.\n",
    "    - оставить как есть\n",
    "    - взять только последний (актуальный)\n",
    "    - сопоставить с профилем пользователя в указанный период времени (если есть такая возможность)"
   ]
  },
  {
   "cell_type": "markdown",
   "metadata": {},
   "source": [
    "Задачи\n",
    "1. Предсказание вероятности подключения услуги\n",
    "2. Формирование персонального пакета предложений"
   ]
  },
  {
   "cell_type": "code",
   "execution_count": 16,
   "metadata": {
    "collapsed": false,
    "pycharm": {
     "name": "#%%\n"
    }
   },
   "outputs": [],
   "source": [
    "#"
   ]
  }
 ],
 "metadata": {
  "interpreter": {
   "hash": "625f6aa541ce7a5325053710078740a357292b5fc1db12ea0274779218b7749b"
  },
  "kernelspec": {
   "display_name": "Python 3.9.5 ('venv': venv)",
   "language": "python",
   "name": "python3"
  },
  "language_info": {
   "codemirror_mode": {
    "name": "ipython",
    "version": 3
   },
   "file_extension": ".py",
   "mimetype": "text/x-python",
   "name": "python",
   "nbconvert_exporter": "python",
   "pygments_lexer": "ipython3",
   "version": "3.9.5"
  }
 },
 "nbformat": 4,
 "nbformat_minor": 0
}
