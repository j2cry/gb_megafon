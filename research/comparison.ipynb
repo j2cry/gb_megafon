{
 "cells": [
  {
   "cell_type": "markdown",
   "metadata": {},
   "source": [
    "\"классическое\" обучение - без распределенных вычислений на сжатых фичах"
   ]
  },
  {
   "cell_type": "code",
   "execution_count": 2,
   "metadata": {},
   "outputs": [],
   "source": [
    "import sys\n",
    "import pathlib\n",
    "cwd = pathlib.Path().cwd()\n",
    "sys.path.append(cwd.parent.as_posix())\n",
    "data_folder = cwd.parent.joinpath('data')\n",
    "\n",
    "import logging\n",
    "import json\n",
    "import datetime as dt\n",
    "import pandas as pd\n",
    "\n",
    "from dags.jobs.transformers import ColumnsCorrector, TimeDifference, Clusterer\n",
    "from sklearn.pipeline import make_pipeline\n",
    "from sklearn.utils.class_weight import compute_class_weight\n",
    "from sklearn.model_selection import KFold, GridSearchCV\n",
    "\n",
    "from sklearn.metrics import f1_score\n",
    "from functools import partial\n",
    "from common import cv_fit, cv_compare\n",
    "from sklearn.linear_model import SGDClassifier\n",
    "from sklearn.ensemble import RandomForestClassifier, GradientBoostingClassifier\n",
    "from lightgbm import LGBMClassifier\n",
    "from xgboost import XGBClassifier\n",
    "from catboost import CatBoostClassifier\n",
    "\n",
    "logging.basicConfig(filename='fit.logs', level=logging.INFO)"
   ]
  },
  {
   "cell_type": "code",
   "execution_count": 2,
   "metadata": {},
   "outputs": [],
   "source": [
    "# basic parameters\n",
    "bound_date = '2018-11-19'\n",
    "n_folds = 5"
   ]
  },
  {
   "cell_type": "markdown",
   "metadata": {},
   "source": [
    "## load data"
   ]
  },
  {
   "cell_type": "code",
   "execution_count": 3,
   "metadata": {},
   "outputs": [
    {
     "data": {
      "text/html": [
       "<div>\n",
       "<style scoped>\n",
       "    .dataframe tbody tr th:only-of-type {\n",
       "        vertical-align: middle;\n",
       "    }\n",
       "\n",
       "    .dataframe tbody tr th {\n",
       "        vertical-align: top;\n",
       "    }\n",
       "\n",
       "    .dataframe thead th {\n",
       "        text-align: right;\n",
       "    }\n",
       "</style>\n",
       "<table border=\"1\" class=\"dataframe\">\n",
       "  <thead>\n",
       "    <tr style=\"text-align: right;\">\n",
       "      <th></th>\n",
       "      <th>id</th>\n",
       "      <th>vas_id</th>\n",
       "      <th>buy_time</th>\n",
       "      <th>target</th>\n",
       "    </tr>\n",
       "  </thead>\n",
       "  <tbody>\n",
       "    <tr>\n",
       "      <th>220950</th>\n",
       "      <td>2442789</td>\n",
       "      <td>4.0</td>\n",
       "      <td>1542574800</td>\n",
       "      <td>1.0</td>\n",
       "    </tr>\n",
       "    <tr>\n",
       "      <th>112530</th>\n",
       "      <td>2461729</td>\n",
       "      <td>1.0</td>\n",
       "      <td>1542574800</td>\n",
       "      <td>0.0</td>\n",
       "    </tr>\n",
       "    <tr>\n",
       "      <th>762642</th>\n",
       "      <td>1954991</td>\n",
       "      <td>2.0</td>\n",
       "      <td>1542574800</td>\n",
       "      <td>1.0</td>\n",
       "    </tr>\n",
       "    <tr>\n",
       "      <th>530675</th>\n",
       "      <td>2189588</td>\n",
       "      <td>2.0</td>\n",
       "      <td>1542574800</td>\n",
       "      <td>1.0</td>\n",
       "    </tr>\n",
       "    <tr>\n",
       "      <th>762686</th>\n",
       "      <td>200964</td>\n",
       "      <td>1.0</td>\n",
       "      <td>1542574800</td>\n",
       "      <td>0.0</td>\n",
       "    </tr>\n",
       "  </tbody>\n",
       "</table>\n",
       "</div>"
      ],
      "text/plain": [
       "             id  vas_id    buy_time  target\n",
       "220950  2442789     4.0  1542574800     1.0\n",
       "112530  2461729     1.0  1542574800     0.0\n",
       "762642  1954991     2.0  1542574800     1.0\n",
       "530675  2189588     2.0  1542574800     1.0\n",
       "762686   200964     1.0  1542574800     0.0"
      ]
     },
     "execution_count": 3,
     "metadata": {},
     "output_type": "execute_result"
    }
   ],
   "source": [
    "# read train data\n",
    "train_data = pd.read_csv(data_folder.joinpath('data_train.csv')).drop('Unnamed: 0', axis=1)\n",
    "\n",
    "# extract required and sort train data\n",
    "used_mask = train_data['buy_time'] >= dt.datetime.fromisoformat(bound_date).timestamp()\n",
    "train_data = train_data[used_mask].sort_values(by='buy_time')\n",
    "\n",
    "train_data.head()"
   ]
  },
  {
   "cell_type": "code",
   "execution_count": 4,
   "metadata": {},
   "outputs": [
    {
     "data": {
      "text/html": [
       "<div>\n",
       "<style scoped>\n",
       "    .dataframe tbody tr th:only-of-type {\n",
       "        vertical-align: middle;\n",
       "    }\n",
       "\n",
       "    .dataframe tbody tr th {\n",
       "        vertical-align: top;\n",
       "    }\n",
       "\n",
       "    .dataframe thead th {\n",
       "        text-align: right;\n",
       "    }\n",
       "</style>\n",
       "<table border=\"1\" class=\"dataframe\">\n",
       "  <thead>\n",
       "    <tr style=\"text-align: right;\">\n",
       "      <th></th>\n",
       "      <th>id</th>\n",
       "      <th>buy_time</th>\n",
       "      <th>0</th>\n",
       "      <th>1</th>\n",
       "      <th>2</th>\n",
       "    </tr>\n",
       "  </thead>\n",
       "  <tbody>\n",
       "    <tr>\n",
       "      <th>4491432</th>\n",
       "      <td>382085</td>\n",
       "      <td>1531083600</td>\n",
       "      <td>-2.462147e+08</td>\n",
       "      <td>1.198001e+09</td>\n",
       "      <td>-1.531668e+08</td>\n",
       "    </tr>\n",
       "    <tr>\n",
       "      <th>1161905</th>\n",
       "      <td>3968934</td>\n",
       "      <td>1531083600</td>\n",
       "      <td>7.898899e+08</td>\n",
       "      <td>-6.988454e+08</td>\n",
       "      <td>-1.251981e+08</td>\n",
       "    </tr>\n",
       "    <tr>\n",
       "      <th>2176793</th>\n",
       "      <td>165505</td>\n",
       "      <td>1531083600</td>\n",
       "      <td>-6.779413e+08</td>\n",
       "      <td>-2.634963e+08</td>\n",
       "      <td>-8.669099e+07</td>\n",
       "    </tr>\n",
       "    <tr>\n",
       "      <th>3154089</th>\n",
       "      <td>2038465</td>\n",
       "      <td>1531083600</td>\n",
       "      <td>-6.779413e+08</td>\n",
       "      <td>-2.634963e+08</td>\n",
       "      <td>-8.669099e+07</td>\n",
       "    </tr>\n",
       "    <tr>\n",
       "      <th>2659959</th>\n",
       "      <td>2810048</td>\n",
       "      <td>1531083600</td>\n",
       "      <td>-6.779413e+08</td>\n",
       "      <td>-2.634963e+08</td>\n",
       "      <td>-8.669099e+07</td>\n",
       "    </tr>\n",
       "  </tbody>\n",
       "</table>\n",
       "</div>"
      ],
      "text/plain": [
       "              id    buy_time             0             1             2\n",
       "4491432   382085  1531083600 -2.462147e+08  1.198001e+09 -1.531668e+08\n",
       "1161905  3968934  1531083600  7.898899e+08 -6.988454e+08 -1.251981e+08\n",
       "2176793   165505  1531083600 -6.779413e+08 -2.634963e+08 -8.669099e+07\n",
       "3154089  2038465  1531083600 -6.779413e+08 -2.634963e+08 -8.669099e+07\n",
       "2659959  2810048  1531083600 -6.779413e+08 -2.634963e+08 -8.669099e+07"
      ]
     },
     "execution_count": 4,
     "metadata": {},
     "output_type": "execute_result"
    }
   ],
   "source": [
    "# read compressed features\n",
    "features = pd.read_csv(data_folder.joinpath('compressed_features.csv')).drop('Unnamed: 0', axis=1)\n",
    "\n",
    "# extract required and sort train data\n",
    "used_mask = features['id'].isin(train_data['id'].unique())\n",
    "features = features[used_mask].sort_values(by='buy_time')\n",
    "\n",
    "features.head()"
   ]
  },
  {
   "cell_type": "markdown",
   "metadata": {},
   "source": [
    "## merging"
   ]
  },
  {
   "cell_type": "code",
   "execution_count": 5,
   "metadata": {},
   "outputs": [],
   "source": [
    "# # nearest merge\n",
    "# merged = pd.merge_asof(train_data.rename(columns={'buy_time': 'train_time'}), \n",
    "#                        features.rename(columns={'buy_time': 'feats_time'}),\n",
    "#                        by='id', left_on='train_time', right_on='feats_time', direction='nearest')\n",
    "# logging.info(f'Merging method: NEAREST')\n",
    "\n",
    "# merged.head()"
   ]
  },
  {
   "cell_type": "code",
   "execution_count": 6,
   "metadata": {},
   "outputs": [
    {
     "data": {
      "text/html": [
       "<div>\n",
       "<style scoped>\n",
       "    .dataframe tbody tr th:only-of-type {\n",
       "        vertical-align: middle;\n",
       "    }\n",
       "\n",
       "    .dataframe tbody tr th {\n",
       "        vertical-align: top;\n",
       "    }\n",
       "\n",
       "    .dataframe thead th {\n",
       "        text-align: right;\n",
       "    }\n",
       "</style>\n",
       "<table border=\"1\" class=\"dataframe\">\n",
       "  <thead>\n",
       "    <tr style=\"text-align: right;\">\n",
       "      <th></th>\n",
       "      <th>id</th>\n",
       "      <th>vas_id</th>\n",
       "      <th>train_time</th>\n",
       "      <th>target</th>\n",
       "      <th>feats_time</th>\n",
       "      <th>0</th>\n",
       "      <th>1</th>\n",
       "      <th>2</th>\n",
       "    </tr>\n",
       "  </thead>\n",
       "  <tbody>\n",
       "    <tr>\n",
       "      <th>0</th>\n",
       "      <td>2442789</td>\n",
       "      <td>4.0</td>\n",
       "      <td>1542574800</td>\n",
       "      <td>1.0</td>\n",
       "      <td>1.537917e+09</td>\n",
       "      <td>-2.520636e+05</td>\n",
       "      <td>2.426508e+07</td>\n",
       "      <td>3.804274e+06</td>\n",
       "    </tr>\n",
       "    <tr>\n",
       "      <th>1</th>\n",
       "      <td>2461729</td>\n",
       "      <td>1.0</td>\n",
       "      <td>1542574800</td>\n",
       "      <td>0.0</td>\n",
       "      <td>1.532293e+09</td>\n",
       "      <td>-6.779413e+08</td>\n",
       "      <td>-2.634963e+08</td>\n",
       "      <td>-8.669099e+07</td>\n",
       "    </tr>\n",
       "    <tr>\n",
       "      <th>2</th>\n",
       "      <td>1954991</td>\n",
       "      <td>2.0</td>\n",
       "      <td>1542574800</td>\n",
       "      <td>1.0</td>\n",
       "      <td>1.532293e+09</td>\n",
       "      <td>-6.226397e+08</td>\n",
       "      <td>-2.109641e+08</td>\n",
       "      <td>1.427409e+09</td>\n",
       "    </tr>\n",
       "    <tr>\n",
       "      <th>3</th>\n",
       "      <td>2189588</td>\n",
       "      <td>2.0</td>\n",
       "      <td>1542574800</td>\n",
       "      <td>1.0</td>\n",
       "      <td>1.537917e+09</td>\n",
       "      <td>-2.520636e+05</td>\n",
       "      <td>2.426508e+07</td>\n",
       "      <td>3.804274e+06</td>\n",
       "    </tr>\n",
       "    <tr>\n",
       "      <th>4</th>\n",
       "      <td>200964</td>\n",
       "      <td>1.0</td>\n",
       "      <td>1542574800</td>\n",
       "      <td>0.0</td>\n",
       "      <td>1.532898e+09</td>\n",
       "      <td>-2.481296e+08</td>\n",
       "      <td>1.191519e+09</td>\n",
       "      <td>-1.528719e+08</td>\n",
       "    </tr>\n",
       "  </tbody>\n",
       "</table>\n",
       "</div>"
      ],
      "text/plain": [
       "        id  vas_id  train_time  target    feats_time             0  \\\n",
       "0  2442789     4.0  1542574800     1.0  1.537917e+09 -2.520636e+05   \n",
       "1  2461729     1.0  1542574800     0.0  1.532293e+09 -6.779413e+08   \n",
       "2  1954991     2.0  1542574800     1.0  1.532293e+09 -6.226397e+08   \n",
       "3  2189588     2.0  1542574800     1.0  1.537917e+09 -2.520636e+05   \n",
       "4   200964     1.0  1542574800     0.0  1.532898e+09 -2.481296e+08   \n",
       "\n",
       "              1             2  \n",
       "0  2.426508e+07  3.804274e+06  \n",
       "1 -2.634963e+08 -8.669099e+07  \n",
       "2 -2.109641e+08  1.427409e+09  \n",
       "3  2.426508e+07  3.804274e+06  \n",
       "4  1.191519e+09 -1.528719e+08  "
      ]
     },
     "execution_count": 6,
     "metadata": {},
     "output_type": "execute_result"
    }
   ],
   "source": [
    "# backward merge + fillna with mean\n",
    "merged = pd.merge_asof(train_data.rename(columns={'buy_time': 'train_time'}), \n",
    "                       features.rename(columns={'buy_time': 'feats_time'}),\n",
    "                       by='id', left_on='train_time', right_on='feats_time', direction='backward')\n",
    "merged.fillna(merged.mean(), inplace=True)\n",
    "logging.info(f'Merging method: BACKWARD. NaNs are filled with mean')\n",
    "\n",
    "merged.head()"
   ]
  },
  {
   "cell_type": "code",
   "execution_count": 7,
   "metadata": {},
   "outputs": [],
   "source": [
    "# # backward merge + fillna with nearest merge\n",
    "# merged = pd.merge_asof(train_data.rename(columns={'buy_time': 'train_time'}), \n",
    "#                        features.rename(columns={'buy_time': 'feats_time'}),\n",
    "#                        by='id', left_on='train_time', right_on='feats_time', direction='backward')\n",
    "\n",
    "# nan_rows = merged.isna().any(axis=1)\n",
    "# nan_columns = merged.columns[merged.isna().any()].to_list()\n",
    "\n",
    "# merged[nan_rows] = pd.merge_asof(merged[nan_rows].drop(nan_columns, axis=1), \n",
    "#                                  features.rename(columns={'buy_time': 'feats_time'}), \n",
    "#                                  by='id', left_on='train_time', right_on='feats_time', direction='nearest').values\n",
    "# logging.info(f'Merging method: BACKWARD. NaNs are filled with NEAREST merging')\n",
    "\n",
    "# merged.head()"
   ]
  },
  {
   "cell_type": "code",
   "execution_count": 8,
   "metadata": {},
   "outputs": [],
   "source": [
    "# DRAFT\n",
    "# # backward merge + fillna features with mean, date with ..... ?\n",
    "# merged = pd.merge_asof(train_data.rename(columns={'buy_time': 'train_time'}), \n",
    "#                        features.rename(columns={'buy_time': 'feats_time'}),\n",
    "#                        by='id', left_on='train_time', right_on='feats_time', direction='backward')\n",
    "# merged['feats_time'].fillna( ... )\n",
    "# merged.fillna(merged.mean(), inplace=True)\n",
    "# logging.info(f'Merging method: BACKWARD. NaNs are filled with mean')\n",
    "\n",
    "# merged.head()"
   ]
  },
  {
   "cell_type": "markdown",
   "metadata": {},
   "source": [
    "## featuring"
   ]
  },
  {
   "cell_type": "code",
   "execution_count": 9,
   "metadata": {},
   "outputs": [
    {
     "data": {
      "text/html": [
       "<div>\n",
       "<style scoped>\n",
       "    .dataframe tbody tr th:only-of-type {\n",
       "        vertical-align: middle;\n",
       "    }\n",
       "\n",
       "    .dataframe tbody tr th {\n",
       "        vertical-align: top;\n",
       "    }\n",
       "\n",
       "    .dataframe thead th {\n",
       "        text-align: right;\n",
       "    }\n",
       "</style>\n",
       "<table border=\"1\" class=\"dataframe\">\n",
       "  <thead>\n",
       "    <tr style=\"text-align: right;\">\n",
       "      <th></th>\n",
       "      <th>vas_id</th>\n",
       "      <th>0</th>\n",
       "      <th>1</th>\n",
       "      <th>2</th>\n",
       "      <th>time_diff</th>\n",
       "    </tr>\n",
       "  </thead>\n",
       "  <tbody>\n",
       "    <tr>\n",
       "      <th>0</th>\n",
       "      <td>4.0</td>\n",
       "      <td>-2.520636e+05</td>\n",
       "      <td>2.426508e+07</td>\n",
       "      <td>3.804274e+06</td>\n",
       "      <td>54</td>\n",
       "    </tr>\n",
       "    <tr>\n",
       "      <th>1</th>\n",
       "      <td>1.0</td>\n",
       "      <td>-6.779413e+08</td>\n",
       "      <td>-2.634963e+08</td>\n",
       "      <td>-8.669099e+07</td>\n",
       "      <td>119</td>\n",
       "    </tr>\n",
       "    <tr>\n",
       "      <th>2</th>\n",
       "      <td>2.0</td>\n",
       "      <td>-6.226397e+08</td>\n",
       "      <td>-2.109641e+08</td>\n",
       "      <td>1.427409e+09</td>\n",
       "      <td>119</td>\n",
       "    </tr>\n",
       "    <tr>\n",
       "      <th>3</th>\n",
       "      <td>2.0</td>\n",
       "      <td>-2.520636e+05</td>\n",
       "      <td>2.426508e+07</td>\n",
       "      <td>3.804274e+06</td>\n",
       "      <td>54</td>\n",
       "    </tr>\n",
       "    <tr>\n",
       "      <th>4</th>\n",
       "      <td>1.0</td>\n",
       "      <td>-2.481296e+08</td>\n",
       "      <td>1.191519e+09</td>\n",
       "      <td>-1.528719e+08</td>\n",
       "      <td>112</td>\n",
       "    </tr>\n",
       "  </tbody>\n",
       "</table>\n",
       "</div>"
      ],
      "text/plain": [
       "   vas_id             0             1             2  time_diff\n",
       "0     4.0 -2.520636e+05  2.426508e+07  3.804274e+06         54\n",
       "1     1.0 -6.779413e+08 -2.634963e+08 -8.669099e+07        119\n",
       "2     2.0 -6.226397e+08 -2.109641e+08  1.427409e+09        119\n",
       "3     2.0 -2.520636e+05  2.426508e+07  3.804274e+06         54\n",
       "4     1.0 -2.481296e+08  1.191519e+09 -1.528719e+08        112"
      ]
     },
     "execution_count": 9,
     "metadata": {},
     "output_type": "execute_result"
    }
   ],
   "source": [
    "# build featuring pipeline - if it is required to apply separately to train and valid data\n",
    "pipeline = make_pipeline(\n",
    "    TimeDifference('feats_time', 'train_time'),\n",
    "    # Clusterer(['0', '1', '2'], n_clusters=8, random_state=13),\n",
    "    ColumnsCorrector('drop', ['id', 'train_time', 'feats_time']),\n",
    ")\n",
    "\n",
    "target = merged['target']\n",
    "data = pipeline.fit_transform(merged.drop('target', axis=1), target)\n",
    "data.head()"
   ]
  },
  {
   "cell_type": "code",
   "execution_count": 10,
   "metadata": {},
   "outputs": [],
   "source": [
    "# prepare folds, class weights and scoring function\n",
    "class_weights = dict(enumerate(compute_class_weight('balanced', classes=[0, 1], y=target)))\n",
    "folds = KFold(n_splits=n_folds, shuffle=True, random_state=29)\n",
    "\n",
    "f1_macro = partial(f1_score, average='macro')"
   ]
  },
  {
   "cell_type": "markdown",
   "metadata": {},
   "source": [
    "## manual fit"
   ]
  },
  {
   "cell_type": "code",
   "execution_count": 138,
   "metadata": {},
   "outputs": [
    {
     "name": "stdout",
     "output_type": "stream",
     "text": [
      "Avg. f-score: 0.43494967128540213\n"
     ]
    }
   ],
   "source": [
    "estimator = SGDClassifier(random_state=17, n_jobs=-1, class_weight=class_weights,\n",
    "                        #   max_iter=500,\n",
    "                        #   loss='log',\n",
    "                        #   learning_rate='adaptive',\n",
    "                        #   eta0=0.1,\n",
    "                          )\n",
    "\n",
    "avg, metrics, models = cv_fit(estimator, data, target, cv=folds, scorer=f1_macro)\n",
    "logging.info(f'Manual: model={estimator.__class__.__name__}, parameters={estimator.get_params()}, score={avg}')\n",
    "print(f'Avg. f-score: {sum(metrics) / n_folds}')"
   ]
  },
  {
   "cell_type": "code",
   "execution_count": 106,
   "metadata": {},
   "outputs": [
    {
     "name": "stdout",
     "output_type": "stream",
     "text": [
      "Avg. f-score: 0.5875697192226178\n"
     ]
    }
   ],
   "source": [
    "estimator = GradientBoostingClassifier(random_state=17, loss='deviance',   # in newer versions of sklearn use 'log_loss' instead\n",
    "                                    #    n_estimators=100,\n",
    "                                    #    learning_rate=0.15,\n",
    "                                    #    max_depth=4,\n",
    "                                    #    min_samples_leaf=1\n",
    "                                       )\n",
    "\n",
    "avg, metrics, models = cv_fit(estimator, data, target, cv=folds, scorer=f1_macro)\n",
    "logging.info(f'Manual: model={estimator.__class__.__name__}, parameters={estimator.get_params()}, score={avg}')\n",
    "print(f'Avg. f-score: {sum(metrics) / n_folds}')"
   ]
  },
  {
   "cell_type": "code",
   "execution_count": 11,
   "metadata": {},
   "outputs": [
    {
     "name": "stdout",
     "output_type": "stream",
     "text": [
      "Avg. f-score: 0.7390303944066823\n"
     ]
    }
   ],
   "source": [
    "estimator = RandomForestClassifier(random_state=17, class_weight=class_weights, n_jobs=-1,\n",
    "                                #    n_estimators=100,\n",
    "                                #    max_depth=None,\n",
    "                                #    min_samples_leaf=1,\n",
    "                                   )\n",
    "\n",
    "avg, metrics, models = cv_fit(estimator, data, target, cv=folds, scorer=f1_macro)\n",
    "logging.info(f'Manual: model={estimator.__class__.__name__}, parameters={estimator.get_params()}, score={avg}')\n",
    "print(f'Avg. f-score: {sum(metrics) / n_folds}')"
   ]
  },
  {
   "cell_type": "code",
   "execution_count": 12,
   "metadata": {},
   "outputs": [
    {
     "name": "stdout",
     "output_type": "stream",
     "text": [
      "Avg. f-score: 0.7535735497832563\n"
     ]
    }
   ],
   "source": [
    "estimator = LGBMClassifier(random_state=17, class_weight=class_weights, n_jobs=-1,\n",
    "                        #    n_estimators=100,\n",
    "                        #    learning_rate=0.1,\n",
    "                        #    max_depth=-1,\n",
    "                        #    num_leaves=31\n",
    "                           )\n",
    "\n",
    "avg, metrics, models = cv_fit(estimator, data, target, cv=folds, scorer=f1_macro)\n",
    "logging.info(f'Manual: model={estimator.__class__.__name__}, parameters={estimator.get_params()}, score={avg}')\n",
    "print(f'Avg. f-score: {sum(metrics) / n_folds}')"
   ]
  },
  {
   "cell_type": "code",
   "execution_count": 109,
   "metadata": {},
   "outputs": [
    {
     "name": "stdout",
     "output_type": "stream",
     "text": [
      "Avg. f-score: 0.641247711694636\n"
     ]
    }
   ],
   "source": [
    "estimator = XGBClassifier(random_state=17,\n",
    "                        #   max_depth=6,\n",
    "                        #   learning_rate=0.3,\n",
    "                          )\n",
    "\n",
    "avg, metrics, models = cv_fit(estimator, data, target, cv=folds, scorer=f1_macro)\n",
    "logging.info(f'Manual: model={estimator.__class__.__name__}, parameters={estimator.get_params()}, score={avg}')\n",
    "print(f'Avg. f-score: {sum(metrics) / n_folds}')"
   ]
  },
  {
   "cell_type": "code",
   "execution_count": 110,
   "metadata": {},
   "outputs": [
    {
     "name": "stdout",
     "output_type": "stream",
     "text": [
      "Avg. f-score: 0.6444532391062732\n"
     ]
    }
   ],
   "source": [
    "estimator = CatBoostClassifier(random_state=17, logging_level='Silent', allow_writing_files=False,\n",
    "                            #    n_estimators=500,\n",
    "                            #    learning_rate=0.2,\n",
    "                            #    max_depth=None,\n",
    "                            #    min_child_samples=20\n",
    "                               )\n",
    "\n",
    "avg, metrics, models = cv_fit(estimator, data, target, cv=folds, scorer=f1_macro)\n",
    "logging.info(f'Manual: model={estimator.__class__.__name__}, parameters={estimator.get_params()}, score={avg}')\n",
    "print(f'Avg. f-score: {sum(metrics) / n_folds}')"
   ]
  },
  {
   "cell_type": "markdown",
   "metadata": {},
   "source": [
    "На параметрах по умолчанию наилучший результат показывают LGBMClassifier и RandomForestClassifier.\n",
    "\n",
    "При этом метрика зависит от способа сопоставления фичей: в основном способ `backward` с заполнением пропусков средней показывает лучший результат. Предположение о причине остается неизменным - профили пользователей, сформированные после даты коммерческого предложения вряд ли могли влиять на решение пользователя.\n",
    "Для обеспечения возможности модели отследить эту зависимость был введен признак `time_diff`."
   ]
  },
  {
   "cell_type": "code",
   "execution_count": 111,
   "metadata": {},
   "outputs": [
    {
     "data": {
      "text/html": [
       "<div>\n",
       "<style scoped>\n",
       "    .dataframe tbody tr th:only-of-type {\n",
       "        vertical-align: middle;\n",
       "    }\n",
       "\n",
       "    .dataframe tbody tr th {\n",
       "        vertical-align: top;\n",
       "    }\n",
       "\n",
       "    .dataframe thead th {\n",
       "        text-align: right;\n",
       "    }\n",
       "</style>\n",
       "<table border=\"1\" class=\"dataframe\">\n",
       "  <thead>\n",
       "    <tr style=\"text-align: right;\">\n",
       "      <th></th>\n",
       "      <th>SGDClassifier</th>\n",
       "      <th>GradientBoostingClassifier</th>\n",
       "      <th>RandomForestClassifier</th>\n",
       "      <th>LGBMClassifier</th>\n",
       "      <th>XGBClassifier</th>\n",
       "      <th>CatBoostClassifier</th>\n",
       "    </tr>\n",
       "  </thead>\n",
       "  <tbody>\n",
       "    <tr>\n",
       "      <th>backward</th>\n",
       "      <td>0.434950</td>\n",
       "      <td>0.587570</td>\n",
       "      <td>0.739030</td>\n",
       "      <td>0.753574</td>\n",
       "      <td>0.641248</td>\n",
       "      <td>0.644453</td>\n",
       "    </tr>\n",
       "    <tr>\n",
       "      <th>nearest</th>\n",
       "      <td>0.439437</td>\n",
       "      <td>0.552324</td>\n",
       "      <td>0.719862</td>\n",
       "      <td>0.737224</td>\n",
       "      <td>0.618495</td>\n",
       "      <td>0.619937</td>\n",
       "    </tr>\n",
       "    <tr>\n",
       "      <th>N/B ratio</th>\n",
       "      <td>1.010316</td>\n",
       "      <td>0.940014</td>\n",
       "      <td>0.974063</td>\n",
       "      <td>0.978304</td>\n",
       "      <td>0.964518</td>\n",
       "      <td>0.961957</td>\n",
       "    </tr>\n",
       "  </tbody>\n",
       "</table>\n",
       "</div>"
      ],
      "text/plain": [
       "           SGDClassifier  GradientBoostingClassifier  RandomForestClassifier  \\\n",
       "backward        0.434950                    0.587570                0.739030   \n",
       "nearest         0.439437                    0.552324                0.719862   \n",
       "N/B ratio       1.010316                    0.940014                0.974063   \n",
       "\n",
       "           LGBMClassifier  XGBClassifier  CatBoostClassifier  \n",
       "backward         0.753574       0.641248            0.644453  \n",
       "nearest          0.737224       0.618495            0.619937  \n",
       "N/B ratio        0.978304       0.964518            0.961957  "
      ]
     },
     "execution_count": 111,
     "metadata": {},
     "output_type": "execute_result"
    }
   ],
   "source": [
    "df = pd.DataFrame(json.load(open('merge_method_metrics.json', 'r')), index=['backward', 'nearest']).T\n",
    "df['N/B ratio'] = df['nearest'] / df['backward']\n",
    "df.T"
   ]
  },
  {
   "cell_type": "markdown",
   "metadata": {},
   "source": [
    "## GridSearch"
   ]
  },
  {
   "cell_type": "code",
   "execution_count": 22,
   "metadata": {},
   "outputs": [
    {
     "data": {
      "text/html": [
       "<div>\n",
       "<style scoped>\n",
       "    .dataframe tbody tr th:only-of-type {\n",
       "        vertical-align: middle;\n",
       "    }\n",
       "\n",
       "    .dataframe tbody tr th {\n",
       "        vertical-align: top;\n",
       "    }\n",
       "\n",
       "    .dataframe thead th {\n",
       "        text-align: right;\n",
       "    }\n",
       "</style>\n",
       "<table border=\"1\" class=\"dataframe\">\n",
       "  <thead>\n",
       "    <tr style=\"text-align: right;\">\n",
       "      <th></th>\n",
       "      <th>model</th>\n",
       "      <th>GS score</th>\n",
       "      <th>CV score</th>\n",
       "    </tr>\n",
       "  </thead>\n",
       "  <tbody>\n",
       "    <tr>\n",
       "      <th>0</th>\n",
       "      <td>RandomForestClassifier</td>\n",
       "      <td>0.752802</td>\n",
       "      <td>0.739030</td>\n",
       "    </tr>\n",
       "    <tr>\n",
       "      <th>1</th>\n",
       "      <td>LGBMClassifier</td>\n",
       "      <td>0.753896</td>\n",
       "      <td>0.753574</td>\n",
       "    </tr>\n",
       "  </tbody>\n",
       "</table>\n",
       "</div>"
      ],
      "text/plain": [
       "                    model  GS score  CV score\n",
       "0  RandomForestClassifier  0.752802  0.739030\n",
       "1          LGBMClassifier  0.753896  0.753574"
      ]
     },
     "execution_count": 22,
     "metadata": {},
     "output_type": "execute_result"
    }
   ],
   "source": [
    "defaults = {\n",
    "    'random_state': 17,\n",
    "    'n_jobs': -1,\n",
    "    'class_weight': class_weights,\n",
    "}\n",
    "\n",
    "estimators = [\n",
    "    RandomForestClassifier(**defaults),\n",
    "    LGBMClassifier(**defaults)\n",
    "]\n",
    "\n",
    "# =============================================================\n",
    "# grids = [\n",
    "#     {       # RandomForest grid\n",
    "#         'n_estimators': [50, 100, 150],\n",
    "#         'max_depth': [None, 4, 6],\n",
    "#         'min_samples_leaf': [20, 31, 45, 60],\n",
    "\n",
    "#     }, {    # LGBM grid\n",
    "#         'n_estimators': [50, 100, 150],\n",
    "#         'learning_rate': [0.05, 0.1, 0.2, 0.3],\n",
    "#         'max_depth': [-1, 4, 6],\n",
    "#         'num_leaves': [20, 31, 45, 60],\n",
    "#     }\n",
    "# ]\n",
    "\n",
    "# =============================================================\n",
    "grids = [\n",
    "    {       # RandomForest grid\n",
    "        'n_estimators': [50, 100, 150],\n",
    "        'max_depth': [None, 3, 4, 8],\n",
    "        'min_samples_leaf': [19, 31, 37],\n",
    "\n",
    "    }, {    # LGBM grid\n",
    "        'n_estimators': [50, 100, 125],\n",
    "        'learning_rate': [0.05, 0.15, 0.3],\n",
    "        'max_depth': [-1, 4, 6],\n",
    "        'num_leaves': [25, 31, 37],\n",
    "    }\n",
    "]\n",
    "\n",
    "# =============================================================\n",
    "\n",
    "comp, _ = cv_compare(estimators, data, target, grids=grids, cv=folds, scorer=f1_macro, logger=logging)\n",
    "pd.DataFrame(comp)"
   ]
  },
  {
   "cell_type": "code",
   "execution_count": 43,
   "metadata": {},
   "outputs": [],
   "source": [
    "#"
   ]
  }
 ],
 "metadata": {
  "interpreter": {
   "hash": "625f6aa541ce7a5325053710078740a357292b5fc1db12ea0274779218b7749b"
  },
  "kernelspec": {
   "display_name": "Python 3.9.5 ('venv': venv)",
   "language": "python",
   "name": "python3"
  },
  "language_info": {
   "codemirror_mode": {
    "name": "ipython",
    "version": 3
   },
   "file_extension": ".py",
   "mimetype": "text/x-python",
   "name": "python",
   "nbconvert_exporter": "python",
   "pygments_lexer": "ipython3",
   "version": "3.9.5"
  },
  "orig_nbformat": 4
 },
 "nbformat": 4,
 "nbformat_minor": 2
}
