{
 "cells": [
  {
   "cell_type": "code",
   "execution_count": 1,
   "metadata": {},
   "outputs": [],
   "source": [
    "import sys\n",
    "import pathlib\n",
    "cwd = pathlib.Path().cwd()\n",
    "sys.path.append(cwd.parent.as_posix())\n",
    "data_folder = cwd.parent.joinpath('data')\n",
    "\n",
    "import logging\n",
    "import datetime as dt\n",
    "import pandas as pd\n",
    "\n",
    "from sklearn.utils.class_weight import compute_class_weight\n",
    "from sklearn.model_selection import KFold\n",
    "from sklearn.metrics import f1_score\n",
    "from functools import partial\n",
    "\n",
    "from sklearn.pipeline import make_pipeline\n",
    "from sklearn.base import TransformerMixin\n",
    "\n",
    "from telecom.transformers import Merger, TimeDifference, Clusterer, AsDummies, PurchaseRatio, ColumnsCorrector, BasicFiller\n",
    "# from sklearn.ensemble import RandomForestClassifier\n",
    "from lightgbm import LGBMClassifier\n",
    "from auxiliary import cv_fit, whole_fit\n",
    "\n",
    "from sklearn.preprocessing import normalize\n",
    "import matplotlib.pyplot as plt\n",
    "\n",
    "FORMAT = '%(asctime)s > %(message)s'\n",
    "logging.basicConfig(filename='fit.log', level=logging.INFO, format=FORMAT)"
   ]
  },
  {
   "cell_type": "markdown",
   "metadata": {},
   "source": [
    "## load"
   ]
  },
  {
   "cell_type": "code",
   "execution_count": 2,
   "metadata": {},
   "outputs": [],
   "source": [
    "n_folds = 5\n",
    "bound_date = '2018-11-19'"
   ]
  },
  {
   "cell_type": "code",
   "execution_count": 3,
   "metadata": {},
   "outputs": [],
   "source": [
    "# read train data\n",
    "train_data = pd.read_csv(data_folder.joinpath('data_train.csv')).drop('Unnamed: 0', axis=1)\n",
    "# extract required train data\n",
    "train_data = train_data[train_data['buy_time'] >= dt.datetime.fromisoformat(bound_date).timestamp()]\n",
    "# data/target split\n",
    "data = train_data.drop('target', axis=1)\n",
    "target = train_data['target']\n",
    "\n",
    "# read compressed features\n",
    "features = pd.read_csv(data_folder.joinpath('compressed_features.csv'))\n",
    "\n",
    "# calc class weights\n",
    "class_weights = dict(enumerate(compute_class_weight('balanced', classes=[0, 1], y=train_data['target'])))\n",
    "# prepare folds for CV fit\n",
    "folds = KFold(n_splits=n_folds, shuffle=True, random_state=29)\n",
    "# prepare scoring function\n",
    "f1_macro = partial(f1_score, average='macro')"
   ]
  },
  {
   "cell_type": "markdown",
   "metadata": {},
   "source": [
    "## workspace"
   ]
  },
  {
   "cell_type": "code",
   "execution_count": 4,
   "metadata": {},
   "outputs": [
    {
     "data": {
      "text/html": [
       "<div>\n",
       "<style scoped>\n",
       "    .dataframe tbody tr th:only-of-type {\n",
       "        vertical-align: middle;\n",
       "    }\n",
       "\n",
       "    .dataframe tbody tr th {\n",
       "        vertical-align: top;\n",
       "    }\n",
       "\n",
       "    .dataframe thead th {\n",
       "        text-align: right;\n",
       "    }\n",
       "</style>\n",
       "<table border=\"1\" class=\"dataframe\">\n",
       "  <thead>\n",
       "    <tr style=\"text-align: right;\">\n",
       "      <th></th>\n",
       "      <th>id</th>\n",
       "      <th>vas_id</th>\n",
       "      <th>train_time</th>\n",
       "      <th>feats_time</th>\n",
       "      <th>0</th>\n",
       "      <th>1</th>\n",
       "      <th>2</th>\n",
       "      <th>time_diff</th>\n",
       "      <th>cluster</th>\n",
       "      <th>target</th>\n",
       "    </tr>\n",
       "  </thead>\n",
       "  <tbody>\n",
       "    <tr>\n",
       "      <th>6</th>\n",
       "      <td>2611143</td>\n",
       "      <td>2.0</td>\n",
       "      <td>1544994000</td>\n",
       "      <td>1.533503e+09</td>\n",
       "      <td>6.779413e+08</td>\n",
       "      <td>-2.634963e+08</td>\n",
       "      <td>-8.669099e+07</td>\n",
       "      <td>133</td>\n",
       "      <td>4</td>\n",
       "      <td>0.0</td>\n",
       "    </tr>\n",
       "    <tr>\n",
       "      <th>7</th>\n",
       "      <td>3577737</td>\n",
       "      <td>5.0</td>\n",
       "      <td>1545598800</td>\n",
       "      <td>1.531084e+09</td>\n",
       "      <td>2.525749e+08</td>\n",
       "      <td>1.176470e+09</td>\n",
       "      <td>-1.521874e+08</td>\n",
       "      <td>168</td>\n",
       "      <td>2</td>\n",
       "      <td>0.0</td>\n",
       "    </tr>\n",
       "    <tr>\n",
       "      <th>9</th>\n",
       "      <td>1232876</td>\n",
       "      <td>2.0</td>\n",
       "      <td>1544994000</td>\n",
       "      <td>1.532293e+09</td>\n",
       "      <td>2.518684e+08</td>\n",
       "      <td>1.178862e+09</td>\n",
       "      <td>-1.522962e+08</td>\n",
       "      <td>147</td>\n",
       "      <td>2</td>\n",
       "      <td>0.0</td>\n",
       "    </tr>\n",
       "    <tr>\n",
       "      <th>22</th>\n",
       "      <td>1054880</td>\n",
       "      <td>1.0</td>\n",
       "      <td>1544994000</td>\n",
       "      <td>1.535922e+09</td>\n",
       "      <td>1.936687e+08</td>\n",
       "      <td>1.252885e+09</td>\n",
       "      <td>1.229307e+09</td>\n",
       "      <td>105</td>\n",
       "      <td>7</td>\n",
       "      <td>0.0</td>\n",
       "    </tr>\n",
       "    <tr>\n",
       "      <th>24</th>\n",
       "      <td>1759351</td>\n",
       "      <td>2.0</td>\n",
       "      <td>1546203600</td>\n",
       "      <td>1.544389e+09</td>\n",
       "      <td>6.779413e+08</td>\n",
       "      <td>-2.634963e+08</td>\n",
       "      <td>-8.669099e+07</td>\n",
       "      <td>21</td>\n",
       "      <td>4</td>\n",
       "      <td>0.0</td>\n",
       "    </tr>\n",
       "  </tbody>\n",
       "</table>\n",
       "</div>"
      ],
      "text/plain": [
       "         id  vas_id  train_time  ...  time_diff  cluster  target\n",
       "6   2611143     2.0  1544994000  ...        133        4     0.0\n",
       "7   3577737     5.0  1545598800  ...        168        2     0.0\n",
       "9   1232876     2.0  1544994000  ...        147        2     0.0\n",
       "22  1054880     1.0  1544994000  ...        105        7     0.0\n",
       "24  1759351     2.0  1546203600  ...         21        4     0.0\n",
       "\n",
       "[5 rows x 10 columns]"
      ]
     },
     "execution_count": 4,
     "metadata": {},
     "output_type": "execute_result"
    }
   ],
   "source": [
    "# prepare dataset for feature engineering\n",
    "pipeline = make_pipeline(\n",
    "    # Merger(features, method='backward', fillna='nearest'),\n",
    "    Merger(features, method='backward', fillna='mean'),\n",
    "    TimeDifference('feats_time', 'train_time'),\n",
    "    Clusterer(['0', '1', '2'], n_clusters=8, random_state=13),\n",
    "    \n",
    ")\n",
    "ft = pipeline.fit_transform(data, target)\n",
    "ft['target'] = target.values\n",
    "ft.head()"
   ]
  },
  {
   "cell_type": "code",
   "execution_count": null,
   "metadata": {},
   "outputs": [],
   "source": []
  },
  {
   "cell_type": "markdown",
   "metadata": {},
   "source": [
    "## data overview"
   ]
  },
  {
   "cell_type": "code",
   "execution_count": 44,
   "metadata": {},
   "outputs": [
    {
     "data": {
      "text/html": [
       "<div>\n",
       "<style scoped>\n",
       "    .dataframe tbody tr th:only-of-type {\n",
       "        vertical-align: middle;\n",
       "    }\n",
       "\n",
       "    .dataframe tbody tr th {\n",
       "        vertical-align: top;\n",
       "    }\n",
       "\n",
       "    .dataframe thead th {\n",
       "        text-align: right;\n",
       "    }\n",
       "</style>\n",
       "<table border=\"1\" class=\"dataframe\">\n",
       "  <thead>\n",
       "    <tr style=\"text-align: right;\">\n",
       "      <th></th>\n",
       "      <th>vas_id</th>\n",
       "      <th>0</th>\n",
       "      <th>1</th>\n",
       "      <th>2</th>\n",
       "      <th>cluster</th>\n",
       "      <th>purchase_ratio</th>\n",
       "    </tr>\n",
       "  </thead>\n",
       "  <tbody>\n",
       "    <tr>\n",
       "      <th>0</th>\n",
       "      <td>2.0</td>\n",
       "      <td>6.779413e+08</td>\n",
       "      <td>-2.634963e+08</td>\n",
       "      <td>-8.669099e+07</td>\n",
       "      <td>4.0</td>\n",
       "      <td>0.026010</td>\n",
       "    </tr>\n",
       "    <tr>\n",
       "      <th>1</th>\n",
       "      <td>5.0</td>\n",
       "      <td>2.525749e+08</td>\n",
       "      <td>1.176470e+09</td>\n",
       "      <td>-1.521874e+08</td>\n",
       "      <td>2.0</td>\n",
       "      <td>0.022268</td>\n",
       "    </tr>\n",
       "    <tr>\n",
       "      <th>2</th>\n",
       "      <td>2.0</td>\n",
       "      <td>2.518684e+08</td>\n",
       "      <td>1.178862e+09</td>\n",
       "      <td>-1.522962e+08</td>\n",
       "      <td>2.0</td>\n",
       "      <td>0.027333</td>\n",
       "    </tr>\n",
       "    <tr>\n",
       "      <th>3</th>\n",
       "      <td>1.0</td>\n",
       "      <td>1.936687e+08</td>\n",
       "      <td>1.252885e+09</td>\n",
       "      <td>1.229307e+09</td>\n",
       "      <td>7.0</td>\n",
       "      <td>0.057143</td>\n",
       "    </tr>\n",
       "    <tr>\n",
       "      <th>4</th>\n",
       "      <td>2.0</td>\n",
       "      <td>6.779413e+08</td>\n",
       "      <td>-2.634963e+08</td>\n",
       "      <td>-8.669099e+07</td>\n",
       "      <td>4.0</td>\n",
       "      <td>0.026010</td>\n",
       "    </tr>\n",
       "    <tr>\n",
       "      <th>...</th>\n",
       "      <td>...</td>\n",
       "      <td>...</td>\n",
       "      <td>...</td>\n",
       "      <td>...</td>\n",
       "      <td>...</td>\n",
       "      <td>...</td>\n",
       "    </tr>\n",
       "    <tr>\n",
       "      <th>282178</th>\n",
       "      <td>2.0</td>\n",
       "      <td>6.779413e+08</td>\n",
       "      <td>-2.634963e+08</td>\n",
       "      <td>-8.669099e+07</td>\n",
       "      <td>4.0</td>\n",
       "      <td>0.026010</td>\n",
       "    </tr>\n",
       "    <tr>\n",
       "      <th>282179</th>\n",
       "      <td>2.0</td>\n",
       "      <td>6.779413e+08</td>\n",
       "      <td>-2.634963e+08</td>\n",
       "      <td>-8.669099e+07</td>\n",
       "      <td>4.0</td>\n",
       "      <td>0.026010</td>\n",
       "    </tr>\n",
       "    <tr>\n",
       "      <th>282180</th>\n",
       "      <td>2.0</td>\n",
       "      <td>6.779413e+08</td>\n",
       "      <td>-2.634963e+08</td>\n",
       "      <td>-8.669099e+07</td>\n",
       "      <td>4.0</td>\n",
       "      <td>0.026010</td>\n",
       "    </tr>\n",
       "    <tr>\n",
       "      <th>282181</th>\n",
       "      <td>2.0</td>\n",
       "      <td>6.779413e+08</td>\n",
       "      <td>-2.634963e+08</td>\n",
       "      <td>-8.669099e+07</td>\n",
       "      <td>4.0</td>\n",
       "      <td>0.026010</td>\n",
       "    </tr>\n",
       "    <tr>\n",
       "      <th>282182</th>\n",
       "      <td>2.0</td>\n",
       "      <td>-7.989159e+08</td>\n",
       "      <td>-7.015225e+08</td>\n",
       "      <td>-1.254349e+08</td>\n",
       "      <td>1.0</td>\n",
       "      <td>0.023094</td>\n",
       "    </tr>\n",
       "  </tbody>\n",
       "</table>\n",
       "<p>282183 rows × 6 columns</p>\n",
       "</div>"
      ],
      "text/plain": [
       "        vas_id             0             1             2  cluster  \\\n",
       "0          2.0  6.779413e+08 -2.634963e+08 -8.669099e+07      4.0   \n",
       "1          5.0  2.525749e+08  1.176470e+09 -1.521874e+08      2.0   \n",
       "2          2.0  2.518684e+08  1.178862e+09 -1.522962e+08      2.0   \n",
       "3          1.0  1.936687e+08  1.252885e+09  1.229307e+09      7.0   \n",
       "4          2.0  6.779413e+08 -2.634963e+08 -8.669099e+07      4.0   \n",
       "...        ...           ...           ...           ...      ...   \n",
       "282178     2.0  6.779413e+08 -2.634963e+08 -8.669099e+07      4.0   \n",
       "282179     2.0  6.779413e+08 -2.634963e+08 -8.669099e+07      4.0   \n",
       "282180     2.0  6.779413e+08 -2.634963e+08 -8.669099e+07      4.0   \n",
       "282181     2.0  6.779413e+08 -2.634963e+08 -8.669099e+07      4.0   \n",
       "282182     2.0 -7.989159e+08 -7.015225e+08 -1.254349e+08      1.0   \n",
       "\n",
       "        purchase_ratio  \n",
       "0             0.026010  \n",
       "1             0.022268  \n",
       "2             0.027333  \n",
       "3             0.057143  \n",
       "4             0.026010  \n",
       "...                ...  \n",
       "282178        0.026010  \n",
       "282179        0.026010  \n",
       "282180        0.026010  \n",
       "282181        0.026010  \n",
       "282182        0.023094  \n",
       "\n",
       "[282183 rows x 6 columns]"
      ]
     },
     "execution_count": 44,
     "metadata": {},
     "output_type": "execute_result"
    }
   ],
   "source": [
    "# pipeline = make_pipeline(\n",
    "#     # Merger(features, method='backward', fillna='nearest'),\n",
    "#     Merger(features, method='backward', fillna='mean'),\n",
    "#     # TimeDifference('feats_time', 'train_time'),\n",
    "    \n",
    "#     Clusterer(['0', '1', '2'], n_clusters=8, random_state=13),\n",
    "#     # AsDummies(['cluster']),\n",
    "#     PurchaseRatio(by=['cluster']),\n",
    "\n",
    "#     ColumnsCorrector('drop', ['id', 'train_time', 'feats_time',]),\n",
    "#     BasicFiller(strategy='mean', apply_on_fly=True),\n",
    "# )\n",
    "# pipeline.fit_transform(data, target)"
   ]
  },
  {
   "cell_type": "markdown",
   "metadata": {},
   "source": [
    "## manual fit"
   ]
  },
  {
   "cell_type": "code",
   "execution_count": 5,
   "metadata": {},
   "outputs": [
    {
     "name": "stdout",
     "output_type": "stream",
     "text": [
      "[CVFIT] Pipeline: 0.7533358612482944\n",
      "[WHOLE] Pipeline: 0.75460727893761\n"
     ]
    }
   ],
   "source": [
    "# final pipeline\n",
    "pipeline = make_pipeline(\n",
    "    # Merger(features, method='backward', fillna='nearest'),\n",
    "    Merger(features, method='backward', fillna='mean'),\n",
    "    TimeDifference('feats_time', 'train_time'),\n",
    "    Clusterer(['0', '1', '2'], n_clusters=8, random_state=13),\n",
    "    # AsDummies(['cluster']),\n",
    "    PurchaseRatio(by=['cluster']),\n",
    "    ColumnsCorrector('drop', ['id', 'train_time', 'feats_time',]),\n",
    "    BasicFiller(strategy='mean', apply_on_fly=True),\n",
    "    \n",
    "    # RandomForestClassifier(random_state=17, n_jobs=-1, class_weight=class_weights,)\n",
    "    LGBMClassifier(random_state=17, n_jobs=-1, class_weight=class_weights,)\n",
    ")\n",
    "\n",
    "avg, _, _ = cv_fit(pipeline, data, target, cv=folds, scorer=f1_macro, logger=logging, prefix='[CVFIT]')\n",
    "score, model = whole_fit(pipeline, data, target, scorer=f1_macro, logger=logging, prefix='[WHOLE]')"
   ]
  },
  {
   "cell_type": "markdown",
   "metadata": {},
   "source": [
    "## feature importances"
   ]
  },
  {
   "cell_type": "code",
   "execution_count": 24,
   "metadata": {},
   "outputs": [],
   "source": [
    "# score, model = whole_fit(pipeline, data, target, scorer=f1_macro, logger=logging, prefix='[WHOLE]')"
   ]
  },
  {
   "cell_type": "code",
   "execution_count": 6,
   "metadata": {},
   "outputs": [
    {
     "data": {
      "image/png": "[encoded data removed]",
      "text/plain": [
       "<Figure size 576x432 with 1 Axes>"
      ]
     },
     "metadata": {
      "needs_background": "light"
     },
     "output_type": "display_data"
    }
   ],
   "source": [
    "sorted_importances = sorted(normalize([model[-1].feature_importances_])[0])\n",
    "\n",
    "fig = plt.figure(figsize=(8, 6))\n",
    "plt.title(f'Feature importances [{model[-1].__class__.__name__}]')\n",
    "cmap = plt.get_cmap('CMRmap')(sorted_importances)\n",
    "plt.barh(model[-1].feature_name_, sorted_importances, color=cmap);"
   ]
  },
  {
   "cell_type": "code",
   "execution_count": null,
   "metadata": {},
   "outputs": [],
   "source": [
    "#"
   ]
  }
 ],
 "metadata": {
  "interpreter": {
   "hash": "d90a7511b44e26062c54f2bc9e753a4fcf24e14550b703ca1e7fb969fd68a2ad"
  },
  "kernelspec": {
   "display_name": "Python 3.9.5 ('venv': venv)",
   "language": "python",
   "name": "python3"
  },
  "language_info": {
   "codemirror_mode": {
    "name": "ipython",
    "version": 3
   },
   "file_extension": ".py",
   "mimetype": "text/x-python",
   "name": "python",
   "nbconvert_exporter": "python",
   "pygments_lexer": "ipython3",
   "version": "3.9.5"
  },
  "orig_nbformat": 4
 },
 "nbformat": 4,
 "nbformat_minor": 2
}
