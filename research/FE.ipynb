{
 "cells": [
  {
   "cell_type": "code",
   "execution_count": 1,
   "metadata": {},
   "outputs": [],
   "source": [
    "import sys\n",
    "import pathlib\n",
    "cwd = pathlib.Path().cwd()\n",
    "sys.path.append(cwd.parent.as_posix())\n",
    "data_folder = cwd.parent.joinpath('data')\n",
    "\n",
    "import logging\n",
    "import datetime as dt\n",
    "import pandas as pd\n",
    "\n",
    "from sklearn.utils.class_weight import compute_class_weight\n",
    "from sklearn.model_selection import KFold\n",
    "from sklearn.metrics import f1_score\n",
    "from functools import partial\n",
    "\n",
    "from sklearn.pipeline import make_pipeline\n",
    "from sklearn.base import TransformerMixin\n",
    "\n",
    "from dags.jobs.transformers import Merger, TimeDifference, Clusterer, AsDummies, PurchaseRatio, ColumnsCorrector, BasicFiller\n",
    "from sklearn.ensemble import RandomForestClassifier\n",
    "from auxiliary import cv_fit, whole_fit\n",
    "\n",
    "import matplotlib.pyplot as plt\n",
    "\n",
    "FORMAT = '%(asctime)s > %(message)s'\n",
    "logging.basicConfig(filename='fit.log', level=logging.INFO, format=FORMAT)"
   ]
  },
  {
   "cell_type": "markdown",
   "metadata": {},
   "source": [
    "## load"
   ]
  },
  {
   "cell_type": "code",
   "execution_count": 2,
   "metadata": {},
   "outputs": [],
   "source": [
    "n_folds = 5\n",
    "bound_date = '2018-11-19'"
   ]
  },
  {
   "cell_type": "code",
   "execution_count": 3,
   "metadata": {},
   "outputs": [],
   "source": [
    "# read train data\n",
    "train_data = pd.read_csv(data_folder.joinpath('data_train.csv')).drop('Unnamed: 0', axis=1)\n",
    "# extract required train data\n",
    "train_data = train_data[train_data['buy_time'] >= dt.datetime.fromisoformat(bound_date).timestamp()]\n",
    "# data/target split\n",
    "data = train_data.drop('target', axis=1)\n",
    "target = train_data['target']\n",
    "\n",
    "# read compressed features\n",
    "features = pd.read_csv(data_folder.joinpath('compressed_features.csv'))\n",
    "\n",
    "# calc class weights\n",
    "class_weights = dict(enumerate(compute_class_weight('balanced', classes=[0, 1], y=train_data['target'])))\n",
    "# prepare folds for CV fit\n",
    "folds = KFold(n_splits=n_folds, shuffle=True, random_state=29)\n",
    "# prepare scoring function\n",
    "f1_macro = partial(f1_score, average='macro')"
   ]
  },
  {
   "cell_type": "markdown",
   "metadata": {},
   "source": [
    "## workspace"
   ]
  },
  {
   "cell_type": "code",
   "execution_count": 6,
   "metadata": {},
   "outputs": [
    {
     "data": {
      "text/html": [
       "<div>\n",
       "<style scoped>\n",
       "    .dataframe tbody tr th:only-of-type {\n",
       "        vertical-align: middle;\n",
       "    }\n",
       "\n",
       "    .dataframe tbody tr th {\n",
       "        vertical-align: top;\n",
       "    }\n",
       "\n",
       "    .dataframe thead th {\n",
       "        text-align: right;\n",
       "    }\n",
       "</style>\n",
       "<table border=\"1\" class=\"dataframe\">\n",
       "  <thead>\n",
       "    <tr style=\"text-align: right;\">\n",
       "      <th></th>\n",
       "      <th>id</th>\n",
       "      <th>vas_id</th>\n",
       "      <th>train_time</th>\n",
       "      <th>feats_time</th>\n",
       "      <th>0</th>\n",
       "      <th>1</th>\n",
       "      <th>2</th>\n",
       "      <th>time_diff</th>\n",
       "      <th>cluster</th>\n",
       "      <th>target</th>\n",
       "    </tr>\n",
       "  </thead>\n",
       "  <tbody>\n",
       "    <tr>\n",
       "      <th>6</th>\n",
       "      <td>2611143.0</td>\n",
       "      <td>2.0</td>\n",
       "      <td>1.544994e+09</td>\n",
       "      <td>1.533503e+09</td>\n",
       "      <td>6.779413e+08</td>\n",
       "      <td>-2.634963e+08</td>\n",
       "      <td>-8.669099e+07</td>\n",
       "      <td>133</td>\n",
       "      <td>1</td>\n",
       "      <td>0.0</td>\n",
       "    </tr>\n",
       "    <tr>\n",
       "      <th>7</th>\n",
       "      <td>3577737.0</td>\n",
       "      <td>5.0</td>\n",
       "      <td>1.545599e+09</td>\n",
       "      <td>1.531084e+09</td>\n",
       "      <td>2.525749e+08</td>\n",
       "      <td>1.176470e+09</td>\n",
       "      <td>-1.521874e+08</td>\n",
       "      <td>168</td>\n",
       "      <td>3</td>\n",
       "      <td>0.0</td>\n",
       "    </tr>\n",
       "    <tr>\n",
       "      <th>9</th>\n",
       "      <td>1232876.0</td>\n",
       "      <td>2.0</td>\n",
       "      <td>1.544994e+09</td>\n",
       "      <td>1.532293e+09</td>\n",
       "      <td>2.518684e+08</td>\n",
       "      <td>1.178862e+09</td>\n",
       "      <td>-1.522962e+08</td>\n",
       "      <td>147</td>\n",
       "      <td>3</td>\n",
       "      <td>0.0</td>\n",
       "    </tr>\n",
       "    <tr>\n",
       "      <th>22</th>\n",
       "      <td>1054880.0</td>\n",
       "      <td>1.0</td>\n",
       "      <td>1.544994e+09</td>\n",
       "      <td>1.535922e+09</td>\n",
       "      <td>1.936687e+08</td>\n",
       "      <td>1.252885e+09</td>\n",
       "      <td>1.229307e+09</td>\n",
       "      <td>105</td>\n",
       "      <td>0</td>\n",
       "      <td>0.0</td>\n",
       "    </tr>\n",
       "    <tr>\n",
       "      <th>24</th>\n",
       "      <td>1759351.0</td>\n",
       "      <td>2.0</td>\n",
       "      <td>1.546204e+09</td>\n",
       "      <td>1.544389e+09</td>\n",
       "      <td>6.779413e+08</td>\n",
       "      <td>-2.634963e+08</td>\n",
       "      <td>-8.669099e+07</td>\n",
       "      <td>21</td>\n",
       "      <td>1</td>\n",
       "      <td>0.0</td>\n",
       "    </tr>\n",
       "  </tbody>\n",
       "</table>\n",
       "</div>"
      ],
      "text/plain": [
       "           id  vas_id    train_time    feats_time             0             1  \\\n",
       "6   2611143.0     2.0  1.544994e+09  1.533503e+09  6.779413e+08 -2.634963e+08   \n",
       "7   3577737.0     5.0  1.545599e+09  1.531084e+09  2.525749e+08  1.176470e+09   \n",
       "9   1232876.0     2.0  1.544994e+09  1.532293e+09  2.518684e+08  1.178862e+09   \n",
       "22  1054880.0     1.0  1.544994e+09  1.535922e+09  1.936687e+08  1.252885e+09   \n",
       "24  1759351.0     2.0  1.546204e+09  1.544389e+09  6.779413e+08 -2.634963e+08   \n",
       "\n",
       "               2  time_diff  cluster  target  \n",
       "6  -8.669099e+07        133        1     0.0  \n",
       "7  -1.521874e+08        168        3     0.0  \n",
       "9  -1.522962e+08        147        3     0.0  \n",
       "22  1.229307e+09        105        0     0.0  \n",
       "24 -8.669099e+07         21        1     0.0  "
      ]
     },
     "execution_count": 6,
     "metadata": {},
     "output_type": "execute_result"
    }
   ],
   "source": [
    "# prepare dataset for feature engineering\n",
    "pipeline = make_pipeline(\n",
    "    Merger(features, method='backward', fillna='nearest'),\n",
    "    TimeDifference('feats_time', 'train_time'),\n",
    "    Clusterer(['0', '1', '2'], n_clusters=8, random_state=13),\n",
    "    \n",
    ")\n",
    "ft = pipeline.fit_transform(data, target)\n",
    "ft['target'] = target.values\n",
    "ft.head()"
   ]
  },
  {
   "cell_type": "code",
   "execution_count": null,
   "metadata": {},
   "outputs": [],
   "source": []
  },
  {
   "cell_type": "markdown",
   "metadata": {},
   "source": [
    "## data overview"
   ]
  },
  {
   "cell_type": "code",
   "execution_count": 14,
   "metadata": {},
   "outputs": [],
   "source": [
    "# pipeline = make_pipeline(\n",
    "#     Merger(features, method='backward', fillna='nearest'),\n",
    "#     TimeDifference('feats_time', 'train_time'),\n",
    "    \n",
    "#     Clusterer(['0', '1', '2'], n_clusters=8, random_state=13),\n",
    "#     AsDummies(['cluster']),\n",
    "#     PurchaseRatio(by=['cluster']),\n",
    "\n",
    "#     ColumnsCorrector('drop', ['id', 'train_time', 'feats_time', 'cluster']),\n",
    "#     BasicFiller('mean', apply_on_fly=True),\n",
    "# )\n",
    "# pipeline.fit_transform(data, target)"
   ]
  },
  {
   "cell_type": "markdown",
   "metadata": {},
   "source": [
    "## manual fit"
   ]
  },
  {
   "cell_type": "code",
   "execution_count": 4,
   "metadata": {},
   "outputs": [
    {
     "name": "stdout",
     "output_type": "stream",
     "text": [
      "[CVFIT] Pipeline: 0.7388517172290339\n"
     ]
    }
   ],
   "source": [
    "# final pipeline\n",
    "pipeline = make_pipeline(\n",
    "    Merger(features, method='backward', fillna='nearest'),\n",
    "    TimeDifference('feats_time', 'train_time'),\n",
    "    \n",
    "    Clusterer(['0', '1', '2'], n_clusters=8, random_state=13),\n",
    "    # AsDummies(['cluster']),\n",
    "    PurchaseRatio(by=['cluster']),\n",
    "\n",
    "    ColumnsCorrector('drop', ['id', 'train_time', 'feats_time']),\n",
    "    BasicFiller('mean', apply_on_fly=True),\n",
    "    RandomForestClassifier(random_state=17, class_weight=class_weights, n_jobs=-1,\n",
    "                           n_estimators=200,\n",
    "                        #    max_depth=6,\n",
    "                           min_samples_leaf=4,\n",
    "                        #    ccp_alpha=0.1,\n",
    "                           )\n",
    ")\n",
    "\n",
    "avg, _, _ = cv_fit(pipeline, data, target, cv=folds, scorer=f1_macro, logger=logging, prefix='[CVFIT]')\n",
    "# score, model = whole_fit(pipeline, data, target, scorer=f1_macro, logger=logging, prefix='[WHOLE]')"
   ]
  },
  {
   "cell_type": "code",
   "execution_count": null,
   "metadata": {},
   "outputs": [],
   "source": [
    "# [CVFIT] Pipeline: 0.7204945029996006\n",
    "# [WHOLE] Pipeline: 0.8262084922113262\n",
    "\n",
    "# [WHOLE] Pipeline: 0.7718903919142219"
   ]
  },
  {
   "cell_type": "code",
   "execution_count": 11,
   "metadata": {},
   "outputs": [
    {
     "name": "stdout",
     "output_type": "stream",
     "text": [
      "[RS] [CVFIT] Pipeline: 0.7200951125090721\n",
      "step #1/3: 0.7200951125090721\n",
      "[RS] [CVFIT] Pipeline: 0.7197676499138935\n",
      "step #2/3: 0.7197676499138935\n",
      "[RS] [CVFIT] Pipeline: 0.7204335737757693\n",
      "step #3/3: 0.7204335737757693\n",
      "Avg. RS metric: 0.7200987787329116\n"
     ]
    }
   ],
   "source": [
    "# check for random states stability\n",
    "N_RANGE = 3\n",
    "\n",
    "rs_temp = pipeline[-1].get_params()['random_state']\n",
    "pipeline[-1].set_params(random_state=None)\n",
    "metrics = []\n",
    "for n in range(N_RANGE):\n",
    "    pipeline.fit(data, target)\n",
    "    score, _, _ = cv_fit(pipeline, data, target, cv=folds, scorer=f1_macro, logger=logging, prefix='[RS] [CVFIT]')\n",
    "    # score = f1_score(target, pipeline.predict(data), average='macro')\n",
    "    metrics.append(score)\n",
    "    print(f'step {n + 1}/{N_RANGE}: {score}')\n",
    "pipeline[-1].set_params(random_state=rs_temp)\n",
    "print(f'Avg. RS metric: {sum(metrics) / len(metrics)}')"
   ]
  },
  {
   "cell_type": "markdown",
   "metadata": {},
   "source": [
    "## feature importances"
   ]
  },
  {
   "cell_type": "code",
   "execution_count": 12,
   "metadata": {},
   "outputs": [
    {
     "data": {
      "image/png": "[encoded data removed]",
      "text/plain": [
       "<Figure size 576x432 with 1 Axes>"
      ]
     },
     "metadata": {
      "needs_background": "light"
     },
     "output_type": "display_data"
    }
   ],
   "source": [
    "sorted_importances = sorted(model[-1].feature_importances_)\n",
    "\n",
    "fig = plt.figure(figsize=(8, 6))\n",
    "plt.title(f'Feature importances [{model[-1].__class__.__name__}]')\n",
    "cmap = plt.get_cmap('CMRmap')(sorted_importances)\n",
    "plt.barh(model[-1].feature_names_in_, sorted_importances, color=cmap);"
   ]
  },
  {
   "cell_type": "markdown",
   "metadata": {},
   "source": [
    "## conclusion"
   ]
  },
  {
   "cell_type": "markdown",
   "metadata": {},
   "source": [
    "Признак кластера совершенно бесполезен как dummies, но имеет вес в нераздленном виде. Производный признак `purchase_ratio` демонстрирует высокую значимость, хотя эмпирически на метрике не отражается."
   ]
  },
  {
   "cell_type": "code",
   "execution_count": null,
   "metadata": {},
   "outputs": [],
   "source": [
    "#"
   ]
  }
 ],
 "metadata": {
  "interpreter": {
   "hash": "640c51100e274691c95d806a7ccd6644471389bc5645617a235cf15fd8210a7a"
  },
  "kernelspec": {
   "display_name": "Python 3.9.5 ('venv': venv)",
   "language": "python",
   "name": "python3"
  },
  "language_info": {
   "codemirror_mode": {
    "name": "ipython",
    "version": 3
   },
   "file_extension": ".py",
   "mimetype": "text/x-python",
   "name": "python",
   "nbconvert_exporter": "python",
   "pygments_lexer": "ipython3",
   "version": "3.9.5"
  },
  "orig_nbformat": 4
 },
 "nbformat": 4,
 "nbformat_minor": 2
}
